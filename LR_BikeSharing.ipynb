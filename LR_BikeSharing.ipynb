{
  "nbformat": 4,
  "nbformat_minor": 0,
  "metadata": {
    "colab": {
      "provenance": [],
      "collapsed_sections": []
    },
    "kernelspec": {
      "name": "python3",
      "display_name": "Python 3"
    },
    "language_info": {
      "name": "python"
    },
    "accelerator": "GPU",
    "gpuClass": "standard"
  },
  "cells": [
    {
      "cell_type": "markdown",
      "source": [
        "\n",
        "##Table of Contents\n",
        "###1) Business Objective\n",
        "###2) Data understanding and EDA\n",
        "- identify target variable\n",
        "- drop unncesssary and redundnat column\n",
        "- EDA\n",
        "\n",
        "###3) Data preparation\n",
        "- create dummy variables for categorical variables\n",
        "- split into traina and test sets\n",
        "-scaling\n",
        "\n",
        "\n",
        "###4) Model Building\n",
        "###5) Validation of LR assumptions\n",
        "###6) Model Prediction\n",
        "###7) Model Evaluation"
      ],
      "metadata": {
        "id": "B8Fsf67somQ7"
      }
    },
    {
      "cell_type": "code",
      "execution_count": 1,
      "metadata": {
        "colab": {
          "base_uri": "https://localhost:8080/"
        },
        "id": "Zz7wanX8mdN-",
        "outputId": "5b34260a-d196-4b12-caf2-53b5a60824de"
      },
      "outputs": [
        {
          "output_type": "stream",
          "name": "stdout",
          "text": [
            "Mounted at /content/drive\n"
          ]
        }
      ],
      "source": [
        "from google.colab import drive\n",
        "drive.mount(\"/content/drive\")"
      ]
    },
    {
      "cell_type": "markdown",
      "source": [
        "### 1) Business Objective\n",
        "To model the demand for shared bikes with the available independent variables. It will be used by the management to understand how exactly the demands vary with different features. They can accordingly manipulate the business strategy to meet the demand levels and meet the customer's expectations. Further, the model will be a good way for management to understand the demand dynamics of a new market. "
      ],
      "metadata": {
        "id": "8rLj3yaWpFa6"
      }
    },
    {
      "cell_type": "markdown",
      "source": [
        "##2) Data Understanding and EDA"
      ],
      "metadata": {
        "id": "WKBKaWRHpYRD"
      }
    },
    {
      "cell_type": "code",
      "source": [
        "# Supress Warnings\n",
        "import warnings\n",
        "warnings.filterwarnings('ignore')"
      ],
      "metadata": {
        "id": "bVGE4Y3Ts_Sj"
      },
      "execution_count": 2,
      "outputs": []
    },
    {
      "cell_type": "markdown",
      "source": [
        "Import libraries"
      ],
      "metadata": {
        "id": "rmYfriduphoq"
      }
    },
    {
      "cell_type": "code",
      "source": [
        "#Library for data manipulation\n",
        "import pandas as pd\n",
        "#Library for scientific calculation\n",
        "import numpy as np\n",
        "\n",
        "#libraries for data visulalization\n",
        "import matplotlib.pyplot as plt\n",
        "import seaborn as sns\n",
        "\n",
        "# importing libraries from sklearn \n",
        "# module for split into train and test sets\n",
        "from sklearn.model_selection import train_test_split\n",
        "# module for scaling the variables \n",
        "from sklearn.preprocessing import MinMaxScaler\n",
        "# Module RFE for automated feature selection\n",
        "from sklearn.feature_selection import RFE\n",
        "# Module for linear refression\n",
        "from sklearn.linear_model import LinearRegression\n",
        "\n",
        "# import metrics R2 and mean square error\n",
        "from sklearn.metrics import r2_score\n",
        "from sklearn.metrics import mean_squared_error\n",
        "\n",
        "# importing statsmodels library\n",
        "import statsmodels.api as sm\n",
        "# importing module for VIF calculation\n",
        "from statsmodels.stats.outliers_influence import variance_inflation_factor\n",
        "\n",
        "# import scipy library to use q-q plot\n",
        "import scipy as sp"
      ],
      "metadata": {
        "id": "I4v4LaH-medz"
      },
      "execution_count": 3,
      "outputs": []
    },
    {
      "cell_type": "markdown",
      "source": [
        "Load data and inspect shape"
      ],
      "metadata": {
        "id": "VUe6m2vOpx84"
      }
    },
    {
      "cell_type": "code",
      "source": [
        "#load dataset\n",
        "data = pd.read_csv(\"/content/drive/MyDrive/day.csv\")\n",
        "#View data samples\n",
        "data.shape"
      ],
      "metadata": {
        "colab": {
          "base_uri": "https://localhost:8080/"
        },
        "id": "hBDqn6OOmhn7",
        "outputId": "9cc6b2d8-c0cd-40f2-bc98-e03fe00c9fa2"
      },
      "execution_count": 4,
      "outputs": [
        {
          "output_type": "execute_result",
          "data": {
            "text/plain": [
              "(730, 16)"
            ]
          },
          "metadata": {},
          "execution_count": 4
        }
      ]
    },
    {
      "cell_type": "markdown",
      "source": [
        "So the dataset has 730 rows and 16 columns.\n",
        "Lets see few samples"
      ],
      "metadata": {
        "id": "6M9jjgHcqIAH"
      }
    },
    {
      "cell_type": "code",
      "source": [
        "data.head()"
      ],
      "metadata": {
        "id": "h9Y_cYoCncDh",
        "colab": {
          "base_uri": "https://localhost:8080/",
          "height": 270
        },
        "outputId": "7bf453b1-877f-4bb7-8b95-1d7add6dd774"
      },
      "execution_count": 5,
      "outputs": [
        {
          "output_type": "execute_result",
          "data": {
            "text/plain": [
              "   instant      dteday  season  yr  mnth  holiday  weekday  workingday  \\\n",
              "0        1  01-01-2018       1   0     1        0        6           0   \n",
              "1        2  02-01-2018       1   0     1        0        0           0   \n",
              "2        3  03-01-2018       1   0     1        0        1           1   \n",
              "3        4  04-01-2018       1   0     1        0        2           1   \n",
              "4        5  05-01-2018       1   0     1        0        3           1   \n",
              "\n",
              "   weathersit       temp     atemp      hum  windspeed  casual  registered  \\\n",
              "0           2  14.110847  18.18125  80.5833  10.749882     331         654   \n",
              "1           2  14.902598  17.68695  69.6087  16.652113     131         670   \n",
              "2           1   8.050924   9.47025  43.7273  16.636703     120        1229   \n",
              "3           1   8.200000  10.60610  59.0435  10.739832     108        1454   \n",
              "4           1   9.305237  11.46350  43.6957  12.522300      82        1518   \n",
              "\n",
              "    cnt  \n",
              "0   985  \n",
              "1   801  \n",
              "2  1349  \n",
              "3  1562  \n",
              "4  1600  "
            ],
            "text/html": [
              "\n",
              "  <div id=\"df-c40420bb-635f-480a-a08a-d76bb8273201\">\n",
              "    <div class=\"colab-df-container\">\n",
              "      <div>\n",
              "<style scoped>\n",
              "    .dataframe tbody tr th:only-of-type {\n",
              "        vertical-align: middle;\n",
              "    }\n",
              "\n",
              "    .dataframe tbody tr th {\n",
              "        vertical-align: top;\n",
              "    }\n",
              "\n",
              "    .dataframe thead th {\n",
              "        text-align: right;\n",
              "    }\n",
              "</style>\n",
              "<table border=\"1\" class=\"dataframe\">\n",
              "  <thead>\n",
              "    <tr style=\"text-align: right;\">\n",
              "      <th></th>\n",
              "      <th>instant</th>\n",
              "      <th>dteday</th>\n",
              "      <th>season</th>\n",
              "      <th>yr</th>\n",
              "      <th>mnth</th>\n",
              "      <th>holiday</th>\n",
              "      <th>weekday</th>\n",
              "      <th>workingday</th>\n",
              "      <th>weathersit</th>\n",
              "      <th>temp</th>\n",
              "      <th>atemp</th>\n",
              "      <th>hum</th>\n",
              "      <th>windspeed</th>\n",
              "      <th>casual</th>\n",
              "      <th>registered</th>\n",
              "      <th>cnt</th>\n",
              "    </tr>\n",
              "  </thead>\n",
              "  <tbody>\n",
              "    <tr>\n",
              "      <th>0</th>\n",
              "      <td>1</td>\n",
              "      <td>01-01-2018</td>\n",
              "      <td>1</td>\n",
              "      <td>0</td>\n",
              "      <td>1</td>\n",
              "      <td>0</td>\n",
              "      <td>6</td>\n",
              "      <td>0</td>\n",
              "      <td>2</td>\n",
              "      <td>14.110847</td>\n",
              "      <td>18.18125</td>\n",
              "      <td>80.5833</td>\n",
              "      <td>10.749882</td>\n",
              "      <td>331</td>\n",
              "      <td>654</td>\n",
              "      <td>985</td>\n",
              "    </tr>\n",
              "    <tr>\n",
              "      <th>1</th>\n",
              "      <td>2</td>\n",
              "      <td>02-01-2018</td>\n",
              "      <td>1</td>\n",
              "      <td>0</td>\n",
              "      <td>1</td>\n",
              "      <td>0</td>\n",
              "      <td>0</td>\n",
              "      <td>0</td>\n",
              "      <td>2</td>\n",
              "      <td>14.902598</td>\n",
              "      <td>17.68695</td>\n",
              "      <td>69.6087</td>\n",
              "      <td>16.652113</td>\n",
              "      <td>131</td>\n",
              "      <td>670</td>\n",
              "      <td>801</td>\n",
              "    </tr>\n",
              "    <tr>\n",
              "      <th>2</th>\n",
              "      <td>3</td>\n",
              "      <td>03-01-2018</td>\n",
              "      <td>1</td>\n",
              "      <td>0</td>\n",
              "      <td>1</td>\n",
              "      <td>0</td>\n",
              "      <td>1</td>\n",
              "      <td>1</td>\n",
              "      <td>1</td>\n",
              "      <td>8.050924</td>\n",
              "      <td>9.47025</td>\n",
              "      <td>43.7273</td>\n",
              "      <td>16.636703</td>\n",
              "      <td>120</td>\n",
              "      <td>1229</td>\n",
              "      <td>1349</td>\n",
              "    </tr>\n",
              "    <tr>\n",
              "      <th>3</th>\n",
              "      <td>4</td>\n",
              "      <td>04-01-2018</td>\n",
              "      <td>1</td>\n",
              "      <td>0</td>\n",
              "      <td>1</td>\n",
              "      <td>0</td>\n",
              "      <td>2</td>\n",
              "      <td>1</td>\n",
              "      <td>1</td>\n",
              "      <td>8.200000</td>\n",
              "      <td>10.60610</td>\n",
              "      <td>59.0435</td>\n",
              "      <td>10.739832</td>\n",
              "      <td>108</td>\n",
              "      <td>1454</td>\n",
              "      <td>1562</td>\n",
              "    </tr>\n",
              "    <tr>\n",
              "      <th>4</th>\n",
              "      <td>5</td>\n",
              "      <td>05-01-2018</td>\n",
              "      <td>1</td>\n",
              "      <td>0</td>\n",
              "      <td>1</td>\n",
              "      <td>0</td>\n",
              "      <td>3</td>\n",
              "      <td>1</td>\n",
              "      <td>1</td>\n",
              "      <td>9.305237</td>\n",
              "      <td>11.46350</td>\n",
              "      <td>43.6957</td>\n",
              "      <td>12.522300</td>\n",
              "      <td>82</td>\n",
              "      <td>1518</td>\n",
              "      <td>1600</td>\n",
              "    </tr>\n",
              "  </tbody>\n",
              "</table>\n",
              "</div>\n",
              "      <button class=\"colab-df-convert\" onclick=\"convertToInteractive('df-c40420bb-635f-480a-a08a-d76bb8273201')\"\n",
              "              title=\"Convert this dataframe to an interactive table.\"\n",
              "              style=\"display:none;\">\n",
              "        \n",
              "  <svg xmlns=\"http://www.w3.org/2000/svg\" height=\"24px\"viewBox=\"0 0 24 24\"\n",
              "       width=\"24px\">\n",
              "    <path d=\"M0 0h24v24H0V0z\" fill=\"none\"/>\n",
              "    <path d=\"M18.56 5.44l.94 2.06.94-2.06 2.06-.94-2.06-.94-.94-2.06-.94 2.06-2.06.94zm-11 1L8.5 8.5l.94-2.06 2.06-.94-2.06-.94L8.5 2.5l-.94 2.06-2.06.94zm10 10l.94 2.06.94-2.06 2.06-.94-2.06-.94-.94-2.06-.94 2.06-2.06.94z\"/><path d=\"M17.41 7.96l-1.37-1.37c-.4-.4-.92-.59-1.43-.59-.52 0-1.04.2-1.43.59L10.3 9.45l-7.72 7.72c-.78.78-.78 2.05 0 2.83L4 21.41c.39.39.9.59 1.41.59.51 0 1.02-.2 1.41-.59l7.78-7.78 2.81-2.81c.8-.78.8-2.07 0-2.86zM5.41 20L4 18.59l7.72-7.72 1.47 1.35L5.41 20z\"/>\n",
              "  </svg>\n",
              "      </button>\n",
              "      \n",
              "  <style>\n",
              "    .colab-df-container {\n",
              "      display:flex;\n",
              "      flex-wrap:wrap;\n",
              "      gap: 12px;\n",
              "    }\n",
              "\n",
              "    .colab-df-convert {\n",
              "      background-color: #E8F0FE;\n",
              "      border: none;\n",
              "      border-radius: 50%;\n",
              "      cursor: pointer;\n",
              "      display: none;\n",
              "      fill: #1967D2;\n",
              "      height: 32px;\n",
              "      padding: 0 0 0 0;\n",
              "      width: 32px;\n",
              "    }\n",
              "\n",
              "    .colab-df-convert:hover {\n",
              "      background-color: #E2EBFA;\n",
              "      box-shadow: 0px 1px 2px rgba(60, 64, 67, 0.3), 0px 1px 3px 1px rgba(60, 64, 67, 0.15);\n",
              "      fill: #174EA6;\n",
              "    }\n",
              "\n",
              "    [theme=dark] .colab-df-convert {\n",
              "      background-color: #3B4455;\n",
              "      fill: #D2E3FC;\n",
              "    }\n",
              "\n",
              "    [theme=dark] .colab-df-convert:hover {\n",
              "      background-color: #434B5C;\n",
              "      box-shadow: 0px 1px 3px 1px rgba(0, 0, 0, 0.15);\n",
              "      filter: drop-shadow(0px 1px 2px rgba(0, 0, 0, 0.3));\n",
              "      fill: #FFFFFF;\n",
              "    }\n",
              "  </style>\n",
              "\n",
              "      <script>\n",
              "        const buttonEl =\n",
              "          document.querySelector('#df-c40420bb-635f-480a-a08a-d76bb8273201 button.colab-df-convert');\n",
              "        buttonEl.style.display =\n",
              "          google.colab.kernel.accessAllowed ? 'block' : 'none';\n",
              "\n",
              "        async function convertToInteractive(key) {\n",
              "          const element = document.querySelector('#df-c40420bb-635f-480a-a08a-d76bb8273201');\n",
              "          const dataTable =\n",
              "            await google.colab.kernel.invokeFunction('convertToInteractive',\n",
              "                                                     [key], {});\n",
              "          if (!dataTable) return;\n",
              "\n",
              "          const docLinkHtml = 'Like what you see? Visit the ' +\n",
              "            '<a target=\"_blank\" href=https://colab.research.google.com/notebooks/data_table.ipynb>data table notebook</a>'\n",
              "            + ' to learn more about interactive tables.';\n",
              "          element.innerHTML = '';\n",
              "          dataTable['output_type'] = 'display_data';\n",
              "          await google.colab.output.renderOutput(dataTable, element);\n",
              "          const docLink = document.createElement('div');\n",
              "          docLink.innerHTML = docLinkHtml;\n",
              "          element.appendChild(docLink);\n",
              "        }\n",
              "      </script>\n",
              "    </div>\n",
              "  </div>\n",
              "  "
            ]
          },
          "metadata": {},
          "execution_count": 5
        }
      ]
    },
    {
      "cell_type": "markdown",
      "source": [
        "We see mix of different types of variables. Lets see the dataset information."
      ],
      "metadata": {
        "id": "onI63Vxcq6P6"
      }
    },
    {
      "cell_type": "markdown",
      "source": [
        "## Data quality check"
      ],
      "metadata": {
        "id": "kw2MDV70EX9U"
      }
    },
    {
      "cell_type": "code",
      "source": [
        "data.info()"
      ],
      "metadata": {
        "colab": {
          "base_uri": "https://localhost:8080/"
        },
        "id": "ItEpwf0fqxl_",
        "outputId": "64a9c592-5494-4cdf-a040-00bf7a5aee7f"
      },
      "execution_count": 6,
      "outputs": [
        {
          "output_type": "stream",
          "name": "stdout",
          "text": [
            "<class 'pandas.core.frame.DataFrame'>\n",
            "RangeIndex: 730 entries, 0 to 729\n",
            "Data columns (total 16 columns):\n",
            " #   Column      Non-Null Count  Dtype  \n",
            "---  ------      --------------  -----  \n",
            " 0   instant     730 non-null    int64  \n",
            " 1   dteday      730 non-null    object \n",
            " 2   season      730 non-null    int64  \n",
            " 3   yr          730 non-null    int64  \n",
            " 4   mnth        730 non-null    int64  \n",
            " 5   holiday     730 non-null    int64  \n",
            " 6   weekday     730 non-null    int64  \n",
            " 7   workingday  730 non-null    int64  \n",
            " 8   weathersit  730 non-null    int64  \n",
            " 9   temp        730 non-null    float64\n",
            " 10  atemp       730 non-null    float64\n",
            " 11  hum         730 non-null    float64\n",
            " 12  windspeed   730 non-null    float64\n",
            " 13  casual      730 non-null    int64  \n",
            " 14  registered  730 non-null    int64  \n",
            " 15  cnt         730 non-null    int64  \n",
            "dtypes: float64(4), int64(11), object(1)\n",
            "memory usage: 91.4+ KB\n"
          ]
        }
      ]
    },
    {
      "cell_type": "markdown",
      "source": [
        "We see that there are mix of different variable types. \n",
        "\n",
        "Variables ''instant,'temp', 'atemp', 'hum', 'windspeed', 'cnt' are of correct datatype as intended.\n",
        "\n",
        "According to data dictionary, categorical variables are encoded. Lets see if they are correctly encoded."
      ],
      "metadata": {
        "id": "MXNygcNfrhjn"
      }
    },
    {
      "cell_type": "code",
      "source": [
        "# print unique value in of each categorical variables.\n",
        "cat_var = ['season', 'yr', 'mnth', 'holiday', 'weekday', 'workingday','weathersit']\n",
        "for i in cat_var:\n",
        "  print(\"values in\" ,i,data[i].unique())"
      ],
      "metadata": {
        "colab": {
          "base_uri": "https://localhost:8080/"
        },
        "id": "lFmLUN24Hhmk",
        "outputId": "df7c528c-587a-428e-8393-8bcf0c330375"
      },
      "execution_count": 7,
      "outputs": [
        {
          "output_type": "stream",
          "name": "stdout",
          "text": [
            "values in season [1 2 3 4]\n",
            "values in yr [0 1]\n",
            "values in mnth [ 1  2  3  4  5  6  7  8  9 10 11 12]\n",
            "values in holiday [0 1]\n",
            "values in weekday [6 0 1 2 3 4 5]\n",
            "values in workingday [0 1]\n",
            "values in weathersit [2 1 3]\n"
          ]
        }
      ]
    },
    {
      "cell_type": "markdown",
      "source": [
        "The values matches as said in data dictionary."
      ],
      "metadata": {
        "id": "2eccmi8QICSQ"
      }
    },
    {
      "cell_type": "markdown",
      "source": [
        "Lets check for null values,"
      ],
      "metadata": {
        "id": "7nXCUQv-GYd1"
      }
    },
    {
      "cell_type": "code",
      "source": [
        "#total number null values in dataset\n",
        "data.isnull().sum()"
      ],
      "metadata": {
        "colab": {
          "base_uri": "https://localhost:8080/"
        },
        "id": "9SQTJugbsoYt",
        "outputId": "8457bc5c-af9b-4415-8ee9-47274afffd69"
      },
      "execution_count": 8,
      "outputs": [
        {
          "output_type": "execute_result",
          "data": {
            "text/plain": [
              "instant       0\n",
              "dteday        0\n",
              "season        0\n",
              "yr            0\n",
              "mnth          0\n",
              "holiday       0\n",
              "weekday       0\n",
              "workingday    0\n",
              "weathersit    0\n",
              "temp          0\n",
              "atemp         0\n",
              "hum           0\n",
              "windspeed     0\n",
              "casual        0\n",
              "registered    0\n",
              "cnt           0\n",
              "dtype: int64"
            ]
          },
          "metadata": {},
          "execution_count": 8
        }
      ]
    },
    {
      "cell_type": "markdown",
      "source": [
        "So it is confirmed that there are no null values to be removed.\n",
        "Lets also see statistical info of the variables "
      ],
      "metadata": {
        "id": "hzBPQk_Gsx_2"
      }
    },
    {
      "cell_type": "code",
      "source": [
        "data.describe()"
      ],
      "metadata": {
        "colab": {
          "base_uri": "https://localhost:8080/",
          "height": 364
        },
        "id": "f23sjvVkz2uo",
        "outputId": "972ad4e3-b277-445b-b204-d92b33e835f7"
      },
      "execution_count": 9,
      "outputs": [
        {
          "output_type": "execute_result",
          "data": {
            "text/plain": [
              "          instant      season          yr        mnth     holiday     weekday  \\\n",
              "count  730.000000  730.000000  730.000000  730.000000  730.000000  730.000000   \n",
              "mean   365.500000    2.498630    0.500000    6.526027    0.028767    2.997260   \n",
              "std    210.877136    1.110184    0.500343    3.450215    0.167266    2.006161   \n",
              "min      1.000000    1.000000    0.000000    1.000000    0.000000    0.000000   \n",
              "25%    183.250000    2.000000    0.000000    4.000000    0.000000    1.000000   \n",
              "50%    365.500000    3.000000    0.500000    7.000000    0.000000    3.000000   \n",
              "75%    547.750000    3.000000    1.000000   10.000000    0.000000    5.000000   \n",
              "max    730.000000    4.000000    1.000000   12.000000    1.000000    6.000000   \n",
              "\n",
              "       workingday  weathersit        temp       atemp         hum   windspeed  \\\n",
              "count  730.000000  730.000000  730.000000  730.000000  730.000000  730.000000   \n",
              "mean     0.683562    1.394521   20.319259   23.726322   62.765175   12.763620   \n",
              "std      0.465405    0.544807    7.506729    8.150308   14.237589    5.195841   \n",
              "min      0.000000    1.000000    2.424346    3.953480    0.000000    1.500244   \n",
              "25%      0.000000    1.000000   13.811885   16.889713   52.000000    9.041650   \n",
              "50%      1.000000    1.000000   20.465826   24.368225   62.625000   12.125325   \n",
              "75%      1.000000    2.000000   26.880615   30.445775   72.989575   15.625589   \n",
              "max      1.000000    3.000000   35.328347   42.044800   97.250000   34.000021   \n",
              "\n",
              "            casual   registered          cnt  \n",
              "count   730.000000   730.000000   730.000000  \n",
              "mean    849.249315  3658.757534  4508.006849  \n",
              "std     686.479875  1559.758728  1936.011647  \n",
              "min       2.000000    20.000000    22.000000  \n",
              "25%     316.250000  2502.250000  3169.750000  \n",
              "50%     717.000000  3664.500000  4548.500000  \n",
              "75%    1096.500000  4783.250000  5966.000000  \n",
              "max    3410.000000  6946.000000  8714.000000  "
            ],
            "text/html": [
              "\n",
              "  <div id=\"df-25d6b7da-1afa-4a0a-93d5-c8b5fbe67c34\">\n",
              "    <div class=\"colab-df-container\">\n",
              "      <div>\n",
              "<style scoped>\n",
              "    .dataframe tbody tr th:only-of-type {\n",
              "        vertical-align: middle;\n",
              "    }\n",
              "\n",
              "    .dataframe tbody tr th {\n",
              "        vertical-align: top;\n",
              "    }\n",
              "\n",
              "    .dataframe thead th {\n",
              "        text-align: right;\n",
              "    }\n",
              "</style>\n",
              "<table border=\"1\" class=\"dataframe\">\n",
              "  <thead>\n",
              "    <tr style=\"text-align: right;\">\n",
              "      <th></th>\n",
              "      <th>instant</th>\n",
              "      <th>season</th>\n",
              "      <th>yr</th>\n",
              "      <th>mnth</th>\n",
              "      <th>holiday</th>\n",
              "      <th>weekday</th>\n",
              "      <th>workingday</th>\n",
              "      <th>weathersit</th>\n",
              "      <th>temp</th>\n",
              "      <th>atemp</th>\n",
              "      <th>hum</th>\n",
              "      <th>windspeed</th>\n",
              "      <th>casual</th>\n",
              "      <th>registered</th>\n",
              "      <th>cnt</th>\n",
              "    </tr>\n",
              "  </thead>\n",
              "  <tbody>\n",
              "    <tr>\n",
              "      <th>count</th>\n",
              "      <td>730.000000</td>\n",
              "      <td>730.000000</td>\n",
              "      <td>730.000000</td>\n",
              "      <td>730.000000</td>\n",
              "      <td>730.000000</td>\n",
              "      <td>730.000000</td>\n",
              "      <td>730.000000</td>\n",
              "      <td>730.000000</td>\n",
              "      <td>730.000000</td>\n",
              "      <td>730.000000</td>\n",
              "      <td>730.000000</td>\n",
              "      <td>730.000000</td>\n",
              "      <td>730.000000</td>\n",
              "      <td>730.000000</td>\n",
              "      <td>730.000000</td>\n",
              "    </tr>\n",
              "    <tr>\n",
              "      <th>mean</th>\n",
              "      <td>365.500000</td>\n",
              "      <td>2.498630</td>\n",
              "      <td>0.500000</td>\n",
              "      <td>6.526027</td>\n",
              "      <td>0.028767</td>\n",
              "      <td>2.997260</td>\n",
              "      <td>0.683562</td>\n",
              "      <td>1.394521</td>\n",
              "      <td>20.319259</td>\n",
              "      <td>23.726322</td>\n",
              "      <td>62.765175</td>\n",
              "      <td>12.763620</td>\n",
              "      <td>849.249315</td>\n",
              "      <td>3658.757534</td>\n",
              "      <td>4508.006849</td>\n",
              "    </tr>\n",
              "    <tr>\n",
              "      <th>std</th>\n",
              "      <td>210.877136</td>\n",
              "      <td>1.110184</td>\n",
              "      <td>0.500343</td>\n",
              "      <td>3.450215</td>\n",
              "      <td>0.167266</td>\n",
              "      <td>2.006161</td>\n",
              "      <td>0.465405</td>\n",
              "      <td>0.544807</td>\n",
              "      <td>7.506729</td>\n",
              "      <td>8.150308</td>\n",
              "      <td>14.237589</td>\n",
              "      <td>5.195841</td>\n",
              "      <td>686.479875</td>\n",
              "      <td>1559.758728</td>\n",
              "      <td>1936.011647</td>\n",
              "    </tr>\n",
              "    <tr>\n",
              "      <th>min</th>\n",
              "      <td>1.000000</td>\n",
              "      <td>1.000000</td>\n",
              "      <td>0.000000</td>\n",
              "      <td>1.000000</td>\n",
              "      <td>0.000000</td>\n",
              "      <td>0.000000</td>\n",
              "      <td>0.000000</td>\n",
              "      <td>1.000000</td>\n",
              "      <td>2.424346</td>\n",
              "      <td>3.953480</td>\n",
              "      <td>0.000000</td>\n",
              "      <td>1.500244</td>\n",
              "      <td>2.000000</td>\n",
              "      <td>20.000000</td>\n",
              "      <td>22.000000</td>\n",
              "    </tr>\n",
              "    <tr>\n",
              "      <th>25%</th>\n",
              "      <td>183.250000</td>\n",
              "      <td>2.000000</td>\n",
              "      <td>0.000000</td>\n",
              "      <td>4.000000</td>\n",
              "      <td>0.000000</td>\n",
              "      <td>1.000000</td>\n",
              "      <td>0.000000</td>\n",
              "      <td>1.000000</td>\n",
              "      <td>13.811885</td>\n",
              "      <td>16.889713</td>\n",
              "      <td>52.000000</td>\n",
              "      <td>9.041650</td>\n",
              "      <td>316.250000</td>\n",
              "      <td>2502.250000</td>\n",
              "      <td>3169.750000</td>\n",
              "    </tr>\n",
              "    <tr>\n",
              "      <th>50%</th>\n",
              "      <td>365.500000</td>\n",
              "      <td>3.000000</td>\n",
              "      <td>0.500000</td>\n",
              "      <td>7.000000</td>\n",
              "      <td>0.000000</td>\n",
              "      <td>3.000000</td>\n",
              "      <td>1.000000</td>\n",
              "      <td>1.000000</td>\n",
              "      <td>20.465826</td>\n",
              "      <td>24.368225</td>\n",
              "      <td>62.625000</td>\n",
              "      <td>12.125325</td>\n",
              "      <td>717.000000</td>\n",
              "      <td>3664.500000</td>\n",
              "      <td>4548.500000</td>\n",
              "    </tr>\n",
              "    <tr>\n",
              "      <th>75%</th>\n",
              "      <td>547.750000</td>\n",
              "      <td>3.000000</td>\n",
              "      <td>1.000000</td>\n",
              "      <td>10.000000</td>\n",
              "      <td>0.000000</td>\n",
              "      <td>5.000000</td>\n",
              "      <td>1.000000</td>\n",
              "      <td>2.000000</td>\n",
              "      <td>26.880615</td>\n",
              "      <td>30.445775</td>\n",
              "      <td>72.989575</td>\n",
              "      <td>15.625589</td>\n",
              "      <td>1096.500000</td>\n",
              "      <td>4783.250000</td>\n",
              "      <td>5966.000000</td>\n",
              "    </tr>\n",
              "    <tr>\n",
              "      <th>max</th>\n",
              "      <td>730.000000</td>\n",
              "      <td>4.000000</td>\n",
              "      <td>1.000000</td>\n",
              "      <td>12.000000</td>\n",
              "      <td>1.000000</td>\n",
              "      <td>6.000000</td>\n",
              "      <td>1.000000</td>\n",
              "      <td>3.000000</td>\n",
              "      <td>35.328347</td>\n",
              "      <td>42.044800</td>\n",
              "      <td>97.250000</td>\n",
              "      <td>34.000021</td>\n",
              "      <td>3410.000000</td>\n",
              "      <td>6946.000000</td>\n",
              "      <td>8714.000000</td>\n",
              "    </tr>\n",
              "  </tbody>\n",
              "</table>\n",
              "</div>\n",
              "      <button class=\"colab-df-convert\" onclick=\"convertToInteractive('df-25d6b7da-1afa-4a0a-93d5-c8b5fbe67c34')\"\n",
              "              title=\"Convert this dataframe to an interactive table.\"\n",
              "              style=\"display:none;\">\n",
              "        \n",
              "  <svg xmlns=\"http://www.w3.org/2000/svg\" height=\"24px\"viewBox=\"0 0 24 24\"\n",
              "       width=\"24px\">\n",
              "    <path d=\"M0 0h24v24H0V0z\" fill=\"none\"/>\n",
              "    <path d=\"M18.56 5.44l.94 2.06.94-2.06 2.06-.94-2.06-.94-.94-2.06-.94 2.06-2.06.94zm-11 1L8.5 8.5l.94-2.06 2.06-.94-2.06-.94L8.5 2.5l-.94 2.06-2.06.94zm10 10l.94 2.06.94-2.06 2.06-.94-2.06-.94-.94-2.06-.94 2.06-2.06.94z\"/><path d=\"M17.41 7.96l-1.37-1.37c-.4-.4-.92-.59-1.43-.59-.52 0-1.04.2-1.43.59L10.3 9.45l-7.72 7.72c-.78.78-.78 2.05 0 2.83L4 21.41c.39.39.9.59 1.41.59.51 0 1.02-.2 1.41-.59l7.78-7.78 2.81-2.81c.8-.78.8-2.07 0-2.86zM5.41 20L4 18.59l7.72-7.72 1.47 1.35L5.41 20z\"/>\n",
              "  </svg>\n",
              "      </button>\n",
              "      \n",
              "  <style>\n",
              "    .colab-df-container {\n",
              "      display:flex;\n",
              "      flex-wrap:wrap;\n",
              "      gap: 12px;\n",
              "    }\n",
              "\n",
              "    .colab-df-convert {\n",
              "      background-color: #E8F0FE;\n",
              "      border: none;\n",
              "      border-radius: 50%;\n",
              "      cursor: pointer;\n",
              "      display: none;\n",
              "      fill: #1967D2;\n",
              "      height: 32px;\n",
              "      padding: 0 0 0 0;\n",
              "      width: 32px;\n",
              "    }\n",
              "\n",
              "    .colab-df-convert:hover {\n",
              "      background-color: #E2EBFA;\n",
              "      box-shadow: 0px 1px 2px rgba(60, 64, 67, 0.3), 0px 1px 3px 1px rgba(60, 64, 67, 0.15);\n",
              "      fill: #174EA6;\n",
              "    }\n",
              "\n",
              "    [theme=dark] .colab-df-convert {\n",
              "      background-color: #3B4455;\n",
              "      fill: #D2E3FC;\n",
              "    }\n",
              "\n",
              "    [theme=dark] .colab-df-convert:hover {\n",
              "      background-color: #434B5C;\n",
              "      box-shadow: 0px 1px 3px 1px rgba(0, 0, 0, 0.15);\n",
              "      filter: drop-shadow(0px 1px 2px rgba(0, 0, 0, 0.3));\n",
              "      fill: #FFFFFF;\n",
              "    }\n",
              "  </style>\n",
              "\n",
              "      <script>\n",
              "        const buttonEl =\n",
              "          document.querySelector('#df-25d6b7da-1afa-4a0a-93d5-c8b5fbe67c34 button.colab-df-convert');\n",
              "        buttonEl.style.display =\n",
              "          google.colab.kernel.accessAllowed ? 'block' : 'none';\n",
              "\n",
              "        async function convertToInteractive(key) {\n",
              "          const element = document.querySelector('#df-25d6b7da-1afa-4a0a-93d5-c8b5fbe67c34');\n",
              "          const dataTable =\n",
              "            await google.colab.kernel.invokeFunction('convertToInteractive',\n",
              "                                                     [key], {});\n",
              "          if (!dataTable) return;\n",
              "\n",
              "          const docLinkHtml = 'Like what you see? Visit the ' +\n",
              "            '<a target=\"_blank\" href=https://colab.research.google.com/notebooks/data_table.ipynb>data table notebook</a>'\n",
              "            + ' to learn more about interactive tables.';\n",
              "          element.innerHTML = '';\n",
              "          dataTable['output_type'] = 'display_data';\n",
              "          await google.colab.output.renderOutput(dataTable, element);\n",
              "          const docLink = document.createElement('div');\n",
              "          docLink.innerHTML = docLinkHtml;\n",
              "          element.appendChild(docLink);\n",
              "        }\n",
              "      </script>\n",
              "    </div>\n",
              "  </div>\n",
              "  "
            ]
          },
          "metadata": {},
          "execution_count": 9
        }
      ]
    },
    {
      "cell_type": "markdown",
      "source": [
        "### Identifying target variable"
      ],
      "metadata": {
        "id": "H0czW66PtB2H"
      }
    },
    {
      "cell_type": "code",
      "source": [
        "data.head()"
      ],
      "metadata": {
        "colab": {
          "base_uri": "https://localhost:8080/",
          "height": 270
        },
        "id": "51BLXBUutJsI",
        "outputId": "c29561aa-9e84-4295-a8e4-41b2040596cf"
      },
      "execution_count": 10,
      "outputs": [
        {
          "output_type": "execute_result",
          "data": {
            "text/plain": [
              "   instant      dteday  season  yr  mnth  holiday  weekday  workingday  \\\n",
              "0        1  01-01-2018       1   0     1        0        6           0   \n",
              "1        2  02-01-2018       1   0     1        0        0           0   \n",
              "2        3  03-01-2018       1   0     1        0        1           1   \n",
              "3        4  04-01-2018       1   0     1        0        2           1   \n",
              "4        5  05-01-2018       1   0     1        0        3           1   \n",
              "\n",
              "   weathersit       temp     atemp      hum  windspeed  casual  registered  \\\n",
              "0           2  14.110847  18.18125  80.5833  10.749882     331         654   \n",
              "1           2  14.902598  17.68695  69.6087  16.652113     131         670   \n",
              "2           1   8.050924   9.47025  43.7273  16.636703     120        1229   \n",
              "3           1   8.200000  10.60610  59.0435  10.739832     108        1454   \n",
              "4           1   9.305237  11.46350  43.6957  12.522300      82        1518   \n",
              "\n",
              "    cnt  \n",
              "0   985  \n",
              "1   801  \n",
              "2  1349  \n",
              "3  1562  \n",
              "4  1600  "
            ],
            "text/html": [
              "\n",
              "  <div id=\"df-fa7eccd7-7eb7-41fd-b752-dfa0504dd254\">\n",
              "    <div class=\"colab-df-container\">\n",
              "      <div>\n",
              "<style scoped>\n",
              "    .dataframe tbody tr th:only-of-type {\n",
              "        vertical-align: middle;\n",
              "    }\n",
              "\n",
              "    .dataframe tbody tr th {\n",
              "        vertical-align: top;\n",
              "    }\n",
              "\n",
              "    .dataframe thead th {\n",
              "        text-align: right;\n",
              "    }\n",
              "</style>\n",
              "<table border=\"1\" class=\"dataframe\">\n",
              "  <thead>\n",
              "    <tr style=\"text-align: right;\">\n",
              "      <th></th>\n",
              "      <th>instant</th>\n",
              "      <th>dteday</th>\n",
              "      <th>season</th>\n",
              "      <th>yr</th>\n",
              "      <th>mnth</th>\n",
              "      <th>holiday</th>\n",
              "      <th>weekday</th>\n",
              "      <th>workingday</th>\n",
              "      <th>weathersit</th>\n",
              "      <th>temp</th>\n",
              "      <th>atemp</th>\n",
              "      <th>hum</th>\n",
              "      <th>windspeed</th>\n",
              "      <th>casual</th>\n",
              "      <th>registered</th>\n",
              "      <th>cnt</th>\n",
              "    </tr>\n",
              "  </thead>\n",
              "  <tbody>\n",
              "    <tr>\n",
              "      <th>0</th>\n",
              "      <td>1</td>\n",
              "      <td>01-01-2018</td>\n",
              "      <td>1</td>\n",
              "      <td>0</td>\n",
              "      <td>1</td>\n",
              "      <td>0</td>\n",
              "      <td>6</td>\n",
              "      <td>0</td>\n",
              "      <td>2</td>\n",
              "      <td>14.110847</td>\n",
              "      <td>18.18125</td>\n",
              "      <td>80.5833</td>\n",
              "      <td>10.749882</td>\n",
              "      <td>331</td>\n",
              "      <td>654</td>\n",
              "      <td>985</td>\n",
              "    </tr>\n",
              "    <tr>\n",
              "      <th>1</th>\n",
              "      <td>2</td>\n",
              "      <td>02-01-2018</td>\n",
              "      <td>1</td>\n",
              "      <td>0</td>\n",
              "      <td>1</td>\n",
              "      <td>0</td>\n",
              "      <td>0</td>\n",
              "      <td>0</td>\n",
              "      <td>2</td>\n",
              "      <td>14.902598</td>\n",
              "      <td>17.68695</td>\n",
              "      <td>69.6087</td>\n",
              "      <td>16.652113</td>\n",
              "      <td>131</td>\n",
              "      <td>670</td>\n",
              "      <td>801</td>\n",
              "    </tr>\n",
              "    <tr>\n",
              "      <th>2</th>\n",
              "      <td>3</td>\n",
              "      <td>03-01-2018</td>\n",
              "      <td>1</td>\n",
              "      <td>0</td>\n",
              "      <td>1</td>\n",
              "      <td>0</td>\n",
              "      <td>1</td>\n",
              "      <td>1</td>\n",
              "      <td>1</td>\n",
              "      <td>8.050924</td>\n",
              "      <td>9.47025</td>\n",
              "      <td>43.7273</td>\n",
              "      <td>16.636703</td>\n",
              "      <td>120</td>\n",
              "      <td>1229</td>\n",
              "      <td>1349</td>\n",
              "    </tr>\n",
              "    <tr>\n",
              "      <th>3</th>\n",
              "      <td>4</td>\n",
              "      <td>04-01-2018</td>\n",
              "      <td>1</td>\n",
              "      <td>0</td>\n",
              "      <td>1</td>\n",
              "      <td>0</td>\n",
              "      <td>2</td>\n",
              "      <td>1</td>\n",
              "      <td>1</td>\n",
              "      <td>8.200000</td>\n",
              "      <td>10.60610</td>\n",
              "      <td>59.0435</td>\n",
              "      <td>10.739832</td>\n",
              "      <td>108</td>\n",
              "      <td>1454</td>\n",
              "      <td>1562</td>\n",
              "    </tr>\n",
              "    <tr>\n",
              "      <th>4</th>\n",
              "      <td>5</td>\n",
              "      <td>05-01-2018</td>\n",
              "      <td>1</td>\n",
              "      <td>0</td>\n",
              "      <td>1</td>\n",
              "      <td>0</td>\n",
              "      <td>3</td>\n",
              "      <td>1</td>\n",
              "      <td>1</td>\n",
              "      <td>9.305237</td>\n",
              "      <td>11.46350</td>\n",
              "      <td>43.6957</td>\n",
              "      <td>12.522300</td>\n",
              "      <td>82</td>\n",
              "      <td>1518</td>\n",
              "      <td>1600</td>\n",
              "    </tr>\n",
              "  </tbody>\n",
              "</table>\n",
              "</div>\n",
              "      <button class=\"colab-df-convert\" onclick=\"convertToInteractive('df-fa7eccd7-7eb7-41fd-b752-dfa0504dd254')\"\n",
              "              title=\"Convert this dataframe to an interactive table.\"\n",
              "              style=\"display:none;\">\n",
              "        \n",
              "  <svg xmlns=\"http://www.w3.org/2000/svg\" height=\"24px\"viewBox=\"0 0 24 24\"\n",
              "       width=\"24px\">\n",
              "    <path d=\"M0 0h24v24H0V0z\" fill=\"none\"/>\n",
              "    <path d=\"M18.56 5.44l.94 2.06.94-2.06 2.06-.94-2.06-.94-.94-2.06-.94 2.06-2.06.94zm-11 1L8.5 8.5l.94-2.06 2.06-.94-2.06-.94L8.5 2.5l-.94 2.06-2.06.94zm10 10l.94 2.06.94-2.06 2.06-.94-2.06-.94-.94-2.06-.94 2.06-2.06.94z\"/><path d=\"M17.41 7.96l-1.37-1.37c-.4-.4-.92-.59-1.43-.59-.52 0-1.04.2-1.43.59L10.3 9.45l-7.72 7.72c-.78.78-.78 2.05 0 2.83L4 21.41c.39.39.9.59 1.41.59.51 0 1.02-.2 1.41-.59l7.78-7.78 2.81-2.81c.8-.78.8-2.07 0-2.86zM5.41 20L4 18.59l7.72-7.72 1.47 1.35L5.41 20z\"/>\n",
              "  </svg>\n",
              "      </button>\n",
              "      \n",
              "  <style>\n",
              "    .colab-df-container {\n",
              "      display:flex;\n",
              "      flex-wrap:wrap;\n",
              "      gap: 12px;\n",
              "    }\n",
              "\n",
              "    .colab-df-convert {\n",
              "      background-color: #E8F0FE;\n",
              "      border: none;\n",
              "      border-radius: 50%;\n",
              "      cursor: pointer;\n",
              "      display: none;\n",
              "      fill: #1967D2;\n",
              "      height: 32px;\n",
              "      padding: 0 0 0 0;\n",
              "      width: 32px;\n",
              "    }\n",
              "\n",
              "    .colab-df-convert:hover {\n",
              "      background-color: #E2EBFA;\n",
              "      box-shadow: 0px 1px 2px rgba(60, 64, 67, 0.3), 0px 1px 3px 1px rgba(60, 64, 67, 0.15);\n",
              "      fill: #174EA6;\n",
              "    }\n",
              "\n",
              "    [theme=dark] .colab-df-convert {\n",
              "      background-color: #3B4455;\n",
              "      fill: #D2E3FC;\n",
              "    }\n",
              "\n",
              "    [theme=dark] .colab-df-convert:hover {\n",
              "      background-color: #434B5C;\n",
              "      box-shadow: 0px 1px 3px 1px rgba(0, 0, 0, 0.15);\n",
              "      filter: drop-shadow(0px 1px 2px rgba(0, 0, 0, 0.3));\n",
              "      fill: #FFFFFF;\n",
              "    }\n",
              "  </style>\n",
              "\n",
              "      <script>\n",
              "        const buttonEl =\n",
              "          document.querySelector('#df-fa7eccd7-7eb7-41fd-b752-dfa0504dd254 button.colab-df-convert');\n",
              "        buttonEl.style.display =\n",
              "          google.colab.kernel.accessAllowed ? 'block' : 'none';\n",
              "\n",
              "        async function convertToInteractive(key) {\n",
              "          const element = document.querySelector('#df-fa7eccd7-7eb7-41fd-b752-dfa0504dd254');\n",
              "          const dataTable =\n",
              "            await google.colab.kernel.invokeFunction('convertToInteractive',\n",
              "                                                     [key], {});\n",
              "          if (!dataTable) return;\n",
              "\n",
              "          const docLinkHtml = 'Like what you see? Visit the ' +\n",
              "            '<a target=\"_blank\" href=https://colab.research.google.com/notebooks/data_table.ipynb>data table notebook</a>'\n",
              "            + ' to learn more about interactive tables.';\n",
              "          element.innerHTML = '';\n",
              "          dataTable['output_type'] = 'display_data';\n",
              "          await google.colab.output.renderOutput(dataTable, element);\n",
              "          const docLink = document.createElement('div');\n",
              "          docLink.innerHTML = docLinkHtml;\n",
              "          element.appendChild(docLink);\n",
              "        }\n",
              "      </script>\n",
              "    </div>\n",
              "  </div>\n",
              "  "
            ]
          },
          "metadata": {},
          "execution_count": 10
        }
      ]
    },
    {
      "cell_type": "markdown",
      "source": [
        "From the data dictionary, it is understood that variables \"casual\",\"registered\" and \"cnt\" gives number of casual, registered and total users per day. Since we are interested only in total users, we can drop other two.\n",
        "This is also done so that they dont become inputs to model and affect model performance. Also as target is continous variable , this becomes a regression problem."
      ],
      "metadata": {
        "id": "0JciEbhVtIMC"
      }
    },
    {
      "cell_type": "code",
      "source": [
        "#Drop casual and registered variables\n",
        "data.drop([\"casual\",\"registered\"],axis =1,inplace =True  )"
      ],
      "metadata": {
        "id": "N3cJ3ASjt39a"
      },
      "execution_count": 11,
      "outputs": []
    },
    {
      "cell_type": "markdown",
      "source": [
        "Lets see distribution of target variable."
      ],
      "metadata": {
        "id": "B6EiSoZVt3-V"
      }
    },
    {
      "cell_type": "code",
      "source": [
        "# distribution plot of target variable\n",
        "sns.distplot(data.cnt)\n",
        "plt.title(\"Distribution plot of target variable\")\n",
        "plt.xlabel(\"Values of target variable\")\n",
        "plt.ylabel(\"Density\")\n",
        "plt.show()"
      ],
      "metadata": {
        "colab": {
          "base_uri": "https://localhost:8080/",
          "height": 295
        },
        "id": "0d9syxn9uAwb",
        "outputId": "3777d5c0-45ec-4562-bc5b-f0993876e0ff"
      },
      "execution_count": 12,
      "outputs": [
        {
          "output_type": "display_data",
          "data": {
            "text/plain": [
              "<Figure size 432x288 with 1 Axes>"
            ],
            "image/png": "[encoded data removed]"
          },
          "metadata": {
            "needs_background": "light"
          }
        }
      ]
    },
    {
      "cell_type": "markdown",
      "source": [
        "We also see that the \"instant\" variable is just the sample number and doesnt have effect on target variable. Hence it can be dropped."
      ],
      "metadata": {
        "id": "qf7k3t8FvaCl"
      }
    },
    {
      "cell_type": "code",
      "source": [
        "#Drop instant variable\n",
        "data.drop([\"instant\"],axis =1,inplace =True  )"
      ],
      "metadata": {
        "id": "k9Qe1e9vvEBX"
      },
      "execution_count": 13,
      "outputs": []
    },
    {
      "cell_type": "markdown",
      "source": [
        "Also since month and year data is available in variables \"mnth\" and \"yr\", the dteday variable becomes redundant. But we can create derieved variable \"date\" ie day of month which could have affect on target. After this we can drop dteday variable."
      ],
      "metadata": {
        "id": "BJlXpWTuwaS0"
      }
    },
    {
      "cell_type": "code",
      "source": [
        "#strip the day of  month  information from dteday variable\n",
        "data[\"day\"] = data[\"dteday\"].apply(lambda x: x.split(\"-\")[0])\n",
        "# convert day to numeric\n",
        "data[\"day\"] = data[\"day\"].apply(lambda x: int(x))\n",
        "#drop dteday variable\n",
        "data.drop([\"dteday\"],axis =1,inplace =True  )\n"
      ],
      "metadata": {
        "id": "pU6DmuzdvGht"
      },
      "execution_count": 14,
      "outputs": []
    },
    {
      "cell_type": "code",
      "source": [
        "data.info()"
      ],
      "metadata": {
        "colab": {
          "base_uri": "https://localhost:8080/"
        },
        "id": "ubsAtLpVE8HQ",
        "outputId": "d72626f5-2f72-4b5a-d1c3-cd1a5f9abdcd"
      },
      "execution_count": 15,
      "outputs": [
        {
          "output_type": "stream",
          "name": "stdout",
          "text": [
            "<class 'pandas.core.frame.DataFrame'>\n",
            "RangeIndex: 730 entries, 0 to 729\n",
            "Data columns (total 13 columns):\n",
            " #   Column      Non-Null Count  Dtype  \n",
            "---  ------      --------------  -----  \n",
            " 0   season      730 non-null    int64  \n",
            " 1   yr          730 non-null    int64  \n",
            " 2   mnth        730 non-null    int64  \n",
            " 3   holiday     730 non-null    int64  \n",
            " 4   weekday     730 non-null    int64  \n",
            " 5   workingday  730 non-null    int64  \n",
            " 6   weathersit  730 non-null    int64  \n",
            " 7   temp        730 non-null    float64\n",
            " 8   atemp       730 non-null    float64\n",
            " 9   hum         730 non-null    float64\n",
            " 10  windspeed   730 non-null    float64\n",
            " 11  cnt         730 non-null    int64  \n",
            " 12  day         730 non-null    int64  \n",
            "dtypes: float64(4), int64(9)\n",
            "memory usage: 74.3 KB\n"
          ]
        }
      ]
    },
    {
      "cell_type": "markdown",
      "source": [
        "Lets check the corelation between variables."
      ],
      "metadata": {
        "id": "xjBM2RYZzsYw"
      }
    },
    {
      "cell_type": "code",
      "source": [
        "#show corelation data\n",
        "data.corr()"
      ],
      "metadata": {
        "colab": {
          "base_uri": "https://localhost:8080/",
          "height": 521
        },
        "id": "eUXf4krfzE1C",
        "outputId": "f3130919-fb4a-431e-8cb5-244eecaae038"
      },
      "execution_count": 16,
      "outputs": [
        {
          "output_type": "execute_result",
          "data": {
            "text/plain": [
              "                  season            yr          mnth   holiday   weekday  \\\n",
              "season      1.000000e+00 -3.279074e-16  8.310321e-01 -0.010868 -0.003081   \n",
              "yr         -3.279074e-16  1.000000e+00 -5.162656e-16  0.008195 -0.005466   \n",
              "mnth        8.310321e-01 -5.162656e-16  1.000000e+00  0.018905  0.009523   \n",
              "holiday    -1.086804e-02  8.195345e-03  1.890483e-02  1.000000 -0.101962   \n",
              "weekday    -3.081198e-03 -5.466369e-03  9.522969e-03 -0.101962  1.000000   \n",
              "workingday  1.376178e-02 -2.945396e-03 -4.687953e-03 -0.252948  0.035800   \n",
              "weathersit  2.130636e-02 -5.032247e-02  4.561335e-02 -0.034395  0.031112   \n",
              "temp        3.333607e-01  4.878919e-02  2.190833e-01 -0.028764 -0.000168   \n",
              "atemp       3.420139e-01  4.721519e-02  2.264302e-01 -0.032703 -0.007539   \n",
              "hum         2.082196e-01 -1.125471e-01  2.249368e-01 -0.015662 -0.052290   \n",
              "windspeed  -2.296069e-01 -1.162435e-02 -2.080131e-01  0.006257  0.014283   \n",
              "cnt         4.045838e-01  5.697285e-01  2.781909e-01 -0.068764  0.067534   \n",
              "day         1.925989e-03 -1.856233e-16  1.189318e-02 -0.010371 -0.000432   \n",
              "\n",
              "            workingday  weathersit      temp     atemp       hum  windspeed  \\\n",
              "season        0.013762    0.021306  0.333361  0.342014  0.208220  -0.229607   \n",
              "yr           -0.002945   -0.050322  0.048789  0.047215 -0.112547  -0.011624   \n",
              "mnth         -0.004688    0.045613  0.219083  0.226430  0.224937  -0.208013   \n",
              "holiday      -0.252948   -0.034395 -0.028764 -0.032703 -0.015662   0.006257   \n",
              "weekday       0.035800    0.031112 -0.000168 -0.007539 -0.052290   0.014283   \n",
              "workingday    1.000000    0.060236  0.053470  0.052940  0.023202  -0.018666   \n",
              "weathersit    0.060236    1.000000 -0.119503 -0.120559  0.590277   0.039769   \n",
              "temp          0.053470   -0.119503  1.000000  0.991696  0.128565  -0.158186   \n",
              "atemp         0.052940   -0.120559  0.991696  1.000000  0.141512  -0.183876   \n",
              "hum           0.023202    0.590277  0.128565  0.141512  1.000000  -0.248506   \n",
              "windspeed    -0.018666    0.039769 -0.158186 -0.183876 -0.248506   1.000000   \n",
              "cnt           0.062542   -0.295929  0.627044  0.630685 -0.098543  -0.235132   \n",
              "day           0.008521   -0.026178  0.026009  0.019920  0.040294   0.021925   \n",
              "\n",
              "                 cnt           day  \n",
              "season      0.404584  1.925989e-03  \n",
              "yr          0.569728 -1.856233e-16  \n",
              "mnth        0.278191  1.189318e-02  \n",
              "holiday    -0.068764 -1.037108e-02  \n",
              "weekday     0.067534 -4.318179e-04  \n",
              "workingday  0.062542  8.520708e-03  \n",
              "weathersit -0.295929 -2.617822e-02  \n",
              "temp        0.627044  2.600883e-02  \n",
              "atemp       0.630685  1.992047e-02  \n",
              "hum        -0.098543  4.029371e-02  \n",
              "windspeed  -0.235132  2.192539e-02  \n",
              "cnt         1.000000 -2.141931e-02  \n",
              "day        -0.021419  1.000000e+00  "
            ],
            "text/html": [
              "\n",
              "  <div id=\"df-6b7ac183-ead8-43a6-a49f-225da3f8362e\">\n",
              "    <div class=\"colab-df-container\">\n",
              "      <div>\n",
              "<style scoped>\n",
              "    .dataframe tbody tr th:only-of-type {\n",
              "        vertical-align: middle;\n",
              "    }\n",
              "\n",
              "    .dataframe tbody tr th {\n",
              "        vertical-align: top;\n",
              "    }\n",
              "\n",
              "    .dataframe thead th {\n",
              "        text-align: right;\n",
              "    }\n",
              "</style>\n",
              "<table border=\"1\" class=\"dataframe\">\n",
              "  <thead>\n",
              "    <tr style=\"text-align: right;\">\n",
              "      <th></th>\n",
              "      <th>season</th>\n",
              "      <th>yr</th>\n",
              "      <th>mnth</th>\n",
              "      <th>holiday</th>\n",
              "      <th>weekday</th>\n",
              "      <th>workingday</th>\n",
              "      <th>weathersit</th>\n",
              "      <th>temp</th>\n",
              "      <th>atemp</th>\n",
              "      <th>hum</th>\n",
              "      <th>windspeed</th>\n",
              "      <th>cnt</th>\n",
              "      <th>day</th>\n",
              "    </tr>\n",
              "  </thead>\n",
              "  <tbody>\n",
              "    <tr>\n",
              "      <th>season</th>\n",
              "      <td>1.000000e+00</td>\n",
              "      <td>-3.279074e-16</td>\n",
              "      <td>8.310321e-01</td>\n",
              "      <td>-0.010868</td>\n",
              "      <td>-0.003081</td>\n",
              "      <td>0.013762</td>\n",
              "      <td>0.021306</td>\n",
              "      <td>0.333361</td>\n",
              "      <td>0.342014</td>\n",
              "      <td>0.208220</td>\n",
              "      <td>-0.229607</td>\n",
              "      <td>0.404584</td>\n",
              "      <td>1.925989e-03</td>\n",
              "    </tr>\n",
              "    <tr>\n",
              "      <th>yr</th>\n",
              "      <td>-3.279074e-16</td>\n",
              "      <td>1.000000e+00</td>\n",
              "      <td>-5.162656e-16</td>\n",
              "      <td>0.008195</td>\n",
              "      <td>-0.005466</td>\n",
              "      <td>-0.002945</td>\n",
              "      <td>-0.050322</td>\n",
              "      <td>0.048789</td>\n",
              "      <td>0.047215</td>\n",
              "      <td>-0.112547</td>\n",
              "      <td>-0.011624</td>\n",
              "      <td>0.569728</td>\n",
              "      <td>-1.856233e-16</td>\n",
              "    </tr>\n",
              "    <tr>\n",
              "      <th>mnth</th>\n",
              "      <td>8.310321e-01</td>\n",
              "      <td>-5.162656e-16</td>\n",
              "      <td>1.000000e+00</td>\n",
              "      <td>0.018905</td>\n",
              "      <td>0.009523</td>\n",
              "      <td>-0.004688</td>\n",
              "      <td>0.045613</td>\n",
              "      <td>0.219083</td>\n",
              "      <td>0.226430</td>\n",
              "      <td>0.224937</td>\n",
              "      <td>-0.208013</td>\n",
              "      <td>0.278191</td>\n",
              "      <td>1.189318e-02</td>\n",
              "    </tr>\n",
              "    <tr>\n",
              "      <th>holiday</th>\n",
              "      <td>-1.086804e-02</td>\n",
              "      <td>8.195345e-03</td>\n",
              "      <td>1.890483e-02</td>\n",
              "      <td>1.000000</td>\n",
              "      <td>-0.101962</td>\n",
              "      <td>-0.252948</td>\n",
              "      <td>-0.034395</td>\n",
              "      <td>-0.028764</td>\n",
              "      <td>-0.032703</td>\n",
              "      <td>-0.015662</td>\n",
              "      <td>0.006257</td>\n",
              "      <td>-0.068764</td>\n",
              "      <td>-1.037108e-02</td>\n",
              "    </tr>\n",
              "    <tr>\n",
              "      <th>weekday</th>\n",
              "      <td>-3.081198e-03</td>\n",
              "      <td>-5.466369e-03</td>\n",
              "      <td>9.522969e-03</td>\n",
              "      <td>-0.101962</td>\n",
              "      <td>1.000000</td>\n",
              "      <td>0.035800</td>\n",
              "      <td>0.031112</td>\n",
              "      <td>-0.000168</td>\n",
              "      <td>-0.007539</td>\n",
              "      <td>-0.052290</td>\n",
              "      <td>0.014283</td>\n",
              "      <td>0.067534</td>\n",
              "      <td>-4.318179e-04</td>\n",
              "    </tr>\n",
              "    <tr>\n",
              "      <th>workingday</th>\n",
              "      <td>1.376178e-02</td>\n",
              "      <td>-2.945396e-03</td>\n",
              "      <td>-4.687953e-03</td>\n",
              "      <td>-0.252948</td>\n",
              "      <td>0.035800</td>\n",
              "      <td>1.000000</td>\n",
              "      <td>0.060236</td>\n",
              "      <td>0.053470</td>\n",
              "      <td>0.052940</td>\n",
              "      <td>0.023202</td>\n",
              "      <td>-0.018666</td>\n",
              "      <td>0.062542</td>\n",
              "      <td>8.520708e-03</td>\n",
              "    </tr>\n",
              "    <tr>\n",
              "      <th>weathersit</th>\n",
              "      <td>2.130636e-02</td>\n",
              "      <td>-5.032247e-02</td>\n",
              "      <td>4.561335e-02</td>\n",
              "      <td>-0.034395</td>\n",
              "      <td>0.031112</td>\n",
              "      <td>0.060236</td>\n",
              "      <td>1.000000</td>\n",
              "      <td>-0.119503</td>\n",
              "      <td>-0.120559</td>\n",
              "      <td>0.590277</td>\n",
              "      <td>0.039769</td>\n",
              "      <td>-0.295929</td>\n",
              "      <td>-2.617822e-02</td>\n",
              "    </tr>\n",
              "    <tr>\n",
              "      <th>temp</th>\n",
              "      <td>3.333607e-01</td>\n",
              "      <td>4.878919e-02</td>\n",
              "      <td>2.190833e-01</td>\n",
              "      <td>-0.028764</td>\n",
              "      <td>-0.000168</td>\n",
              "      <td>0.053470</td>\n",
              "      <td>-0.119503</td>\n",
              "      <td>1.000000</td>\n",
              "      <td>0.991696</td>\n",
              "      <td>0.128565</td>\n",
              "      <td>-0.158186</td>\n",
              "      <td>0.627044</td>\n",
              "      <td>2.600883e-02</td>\n",
              "    </tr>\n",
              "    <tr>\n",
              "      <th>atemp</th>\n",
              "      <td>3.420139e-01</td>\n",
              "      <td>4.721519e-02</td>\n",
              "      <td>2.264302e-01</td>\n",
              "      <td>-0.032703</td>\n",
              "      <td>-0.007539</td>\n",
              "      <td>0.052940</td>\n",
              "      <td>-0.120559</td>\n",
              "      <td>0.991696</td>\n",
              "      <td>1.000000</td>\n",
              "      <td>0.141512</td>\n",
              "      <td>-0.183876</td>\n",
              "      <td>0.630685</td>\n",
              "      <td>1.992047e-02</td>\n",
              "    </tr>\n",
              "    <tr>\n",
              "      <th>hum</th>\n",
              "      <td>2.082196e-01</td>\n",
              "      <td>-1.125471e-01</td>\n",
              "      <td>2.249368e-01</td>\n",
              "      <td>-0.015662</td>\n",
              "      <td>-0.052290</td>\n",
              "      <td>0.023202</td>\n",
              "      <td>0.590277</td>\n",
              "      <td>0.128565</td>\n",
              "      <td>0.141512</td>\n",
              "      <td>1.000000</td>\n",
              "      <td>-0.248506</td>\n",
              "      <td>-0.098543</td>\n",
              "      <td>4.029371e-02</td>\n",
              "    </tr>\n",
              "    <tr>\n",
              "      <th>windspeed</th>\n",
              "      <td>-2.296069e-01</td>\n",
              "      <td>-1.162435e-02</td>\n",
              "      <td>-2.080131e-01</td>\n",
              "      <td>0.006257</td>\n",
              "      <td>0.014283</td>\n",
              "      <td>-0.018666</td>\n",
              "      <td>0.039769</td>\n",
              "      <td>-0.158186</td>\n",
              "      <td>-0.183876</td>\n",
              "      <td>-0.248506</td>\n",
              "      <td>1.000000</td>\n",
              "      <td>-0.235132</td>\n",
              "      <td>2.192539e-02</td>\n",
              "    </tr>\n",
              "    <tr>\n",
              "      <th>cnt</th>\n",
              "      <td>4.045838e-01</td>\n",
              "      <td>5.697285e-01</td>\n",
              "      <td>2.781909e-01</td>\n",
              "      <td>-0.068764</td>\n",
              "      <td>0.067534</td>\n",
              "      <td>0.062542</td>\n",
              "      <td>-0.295929</td>\n",
              "      <td>0.627044</td>\n",
              "      <td>0.630685</td>\n",
              "      <td>-0.098543</td>\n",
              "      <td>-0.235132</td>\n",
              "      <td>1.000000</td>\n",
              "      <td>-2.141931e-02</td>\n",
              "    </tr>\n",
              "    <tr>\n",
              "      <th>day</th>\n",
              "      <td>1.925989e-03</td>\n",
              "      <td>-1.856233e-16</td>\n",
              "      <td>1.189318e-02</td>\n",
              "      <td>-0.010371</td>\n",
              "      <td>-0.000432</td>\n",
              "      <td>0.008521</td>\n",
              "      <td>-0.026178</td>\n",
              "      <td>0.026009</td>\n",
              "      <td>0.019920</td>\n",
              "      <td>0.040294</td>\n",
              "      <td>0.021925</td>\n",
              "      <td>-0.021419</td>\n",
              "      <td>1.000000e+00</td>\n",
              "    </tr>\n",
              "  </tbody>\n",
              "</table>\n",
              "</div>\n",
              "      <button class=\"colab-df-convert\" onclick=\"convertToInteractive('df-6b7ac183-ead8-43a6-a49f-225da3f8362e')\"\n",
              "              title=\"Convert this dataframe to an interactive table.\"\n",
              "              style=\"display:none;\">\n",
              "        \n",
              "  <svg xmlns=\"http://www.w3.org/2000/svg\" height=\"24px\"viewBox=\"0 0 24 24\"\n",
              "       width=\"24px\">\n",
              "    <path d=\"M0 0h24v24H0V0z\" fill=\"none\"/>\n",
              "    <path d=\"M18.56 5.44l.94 2.06.94-2.06 2.06-.94-2.06-.94-.94-2.06-.94 2.06-2.06.94zm-11 1L8.5 8.5l.94-2.06 2.06-.94-2.06-.94L8.5 2.5l-.94 2.06-2.06.94zm10 10l.94 2.06.94-2.06 2.06-.94-2.06-.94-.94-2.06-.94 2.06-2.06.94z\"/><path d=\"M17.41 7.96l-1.37-1.37c-.4-.4-.92-.59-1.43-.59-.52 0-1.04.2-1.43.59L10.3 9.45l-7.72 7.72c-.78.78-.78 2.05 0 2.83L4 21.41c.39.39.9.59 1.41.59.51 0 1.02-.2 1.41-.59l7.78-7.78 2.81-2.81c.8-.78.8-2.07 0-2.86zM5.41 20L4 18.59l7.72-7.72 1.47 1.35L5.41 20z\"/>\n",
              "  </svg>\n",
              "      </button>\n",
              "      \n",
              "  <style>\n",
              "    .colab-df-container {\n",
              "      display:flex;\n",
              "      flex-wrap:wrap;\n",
              "      gap: 12px;\n",
              "    }\n",
              "\n",
              "    .colab-df-convert {\n",
              "      background-color: #E8F0FE;\n",
              "      border: none;\n",
              "      border-radius: 50%;\n",
              "      cursor: pointer;\n",
              "      display: none;\n",
              "      fill: #1967D2;\n",
              "      height: 32px;\n",
              "      padding: 0 0 0 0;\n",
              "      width: 32px;\n",
              "    }\n",
              "\n",
              "    .colab-df-convert:hover {\n",
              "      background-color: #E2EBFA;\n",
              "      box-shadow: 0px 1px 2px rgba(60, 64, 67, 0.3), 0px 1px 3px 1px rgba(60, 64, 67, 0.15);\n",
              "      fill: #174EA6;\n",
              "    }\n",
              "\n",
              "    [theme=dark] .colab-df-convert {\n",
              "      background-color: #3B4455;\n",
              "      fill: #D2E3FC;\n",
              "    }\n",
              "\n",
              "    [theme=dark] .colab-df-convert:hover {\n",
              "      background-color: #434B5C;\n",
              "      box-shadow: 0px 1px 3px 1px rgba(0, 0, 0, 0.15);\n",
              "      filter: drop-shadow(0px 1px 2px rgba(0, 0, 0, 0.3));\n",
              "      fill: #FFFFFF;\n",
              "    }\n",
              "  </style>\n",
              "\n",
              "      <script>\n",
              "        const buttonEl =\n",
              "          document.querySelector('#df-6b7ac183-ead8-43a6-a49f-225da3f8362e button.colab-df-convert');\n",
              "        buttonEl.style.display =\n",
              "          google.colab.kernel.accessAllowed ? 'block' : 'none';\n",
              "\n",
              "        async function convertToInteractive(key) {\n",
              "          const element = document.querySelector('#df-6b7ac183-ead8-43a6-a49f-225da3f8362e');\n",
              "          const dataTable =\n",
              "            await google.colab.kernel.invokeFunction('convertToInteractive',\n",
              "                                                     [key], {});\n",
              "          if (!dataTable) return;\n",
              "\n",
              "          const docLinkHtml = 'Like what you see? Visit the ' +\n",
              "            '<a target=\"_blank\" href=https://colab.research.google.com/notebooks/data_table.ipynb>data table notebook</a>'\n",
              "            + ' to learn more about interactive tables.';\n",
              "          element.innerHTML = '';\n",
              "          dataTable['output_type'] = 'display_data';\n",
              "          await google.colab.output.renderOutput(dataTable, element);\n",
              "          const docLink = document.createElement('div');\n",
              "          docLink.innerHTML = docLinkHtml;\n",
              "          element.appendChild(docLink);\n",
              "        }\n",
              "      </script>\n",
              "    </div>\n",
              "  </div>\n",
              "  "
            ]
          },
          "metadata": {},
          "execution_count": 16
        }
      ]
    },
    {
      "cell_type": "markdown",
      "source": [
        "Lets visualize corelation using heatmap"
      ],
      "metadata": {
        "id": "o5Rud5qB0WXc"
      }
    },
    {
      "cell_type": "code",
      "source": [
        "#APply appropriate  size to fig\n",
        "plt.figure(figsize= (10,10))\n",
        "#plot corelation heatmap and round off values to 2 decimal places\n",
        "sns.heatmap(round(data.corr(),2), annot = True)\n",
        "plt.savefig(\"heatmap.jpeg\")\n",
        "plt.show()"
      ],
      "metadata": {
        "colab": {
          "base_uri": "https://localhost:8080/",
          "height": 643
        },
        "id": "SPVVVmdgzaK3",
        "outputId": "ce8e6d55-1dd2-4660-e70e-16b036003cb0"
      },
      "execution_count": 17,
      "outputs": [
        {
          "output_type": "display_data",
          "data": {
            "text/plain": [
              "<Figure size 720x720 with 2 Axes>"
            ],
            "image/png": "[encoded data removed]"
          },
          "metadata": {
            "needs_background": "light"
          }
        }
      ]
    },
    {
      "cell_type": "markdown",
      "source": [
        "We see that \"temp\" and \"atemp\" are almost perfectly corelated with corelation of 0.99. Also from data dictionary, see that they show real tempeature and feeling temperature which are bound to be corelated.\n",
        "Hence we will drop one of them ie \"atemp\" to prevent multicolinarity in model. \n"
      ],
      "metadata": {
        "id": "kQxwQ83712YH"
      }
    },
    {
      "cell_type": "code",
      "source": [
        "#Drop atemp variable\n",
        "data.drop([\"atemp\"],axis =1,inplace =True  )"
      ],
      "metadata": {
        "id": "0gRztIYb0hop"
      },
      "execution_count": 18,
      "outputs": []
    },
    {
      "cell_type": "markdown",
      "source": [
        "Lets see the final shape and some samples"
      ],
      "metadata": {
        "id": "LCVgmTOV11bP"
      }
    },
    {
      "cell_type": "code",
      "source": [
        "print(data.shape)\n",
        "data.head()"
      ],
      "metadata": {
        "colab": {
          "base_uri": "https://localhost:8080/",
          "height": 224
        },
        "id": "yl5KZvdB3YHs",
        "outputId": "4433bb89-964b-4193-ade0-45bf9ea1b6f1"
      },
      "execution_count": 19,
      "outputs": [
        {
          "output_type": "stream",
          "name": "stdout",
          "text": [
            "(730, 12)\n"
          ]
        },
        {
          "output_type": "execute_result",
          "data": {
            "text/plain": [
              "   season  yr  mnth  holiday  weekday  workingday  weathersit       temp  \\\n",
              "0       1   0     1        0        6           0           2  14.110847   \n",
              "1       1   0     1        0        0           0           2  14.902598   \n",
              "2       1   0     1        0        1           1           1   8.050924   \n",
              "3       1   0     1        0        2           1           1   8.200000   \n",
              "4       1   0     1        0        3           1           1   9.305237   \n",
              "\n",
              "       hum  windspeed   cnt  day  \n",
              "0  80.5833  10.749882   985    1  \n",
              "1  69.6087  16.652113   801    2  \n",
              "2  43.7273  16.636703  1349    3  \n",
              "3  59.0435  10.739832  1562    4  \n",
              "4  43.6957  12.522300  1600    5  "
            ],
            "text/html": [
              "\n",
              "  <div id=\"df-eb5e80e0-31b8-46e4-a925-0c1767b203a8\">\n",
              "    <div class=\"colab-df-container\">\n",
              "      <div>\n",
              "<style scoped>\n",
              "    .dataframe tbody tr th:only-of-type {\n",
              "        vertical-align: middle;\n",
              "    }\n",
              "\n",
              "    .dataframe tbody tr th {\n",
              "        vertical-align: top;\n",
              "    }\n",
              "\n",
              "    .dataframe thead th {\n",
              "        text-align: right;\n",
              "    }\n",
              "</style>\n",
              "<table border=\"1\" class=\"dataframe\">\n",
              "  <thead>\n",
              "    <tr style=\"text-align: right;\">\n",
              "      <th></th>\n",
              "      <th>season</th>\n",
              "      <th>yr</th>\n",
              "      <th>mnth</th>\n",
              "      <th>holiday</th>\n",
              "      <th>weekday</th>\n",
              "      <th>workingday</th>\n",
              "      <th>weathersit</th>\n",
              "      <th>temp</th>\n",
              "      <th>hum</th>\n",
              "      <th>windspeed</th>\n",
              "      <th>cnt</th>\n",
              "      <th>day</th>\n",
              "    </tr>\n",
              "  </thead>\n",
              "  <tbody>\n",
              "    <tr>\n",
              "      <th>0</th>\n",
              "      <td>1</td>\n",
              "      <td>0</td>\n",
              "      <td>1</td>\n",
              "      <td>0</td>\n",
              "      <td>6</td>\n",
              "      <td>0</td>\n",
              "      <td>2</td>\n",
              "      <td>14.110847</td>\n",
              "      <td>80.5833</td>\n",
              "      <td>10.749882</td>\n",
              "      <td>985</td>\n",
              "      <td>1</td>\n",
              "    </tr>\n",
              "    <tr>\n",
              "      <th>1</th>\n",
              "      <td>1</td>\n",
              "      <td>0</td>\n",
              "      <td>1</td>\n",
              "      <td>0</td>\n",
              "      <td>0</td>\n",
              "      <td>0</td>\n",
              "      <td>2</td>\n",
              "      <td>14.902598</td>\n",
              "      <td>69.6087</td>\n",
              "      <td>16.652113</td>\n",
              "      <td>801</td>\n",
              "      <td>2</td>\n",
              "    </tr>\n",
              "    <tr>\n",
              "      <th>2</th>\n",
              "      <td>1</td>\n",
              "      <td>0</td>\n",
              "      <td>1</td>\n",
              "      <td>0</td>\n",
              "      <td>1</td>\n",
              "      <td>1</td>\n",
              "      <td>1</td>\n",
              "      <td>8.050924</td>\n",
              "      <td>43.7273</td>\n",
              "      <td>16.636703</td>\n",
              "      <td>1349</td>\n",
              "      <td>3</td>\n",
              "    </tr>\n",
              "    <tr>\n",
              "      <th>3</th>\n",
              "      <td>1</td>\n",
              "      <td>0</td>\n",
              "      <td>1</td>\n",
              "      <td>0</td>\n",
              "      <td>2</td>\n",
              "      <td>1</td>\n",
              "      <td>1</td>\n",
              "      <td>8.200000</td>\n",
              "      <td>59.0435</td>\n",
              "      <td>10.739832</td>\n",
              "      <td>1562</td>\n",
              "      <td>4</td>\n",
              "    </tr>\n",
              "    <tr>\n",
              "      <th>4</th>\n",
              "      <td>1</td>\n",
              "      <td>0</td>\n",
              "      <td>1</td>\n",
              "      <td>0</td>\n",
              "      <td>3</td>\n",
              "      <td>1</td>\n",
              "      <td>1</td>\n",
              "      <td>9.305237</td>\n",
              "      <td>43.6957</td>\n",
              "      <td>12.522300</td>\n",
              "      <td>1600</td>\n",
              "      <td>5</td>\n",
              "    </tr>\n",
              "  </tbody>\n",
              "</table>\n",
              "</div>\n",
              "      <button class=\"colab-df-convert\" onclick=\"convertToInteractive('df-eb5e80e0-31b8-46e4-a925-0c1767b203a8')\"\n",
              "              title=\"Convert this dataframe to an interactive table.\"\n",
              "              style=\"display:none;\">\n",
              "        \n",
              "  <svg xmlns=\"http://www.w3.org/2000/svg\" height=\"24px\"viewBox=\"0 0 24 24\"\n",
              "       width=\"24px\">\n",
              "    <path d=\"M0 0h24v24H0V0z\" fill=\"none\"/>\n",
              "    <path d=\"M18.56 5.44l.94 2.06.94-2.06 2.06-.94-2.06-.94-.94-2.06-.94 2.06-2.06.94zm-11 1L8.5 8.5l.94-2.06 2.06-.94-2.06-.94L8.5 2.5l-.94 2.06-2.06.94zm10 10l.94 2.06.94-2.06 2.06-.94-2.06-.94-.94-2.06-.94 2.06-2.06.94z\"/><path d=\"M17.41 7.96l-1.37-1.37c-.4-.4-.92-.59-1.43-.59-.52 0-1.04.2-1.43.59L10.3 9.45l-7.72 7.72c-.78.78-.78 2.05 0 2.83L4 21.41c.39.39.9.59 1.41.59.51 0 1.02-.2 1.41-.59l7.78-7.78 2.81-2.81c.8-.78.8-2.07 0-2.86zM5.41 20L4 18.59l7.72-7.72 1.47 1.35L5.41 20z\"/>\n",
              "  </svg>\n",
              "      </button>\n",
              "      \n",
              "  <style>\n",
              "    .colab-df-container {\n",
              "      display:flex;\n",
              "      flex-wrap:wrap;\n",
              "      gap: 12px;\n",
              "    }\n",
              "\n",
              "    .colab-df-convert {\n",
              "      background-color: #E8F0FE;\n",
              "      border: none;\n",
              "      border-radius: 50%;\n",
              "      cursor: pointer;\n",
              "      display: none;\n",
              "      fill: #1967D2;\n",
              "      height: 32px;\n",
              "      padding: 0 0 0 0;\n",
              "      width: 32px;\n",
              "    }\n",
              "\n",
              "    .colab-df-convert:hover {\n",
              "      background-color: #E2EBFA;\n",
              "      box-shadow: 0px 1px 2px rgba(60, 64, 67, 0.3), 0px 1px 3px 1px rgba(60, 64, 67, 0.15);\n",
              "      fill: #174EA6;\n",
              "    }\n",
              "\n",
              "    [theme=dark] .colab-df-convert {\n",
              "      background-color: #3B4455;\n",
              "      fill: #D2E3FC;\n",
              "    }\n",
              "\n",
              "    [theme=dark] .colab-df-convert:hover {\n",
              "      background-color: #434B5C;\n",
              "      box-shadow: 0px 1px 3px 1px rgba(0, 0, 0, 0.15);\n",
              "      filter: drop-shadow(0px 1px 2px rgba(0, 0, 0, 0.3));\n",
              "      fill: #FFFFFF;\n",
              "    }\n",
              "  </style>\n",
              "\n",
              "      <script>\n",
              "        const buttonEl =\n",
              "          document.querySelector('#df-eb5e80e0-31b8-46e4-a925-0c1767b203a8 button.colab-df-convert');\n",
              "        buttonEl.style.display =\n",
              "          google.colab.kernel.accessAllowed ? 'block' : 'none';\n",
              "\n",
              "        async function convertToInteractive(key) {\n",
              "          const element = document.querySelector('#df-eb5e80e0-31b8-46e4-a925-0c1767b203a8');\n",
              "          const dataTable =\n",
              "            await google.colab.kernel.invokeFunction('convertToInteractive',\n",
              "                                                     [key], {});\n",
              "          if (!dataTable) return;\n",
              "\n",
              "          const docLinkHtml = 'Like what you see? Visit the ' +\n",
              "            '<a target=\"_blank\" href=https://colab.research.google.com/notebooks/data_table.ipynb>data table notebook</a>'\n",
              "            + ' to learn more about interactive tables.';\n",
              "          element.innerHTML = '';\n",
              "          dataTable['output_type'] = 'display_data';\n",
              "          await google.colab.output.renderOutput(dataTable, element);\n",
              "          const docLink = document.createElement('div');\n",
              "          docLink.innerHTML = docLinkHtml;\n",
              "          element.appendChild(docLink);\n",
              "        }\n",
              "      </script>\n",
              "    </div>\n",
              "  </div>\n",
              "  "
            ]
          },
          "metadata": {},
          "execution_count": 19
        }
      ]
    },
    {
      "cell_type": "markdown",
      "source": [
        "Lets check how numeric varibles vary with target."
      ],
      "metadata": {
        "id": "h2EDpS9e4HS1"
      }
    },
    {
      "cell_type": "code",
      "source": [
        "#list of numeric variables\n",
        "num_vars = [\"temp\",\"hum\",\"windspeed\",\"cnt\"]\n",
        "#create pairplots\n",
        "sns.pairplot(data[num_vars])\n",
        "plt.savefig(\"Pairplot.jpeg\")\n",
        "plt.show()"
      ],
      "metadata": {
        "colab": {
          "base_uri": "https://localhost:8080/",
          "height": 726
        },
        "id": "sictA-_y4GCt",
        "outputId": "a9457295-f992-4470-97ee-3345ed9c2ba5"
      },
      "execution_count": 20,
      "outputs": [
        {
          "output_type": "display_data",
          "data": {
            "text/plain": [
              "<Figure size 720x720 with 20 Axes>"
            ],
            "image/png": "[encoded data removed]"
          },
          "metadata": {
            "needs_background": "light"
          }
        }
      ]
    },
    {
      "cell_type": "markdown",
      "source": [
        "### Insight\n",
        "We see that there seems to be linear relation between variable \"temp\" and target."
      ],
      "metadata": {
        "id": "IOoEGyke5wXd"
      }
    },
    {
      "cell_type": "markdown",
      "source": [
        "Now lets explore categorical variables. But from data dictionary see that some of them are encoded into numericals. For example for variable \"season\", spring is encoded as 1 and summer as 2. But this encoding has a problem that model will interpret summer as twice of 2 numerically which is illogical. Hence we will decode these categorical varibles to their actual meaning and then encode them appropriately."
      ],
      "metadata": {
        "id": "TIvb2yZHWTpp"
      }
    },
    {
      "cell_type": "markdown",
      "source": [
        "Lets map these back to original categories.\n",
        "We also know 1st Jan 2018 was monday. Hence we know that in dataset weekday Mon is encoded as 6 and not 0."
      ],
      "metadata": {
        "id": "4wwYWqNjXtNg"
      }
    },
    {
      "cell_type": "code",
      "source": [
        "#mapping categorical variables to original categories.\n",
        "#mapping for season variable\n",
        "data[\"season\"] = data[\"season\"].map({1 :\"spring\", 2: \"summer\",3:\"fall\",4:\"winter\"})\n",
        "#mapping for season variable\n",
        "data[\"weekday\"] = data[\"weekday\"].map({5 :\"sun\", 6: \"mon\",0:\"tue\",1:\"wed\",2:\"thur\",3:\"fri\",4:\"sat\"})\n",
        "#mapping for season variable\n",
        "data[\"mnth\"] = data[\"mnth\"].map({1: \"Jan\",2:\"Feb\",3:\"Mar\",4:\"April\",5:\"May\",6:\"June\",7 :\"July\", 8: \"Aug\",9:\"Sept\",10:\"Oct\",11:\"Nov\",12:\"Dec\"})\n",
        "#mapping for season variable\n",
        "data[\"weathersit\"] = data[\"weathersit\"].map({1 :\"clear\", 2: \"mist\",3:\"light rain\",4:\"heavy rain\"})\n",
        "data.head()"
      ],
      "metadata": {
        "id": "xFzIZeSYX7CC",
        "colab": {
          "base_uri": "https://localhost:8080/",
          "height": 206
        },
        "outputId": "51fec076-4c5c-496b-e72b-d227ed87e00b"
      },
      "execution_count": 21,
      "outputs": [
        {
          "output_type": "execute_result",
          "data": {
            "text/plain": [
              "   season  yr mnth  holiday weekday  workingday weathersit       temp  \\\n",
              "0  spring   0  Jan        0     mon           0       mist  14.110847   \n",
              "1  spring   0  Jan        0     tue           0       mist  14.902598   \n",
              "2  spring   0  Jan        0     wed           1      clear   8.050924   \n",
              "3  spring   0  Jan        0    thur           1      clear   8.200000   \n",
              "4  spring   0  Jan        0     fri           1      clear   9.305237   \n",
              "\n",
              "       hum  windspeed   cnt  day  \n",
              "0  80.5833  10.749882   985    1  \n",
              "1  69.6087  16.652113   801    2  \n",
              "2  43.7273  16.636703  1349    3  \n",
              "3  59.0435  10.739832  1562    4  \n",
              "4  43.6957  12.522300  1600    5  "
            ],
            "text/html": [
              "\n",
              "  <div id=\"df-d827c569-abf6-4352-915e-377145a46ec5\">\n",
              "    <div class=\"colab-df-container\">\n",
              "      <div>\n",
              "<style scoped>\n",
              "    .dataframe tbody tr th:only-of-type {\n",
              "        vertical-align: middle;\n",
              "    }\n",
              "\n",
              "    .dataframe tbody tr th {\n",
              "        vertical-align: top;\n",
              "    }\n",
              "\n",
              "    .dataframe thead th {\n",
              "        text-align: right;\n",
              "    }\n",
              "</style>\n",
              "<table border=\"1\" class=\"dataframe\">\n",
              "  <thead>\n",
              "    <tr style=\"text-align: right;\">\n",
              "      <th></th>\n",
              "      <th>season</th>\n",
              "      <th>yr</th>\n",
              "      <th>mnth</th>\n",
              "      <th>holiday</th>\n",
              "      <th>weekday</th>\n",
              "      <th>workingday</th>\n",
              "      <th>weathersit</th>\n",
              "      <th>temp</th>\n",
              "      <th>hum</th>\n",
              "      <th>windspeed</th>\n",
              "      <th>cnt</th>\n",
              "      <th>day</th>\n",
              "    </tr>\n",
              "  </thead>\n",
              "  <tbody>\n",
              "    <tr>\n",
              "      <th>0</th>\n",
              "      <td>spring</td>\n",
              "      <td>0</td>\n",
              "      <td>Jan</td>\n",
              "      <td>0</td>\n",
              "      <td>mon</td>\n",
              "      <td>0</td>\n",
              "      <td>mist</td>\n",
              "      <td>14.110847</td>\n",
              "      <td>80.5833</td>\n",
              "      <td>10.749882</td>\n",
              "      <td>985</td>\n",
              "      <td>1</td>\n",
              "    </tr>\n",
              "    <tr>\n",
              "      <th>1</th>\n",
              "      <td>spring</td>\n",
              "      <td>0</td>\n",
              "      <td>Jan</td>\n",
              "      <td>0</td>\n",
              "      <td>tue</td>\n",
              "      <td>0</td>\n",
              "      <td>mist</td>\n",
              "      <td>14.902598</td>\n",
              "      <td>69.6087</td>\n",
              "      <td>16.652113</td>\n",
              "      <td>801</td>\n",
              "      <td>2</td>\n",
              "    </tr>\n",
              "    <tr>\n",
              "      <th>2</th>\n",
              "      <td>spring</td>\n",
              "      <td>0</td>\n",
              "      <td>Jan</td>\n",
              "      <td>0</td>\n",
              "      <td>wed</td>\n",
              "      <td>1</td>\n",
              "      <td>clear</td>\n",
              "      <td>8.050924</td>\n",
              "      <td>43.7273</td>\n",
              "      <td>16.636703</td>\n",
              "      <td>1349</td>\n",
              "      <td>3</td>\n",
              "    </tr>\n",
              "    <tr>\n",
              "      <th>3</th>\n",
              "      <td>spring</td>\n",
              "      <td>0</td>\n",
              "      <td>Jan</td>\n",
              "      <td>0</td>\n",
              "      <td>thur</td>\n",
              "      <td>1</td>\n",
              "      <td>clear</td>\n",
              "      <td>8.200000</td>\n",
              "      <td>59.0435</td>\n",
              "      <td>10.739832</td>\n",
              "      <td>1562</td>\n",
              "      <td>4</td>\n",
              "    </tr>\n",
              "    <tr>\n",
              "      <th>4</th>\n",
              "      <td>spring</td>\n",
              "      <td>0</td>\n",
              "      <td>Jan</td>\n",
              "      <td>0</td>\n",
              "      <td>fri</td>\n",
              "      <td>1</td>\n",
              "      <td>clear</td>\n",
              "      <td>9.305237</td>\n",
              "      <td>43.6957</td>\n",
              "      <td>12.522300</td>\n",
              "      <td>1600</td>\n",
              "      <td>5</td>\n",
              "    </tr>\n",
              "  </tbody>\n",
              "</table>\n",
              "</div>\n",
              "      <button class=\"colab-df-convert\" onclick=\"convertToInteractive('df-d827c569-abf6-4352-915e-377145a46ec5')\"\n",
              "              title=\"Convert this dataframe to an interactive table.\"\n",
              "              style=\"display:none;\">\n",
              "        \n",
              "  <svg xmlns=\"http://www.w3.org/2000/svg\" height=\"24px\"viewBox=\"0 0 24 24\"\n",
              "       width=\"24px\">\n",
              "    <path d=\"M0 0h24v24H0V0z\" fill=\"none\"/>\n",
              "    <path d=\"M18.56 5.44l.94 2.06.94-2.06 2.06-.94-2.06-.94-.94-2.06-.94 2.06-2.06.94zm-11 1L8.5 8.5l.94-2.06 2.06-.94-2.06-.94L8.5 2.5l-.94 2.06-2.06.94zm10 10l.94 2.06.94-2.06 2.06-.94-2.06-.94-.94-2.06-.94 2.06-2.06.94z\"/><path d=\"M17.41 7.96l-1.37-1.37c-.4-.4-.92-.59-1.43-.59-.52 0-1.04.2-1.43.59L10.3 9.45l-7.72 7.72c-.78.78-.78 2.05 0 2.83L4 21.41c.39.39.9.59 1.41.59.51 0 1.02-.2 1.41-.59l7.78-7.78 2.81-2.81c.8-.78.8-2.07 0-2.86zM5.41 20L4 18.59l7.72-7.72 1.47 1.35L5.41 20z\"/>\n",
              "  </svg>\n",
              "      </button>\n",
              "      \n",
              "  <style>\n",
              "    .colab-df-container {\n",
              "      display:flex;\n",
              "      flex-wrap:wrap;\n",
              "      gap: 12px;\n",
              "    }\n",
              "\n",
              "    .colab-df-convert {\n",
              "      background-color: #E8F0FE;\n",
              "      border: none;\n",
              "      border-radius: 50%;\n",
              "      cursor: pointer;\n",
              "      display: none;\n",
              "      fill: #1967D2;\n",
              "      height: 32px;\n",
              "      padding: 0 0 0 0;\n",
              "      width: 32px;\n",
              "    }\n",
              "\n",
              "    .colab-df-convert:hover {\n",
              "      background-color: #E2EBFA;\n",
              "      box-shadow: 0px 1px 2px rgba(60, 64, 67, 0.3), 0px 1px 3px 1px rgba(60, 64, 67, 0.15);\n",
              "      fill: #174EA6;\n",
              "    }\n",
              "\n",
              "    [theme=dark] .colab-df-convert {\n",
              "      background-color: #3B4455;\n",
              "      fill: #D2E3FC;\n",
              "    }\n",
              "\n",
              "    [theme=dark] .colab-df-convert:hover {\n",
              "      background-color: #434B5C;\n",
              "      box-shadow: 0px 1px 3px 1px rgba(0, 0, 0, 0.15);\n",
              "      filter: drop-shadow(0px 1px 2px rgba(0, 0, 0, 0.3));\n",
              "      fill: #FFFFFF;\n",
              "    }\n",
              "  </style>\n",
              "\n",
              "      <script>\n",
              "        const buttonEl =\n",
              "          document.querySelector('#df-d827c569-abf6-4352-915e-377145a46ec5 button.colab-df-convert');\n",
              "        buttonEl.style.display =\n",
              "          google.colab.kernel.accessAllowed ? 'block' : 'none';\n",
              "\n",
              "        async function convertToInteractive(key) {\n",
              "          const element = document.querySelector('#df-d827c569-abf6-4352-915e-377145a46ec5');\n",
              "          const dataTable =\n",
              "            await google.colab.kernel.invokeFunction('convertToInteractive',\n",
              "                                                     [key], {});\n",
              "          if (!dataTable) return;\n",
              "\n",
              "          const docLinkHtml = 'Like what you see? Visit the ' +\n",
              "            '<a target=\"_blank\" href=https://colab.research.google.com/notebooks/data_table.ipynb>data table notebook</a>'\n",
              "            + ' to learn more about interactive tables.';\n",
              "          element.innerHTML = '';\n",
              "          dataTable['output_type'] = 'display_data';\n",
              "          await google.colab.output.renderOutput(dataTable, element);\n",
              "          const docLink = document.createElement('div');\n",
              "          docLink.innerHTML = docLinkHtml;\n",
              "          element.appendChild(docLink);\n",
              "        }\n",
              "      </script>\n",
              "    </div>\n",
              "  </div>\n",
              "  "
            ]
          },
          "metadata": {},
          "execution_count": 21
        }
      ]
    },
    {
      "cell_type": "markdown",
      "source": [
        "Now for the categorical variables, lets see how they vary with target variable."
      ],
      "metadata": {
        "id": "L0a8hKWkRPtn"
      }
    },
    {
      "cell_type": "code",
      "source": [
        "# list of categorical variables\n",
        "var_cat = [\"season\",\"yr\",\"mnth\",\"holiday\",\"weekday\",\"workingday\",\"weathersit\",\"day\"]\n",
        "# plot boxplots\n",
        "plt.figure(figsize = (20,15))\n",
        "for i,col in enumerate(var_cat):\n",
        "  plt.subplot(3,3,i+1)\n",
        "  sns.boxplot(x = col,y = \"cnt\", data = data)\n",
        "  plt.xticks(rotation = 90)\n",
        "plt.savefig(\"boxplot.jpeg\")"
      ],
      "metadata": {
        "id": "EEAggWPH4k8f",
        "colab": {
          "base_uri": "https://localhost:8080/",
          "height": 731
        },
        "outputId": "792b85c8-451e-49ed-d0f1-8460eb1343e0"
      },
      "execution_count": 22,
      "outputs": [
        {
          "output_type": "display_data",
          "data": {
            "text/plain": [
              "<Figure size 1440x1080 with 8 Axes>"
            ],
            "image/png": "[encoded data removed]"
          },
          "metadata": {
            "needs_background": "light"
          }
        }
      ]
    },
    {
      "cell_type": "markdown",
      "source": [
        "## Insights\n",
        "\n",
        "\n",
        "\n",
        "season : Bike usage is highest during the fall season and lowest during spring. There is considerable in bike usage among different season and hence could be a good predictor for the target variable.\n",
        "\n",
        "yr: We see that the demand for shared bikes have increased and almost an increase of 50% from 2018 to 2019. Hence we there is inreaing demand over years.\n",
        "\n",
        "mnth: We see the demand increasing across the year and peak in september and decrease here. Hence mnth can be good predictor variable for target variable.\n",
        "\n",
        "holiday: median bike demand is higher during non holidays. This is opposite to what we expected. Hence the dataset could be biased or it may be getting affected by other factor.\n",
        "\n",
        "weathersit: We see highest demand when weather is clear and least during \n",
        "light rain. Also no demand during high rain weather. Hence weather can be a good predictor for target varibale.\n",
        "\n",
        "day, weekday, workinday: For these variables , the difference in demand among respective categories is very small. Hence we can assume their effect independently on demand is not much.\n",
        "\n",
        "\n",
        "There are outliers for variables day, yr and season."
      ],
      "metadata": {
        "id": "shTOZc_82Bs4"
      }
    },
    {
      "cell_type": "markdown",
      "source": [
        "#2) Data Preparation\n"
      ],
      "metadata": {
        "id": "FPs6ygmntknI"
      }
    },
    {
      "cell_type": "markdown",
      "source": [
        "## Creating dummy variables for categorical variables\n",
        "\n",
        "It will be done for 'season','mnth','weekday', 'weathersit'.\n",
        "It will not be done for 'yr','holiday','workingday' which are already binary encoded.\n",
        "\n",
        "We will drop one category for each variable as only p-1 dummy variables are needed for p categories for a variable. But this is not done for weathersit variable as we may lose valuable information.\n"
      ],
      "metadata": {
        "id": "cB_2Pz9Uufnd"
      }
    },
    {
      "cell_type": "code",
      "source": [
        "#create dummy varaible and drop first category\n",
        "data = pd.get_dummies(data = data, columns = ['season','mnth','weekday'],drop_first = True)\n",
        "# do same for weathersit variable except droping first category\n",
        "data = pd.get_dummies(data = data, columns = [\"weathersit\"])\n"
      ],
      "metadata": {
        "id": "UecFfeWETLWz"
      },
      "execution_count": 23,
      "outputs": []
    },
    {
      "cell_type": "markdown",
      "source": [
        "Lets see the shape now"
      ],
      "metadata": {
        "id": "F6eq3tT5w-MQ"
      }
    },
    {
      "cell_type": "code",
      "source": [
        "data.shape"
      ],
      "metadata": {
        "colab": {
          "base_uri": "https://localhost:8080/"
        },
        "id": "VpWqQ77wxAUq",
        "outputId": "7b9326ff-b0cb-40c6-9c41-722909309d21"
      },
      "execution_count": 24,
      "outputs": [
        {
          "output_type": "execute_result",
          "data": {
            "text/plain": [
              "(730, 31)"
            ]
          },
          "metadata": {},
          "execution_count": 24
        }
      ]
    },
    {
      "cell_type": "markdown",
      "source": [
        "So we have 31 columns now including target variable.\n",
        "Lets see the columns"
      ],
      "metadata": {
        "id": "VCOk7KuVxEzB"
      }
    },
    {
      "cell_type": "code",
      "source": [
        "data.info()"
      ],
      "metadata": {
        "id": "t9qFrBlATMyo",
        "colab": {
          "base_uri": "https://localhost:8080/"
        },
        "outputId": "06489929-5c1a-4b29-a6a8-3c1228863dec"
      },
      "execution_count": 25,
      "outputs": [
        {
          "output_type": "stream",
          "name": "stdout",
          "text": [
            "<class 'pandas.core.frame.DataFrame'>\n",
            "RangeIndex: 730 entries, 0 to 729\n",
            "Data columns (total 31 columns):\n",
            " #   Column                 Non-Null Count  Dtype  \n",
            "---  ------                 --------------  -----  \n",
            " 0   yr                     730 non-null    int64  \n",
            " 1   holiday                730 non-null    int64  \n",
            " 2   workingday             730 non-null    int64  \n",
            " 3   temp                   730 non-null    float64\n",
            " 4   hum                    730 non-null    float64\n",
            " 5   windspeed              730 non-null    float64\n",
            " 6   cnt                    730 non-null    int64  \n",
            " 7   day                    730 non-null    int64  \n",
            " 8   season_spring          730 non-null    uint8  \n",
            " 9   season_summer          730 non-null    uint8  \n",
            " 10  season_winter          730 non-null    uint8  \n",
            " 11  mnth_Aug               730 non-null    uint8  \n",
            " 12  mnth_Dec               730 non-null    uint8  \n",
            " 13  mnth_Feb               730 non-null    uint8  \n",
            " 14  mnth_Jan               730 non-null    uint8  \n",
            " 15  mnth_July              730 non-null    uint8  \n",
            " 16  mnth_June              730 non-null    uint8  \n",
            " 17  mnth_Mar               730 non-null    uint8  \n",
            " 18  mnth_May               730 non-null    uint8  \n",
            " 19  mnth_Nov               730 non-null    uint8  \n",
            " 20  mnth_Oct               730 non-null    uint8  \n",
            " 21  mnth_Sept              730 non-null    uint8  \n",
            " 22  weekday_mon            730 non-null    uint8  \n",
            " 23  weekday_sat            730 non-null    uint8  \n",
            " 24  weekday_sun            730 non-null    uint8  \n",
            " 25  weekday_thur           730 non-null    uint8  \n",
            " 26  weekday_tue            730 non-null    uint8  \n",
            " 27  weekday_wed            730 non-null    uint8  \n",
            " 28  weathersit_clear       730 non-null    uint8  \n",
            " 29  weathersit_light rain  730 non-null    uint8  \n",
            " 30  weathersit_mist        730 non-null    uint8  \n",
            "dtypes: float64(3), int64(5), uint8(23)\n",
            "memory usage: 62.1 KB\n"
          ]
        }
      ]
    },
    {
      "cell_type": "markdown",
      "source": [
        "Note that as we use first drop then alphabetically first category got dropped. For example Fri got dropped for weekday variable."
      ],
      "metadata": {
        "id": "EUQL-dY0xZkd"
      }
    },
    {
      "cell_type": "markdown",
      "source": [
        "## Split data into train and test sets\n",
        "\n",
        "The train data will be used to train the model and model will use this data to earn parameters. The test set will be used to test the performance of that model. This spliting helps us understand how model performs on unseen data. We will be using standard 80:20 split ie 80% data will be used to train model while rest 20% to test it."
      ],
      "metadata": {
        "id": "UAHaKiproGN9"
      }
    },
    {
      "cell_type": "code",
      "source": [
        "#split data using 80:20 ratio\n",
        "df_train, df_test = train_test_split(data,train_size =0.80,test_size=0.20, random_state =100)"
      ],
      "metadata": {
        "id": "QtFAwg06ufx-"
      },
      "execution_count": 26,
      "outputs": []
    },
    {
      "cell_type": "markdown",
      "source": [
        "Lets check the shape of train and test dataset"
      ],
      "metadata": {
        "id": "C_Rbt_rtvcFw"
      }
    },
    {
      "cell_type": "code",
      "source": [
        "df_train.shape"
      ],
      "metadata": {
        "colab": {
          "base_uri": "https://localhost:8080/"
        },
        "id": "v1sjVybqvShs",
        "outputId": "ac8f4507-d567-43ba-f560-f6b91e028c17"
      },
      "execution_count": 27,
      "outputs": [
        {
          "output_type": "execute_result",
          "data": {
            "text/plain": [
              "(584, 31)"
            ]
          },
          "metadata": {},
          "execution_count": 27
        }
      ]
    },
    {
      "cell_type": "code",
      "source": [
        "df_test.shape"
      ],
      "metadata": {
        "colab": {
          "base_uri": "https://localhost:8080/"
        },
        "id": "A-PgHx9cvh3E",
        "outputId": "ef35f965-310c-4e49-ef65-4e2b0ab61968"
      },
      "execution_count": 28,
      "outputs": [
        {
          "output_type": "execute_result",
          "data": {
            "text/plain": [
              "(146, 31)"
            ]
          },
          "metadata": {},
          "execution_count": 28
        }
      ]
    },
    {
      "cell_type": "markdown",
      "source": [
        "So the split has worked perfectly."
      ],
      "metadata": {
        "id": "ngK2RZa5vo7D"
      }
    },
    {
      "cell_type": "markdown",
      "source": [
        "### Scaling\n",
        "\n",
        "We will be using the MinMax Scaler which scales the data to range between 0 and 1. This ensures that all variables are in comparable range and help in better interpretation of the  final coeffcients of the model. \n",
        "We will fit and transform the scaler on train data and later use the tranformation on test data. We will transforming only numeric variables as categorical variables have already been encoded as 0/1."
      ],
      "metadata": {
        "id": "vZ66oD9Xv1Qp"
      }
    },
    {
      "cell_type": "code",
      "source": [
        "# list of numeric variables\n",
        "var_num = ['temp','hum','windspeed','cnt']\n",
        "# Create MinMaxScaler object\n",
        "scaler = MinMaxScaler()\n",
        "# Using MinMaxScaler for scaling \n",
        "df_train[var_num] = scaler.fit_transform(df_train[var_num])"
      ],
      "metadata": {
        "id": "C9STkhZ9yPYT"
      },
      "execution_count": 29,
      "outputs": []
    },
    {
      "cell_type": "markdown",
      "source": [
        "Lets see if the variables are scaled"
      ],
      "metadata": {
        "id": "4snc8MjayuBX"
      }
    },
    {
      "cell_type": "code",
      "source": [
        "df_train.describe()"
      ],
      "metadata": {
        "colab": {
          "base_uri": "https://localhost:8080/",
          "height": 411
        },
        "id": "mP09mAhVyjFe",
        "outputId": "713f63cd-3ac1-4d5a-dd6f-a512294e4841"
      },
      "execution_count": 30,
      "outputs": [
        {
          "output_type": "execute_result",
          "data": {
            "text/plain": [
              "               yr     holiday  workingday        temp         hum   windspeed  \\\n",
              "count  584.000000  584.000000  584.000000  584.000000  584.000000  584.000000   \n",
              "mean     0.513699    0.027397    0.667808    0.537414    0.649499    0.319463   \n",
              "std      0.500241    0.163378    0.471403    0.225336    0.144219    0.168114   \n",
              "min      0.000000    0.000000    0.000000    0.000000    0.000000    0.000000   \n",
              "25%      0.000000    0.000000    0.000000    0.340113    0.535852    0.199177   \n",
              "50%      1.000000    0.000000    1.000000    0.545191    0.653714    0.294764   \n",
              "75%      1.000000    0.000000    1.000000    0.736512    0.752361    0.410413   \n",
              "max      1.000000    1.000000    1.000000    1.000000    1.000000    1.000000   \n",
              "\n",
              "              cnt         day  season_spring  season_summer  ...   mnth_Sept  \\\n",
              "count  584.000000  584.000000     584.000000     584.000000  ...  584.000000   \n",
              "mean     0.515792   15.479452       0.251712       0.246575  ...    0.080479   \n",
              "std      0.225336    8.974880       0.434369       0.431387  ...    0.272267   \n",
              "min      0.000000    1.000000       0.000000       0.000000  ...    0.000000   \n",
              "25%      0.350696    8.000000       0.000000       0.000000  ...    0.000000   \n",
              "50%      0.522837   16.000000       0.000000       0.000000  ...    0.000000   \n",
              "75%      0.691872   23.000000       1.000000       0.000000  ...    0.000000   \n",
              "max      1.000000   31.000000       1.000000       1.000000  ...    1.000000   \n",
              "\n",
              "       weekday_mon  weekday_sat  weekday_sun  weekday_thur  weekday_tue  \\\n",
              "count   584.000000   584.000000   584.000000    584.000000   584.000000   \n",
              "mean      0.150685     0.135274     0.123288      0.133562     0.154110   \n",
              "std       0.358048     0.342309     0.329049      0.340472     0.361363   \n",
              "min       0.000000     0.000000     0.000000      0.000000     0.000000   \n",
              "25%       0.000000     0.000000     0.000000      0.000000     0.000000   \n",
              "50%       0.000000     0.000000     0.000000      0.000000     0.000000   \n",
              "75%       0.000000     0.000000     0.000000      0.000000     0.000000   \n",
              "max       1.000000     1.000000     1.000000      1.000000     1.000000   \n",
              "\n",
              "       weekday_wed  weathersit_clear  weathersit_light rain  weathersit_mist  \n",
              "count   584.000000        584.000000             584.000000       584.000000  \n",
              "mean      0.148973          0.630137               0.027397         0.342466  \n",
              "std       0.356367          0.483181               0.163378         0.474941  \n",
              "min       0.000000          0.000000               0.000000         0.000000  \n",
              "25%       0.000000          0.000000               0.000000         0.000000  \n",
              "50%       0.000000          1.000000               0.000000         0.000000  \n",
              "75%       0.000000          1.000000               0.000000         1.000000  \n",
              "max       1.000000          1.000000               1.000000         1.000000  \n",
              "\n",
              "[8 rows x 31 columns]"
            ],
            "text/html": [
              "\n",
              "  <div id=\"df-e05bb594-6690-49a0-bb55-3da6d1bdfe17\">\n",
              "    <div class=\"colab-df-container\">\n",
              "      <div>\n",
              "<style scoped>\n",
              "    .dataframe tbody tr th:only-of-type {\n",
              "        vertical-align: middle;\n",
              "    }\n",
              "\n",
              "    .dataframe tbody tr th {\n",
              "        vertical-align: top;\n",
              "    }\n",
              "\n",
              "    .dataframe thead th {\n",
              "        text-align: right;\n",
              "    }\n",
              "</style>\n",
              "<table border=\"1\" class=\"dataframe\">\n",
              "  <thead>\n",
              "    <tr style=\"text-align: right;\">\n",
              "      <th></th>\n",
              "      <th>yr</th>\n",
              "      <th>holiday</th>\n",
              "      <th>workingday</th>\n",
              "      <th>temp</th>\n",
              "      <th>hum</th>\n",
              "      <th>windspeed</th>\n",
              "      <th>cnt</th>\n",
              "      <th>day</th>\n",
              "      <th>season_spring</th>\n",
              "      <th>season_summer</th>\n",
              "      <th>...</th>\n",
              "      <th>mnth_Sept</th>\n",
              "      <th>weekday_mon</th>\n",
              "      <th>weekday_sat</th>\n",
              "      <th>weekday_sun</th>\n",
              "      <th>weekday_thur</th>\n",
              "      <th>weekday_tue</th>\n",
              "      <th>weekday_wed</th>\n",
              "      <th>weathersit_clear</th>\n",
              "      <th>weathersit_light rain</th>\n",
              "      <th>weathersit_mist</th>\n",
              "    </tr>\n",
              "  </thead>\n",
              "  <tbody>\n",
              "    <tr>\n",
              "      <th>count</th>\n",
              "      <td>584.000000</td>\n",
              "      <td>584.000000</td>\n",
              "      <td>584.000000</td>\n",
              "      <td>584.000000</td>\n",
              "      <td>584.000000</td>\n",
              "      <td>584.000000</td>\n",
              "      <td>584.000000</td>\n",
              "      <td>584.000000</td>\n",
              "      <td>584.000000</td>\n",
              "      <td>584.000000</td>\n",
              "      <td>...</td>\n",
              "      <td>584.000000</td>\n",
              "      <td>584.000000</td>\n",
              "      <td>584.000000</td>\n",
              "      <td>584.000000</td>\n",
              "      <td>584.000000</td>\n",
              "      <td>584.000000</td>\n",
              "      <td>584.000000</td>\n",
              "      <td>584.000000</td>\n",
              "      <td>584.000000</td>\n",
              "      <td>584.000000</td>\n",
              "    </tr>\n",
              "    <tr>\n",
              "      <th>mean</th>\n",
              "      <td>0.513699</td>\n",
              "      <td>0.027397</td>\n",
              "      <td>0.667808</td>\n",
              "      <td>0.537414</td>\n",
              "      <td>0.649499</td>\n",
              "      <td>0.319463</td>\n",
              "      <td>0.515792</td>\n",
              "      <td>15.479452</td>\n",
              "      <td>0.251712</td>\n",
              "      <td>0.246575</td>\n",
              "      <td>...</td>\n",
              "      <td>0.080479</td>\n",
              "      <td>0.150685</td>\n",
              "      <td>0.135274</td>\n",
              "      <td>0.123288</td>\n",
              "      <td>0.133562</td>\n",
              "      <td>0.154110</td>\n",
              "      <td>0.148973</td>\n",
              "      <td>0.630137</td>\n",
              "      <td>0.027397</td>\n",
              "      <td>0.342466</td>\n",
              "    </tr>\n",
              "    <tr>\n",
              "      <th>std</th>\n",
              "      <td>0.500241</td>\n",
              "      <td>0.163378</td>\n",
              "      <td>0.471403</td>\n",
              "      <td>0.225336</td>\n",
              "      <td>0.144219</td>\n",
              "      <td>0.168114</td>\n",
              "      <td>0.225336</td>\n",
              "      <td>8.974880</td>\n",
              "      <td>0.434369</td>\n",
              "      <td>0.431387</td>\n",
              "      <td>...</td>\n",
              "      <td>0.272267</td>\n",
              "      <td>0.358048</td>\n",
              "      <td>0.342309</td>\n",
              "      <td>0.329049</td>\n",
              "      <td>0.340472</td>\n",
              "      <td>0.361363</td>\n",
              "      <td>0.356367</td>\n",
              "      <td>0.483181</td>\n",
              "      <td>0.163378</td>\n",
              "      <td>0.474941</td>\n",
              "    </tr>\n",
              "    <tr>\n",
              "      <th>min</th>\n",
              "      <td>0.000000</td>\n",
              "      <td>0.000000</td>\n",
              "      <td>0.000000</td>\n",
              "      <td>0.000000</td>\n",
              "      <td>0.000000</td>\n",
              "      <td>0.000000</td>\n",
              "      <td>0.000000</td>\n",
              "      <td>1.000000</td>\n",
              "      <td>0.000000</td>\n",
              "      <td>0.000000</td>\n",
              "      <td>...</td>\n",
              "      <td>0.000000</td>\n",
              "      <td>0.000000</td>\n",
              "      <td>0.000000</td>\n",
              "      <td>0.000000</td>\n",
              "      <td>0.000000</td>\n",
              "      <td>0.000000</td>\n",
              "      <td>0.000000</td>\n",
              "      <td>0.000000</td>\n",
              "      <td>0.000000</td>\n",
              "      <td>0.000000</td>\n",
              "    </tr>\n",
              "    <tr>\n",
              "      <th>25%</th>\n",
              "      <td>0.000000</td>\n",
              "      <td>0.000000</td>\n",
              "      <td>0.000000</td>\n",
              "      <td>0.340113</td>\n",
              "      <td>0.535852</td>\n",
              "      <td>0.199177</td>\n",
              "      <td>0.350696</td>\n",
              "      <td>8.000000</td>\n",
              "      <td>0.000000</td>\n",
              "      <td>0.000000</td>\n",
              "      <td>...</td>\n",
              "      <td>0.000000</td>\n",
              "      <td>0.000000</td>\n",
              "      <td>0.000000</td>\n",
              "      <td>0.000000</td>\n",
              "      <td>0.000000</td>\n",
              "      <td>0.000000</td>\n",
              "      <td>0.000000</td>\n",
              "      <td>0.000000</td>\n",
              "      <td>0.000000</td>\n",
              "      <td>0.000000</td>\n",
              "    </tr>\n",
              "    <tr>\n",
              "      <th>50%</th>\n",
              "      <td>1.000000</td>\n",
              "      <td>0.000000</td>\n",
              "      <td>1.000000</td>\n",
              "      <td>0.545191</td>\n",
              "      <td>0.653714</td>\n",
              "      <td>0.294764</td>\n",
              "      <td>0.522837</td>\n",
              "      <td>16.000000</td>\n",
              "      <td>0.000000</td>\n",
              "      <td>0.000000</td>\n",
              "      <td>...</td>\n",
              "      <td>0.000000</td>\n",
              "      <td>0.000000</td>\n",
              "      <td>0.000000</td>\n",
              "      <td>0.000000</td>\n",
              "      <td>0.000000</td>\n",
              "      <td>0.000000</td>\n",
              "      <td>0.000000</td>\n",
              "      <td>1.000000</td>\n",
              "      <td>0.000000</td>\n",
              "      <td>0.000000</td>\n",
              "    </tr>\n",
              "    <tr>\n",
              "      <th>75%</th>\n",
              "      <td>1.000000</td>\n",
              "      <td>0.000000</td>\n",
              "      <td>1.000000</td>\n",
              "      <td>0.736512</td>\n",
              "      <td>0.752361</td>\n",
              "      <td>0.410413</td>\n",
              "      <td>0.691872</td>\n",
              "      <td>23.000000</td>\n",
              "      <td>1.000000</td>\n",
              "      <td>0.000000</td>\n",
              "      <td>...</td>\n",
              "      <td>0.000000</td>\n",
              "      <td>0.000000</td>\n",
              "      <td>0.000000</td>\n",
              "      <td>0.000000</td>\n",
              "      <td>0.000000</td>\n",
              "      <td>0.000000</td>\n",
              "      <td>0.000000</td>\n",
              "      <td>1.000000</td>\n",
              "      <td>0.000000</td>\n",
              "      <td>1.000000</td>\n",
              "    </tr>\n",
              "    <tr>\n",
              "      <th>max</th>\n",
              "      <td>1.000000</td>\n",
              "      <td>1.000000</td>\n",
              "      <td>1.000000</td>\n",
              "      <td>1.000000</td>\n",
              "      <td>1.000000</td>\n",
              "      <td>1.000000</td>\n",
              "      <td>1.000000</td>\n",
              "      <td>31.000000</td>\n",
              "      <td>1.000000</td>\n",
              "      <td>1.000000</td>\n",
              "      <td>...</td>\n",
              "      <td>1.000000</td>\n",
              "      <td>1.000000</td>\n",
              "      <td>1.000000</td>\n",
              "      <td>1.000000</td>\n",
              "      <td>1.000000</td>\n",
              "      <td>1.000000</td>\n",
              "      <td>1.000000</td>\n",
              "      <td>1.000000</td>\n",
              "      <td>1.000000</td>\n",
              "      <td>1.000000</td>\n",
              "    </tr>\n",
              "  </tbody>\n",
              "</table>\n",
              "<p>8 rows × 31 columns</p>\n",
              "</div>\n",
              "      <button class=\"colab-df-convert\" onclick=\"convertToInteractive('df-e05bb594-6690-49a0-bb55-3da6d1bdfe17')\"\n",
              "              title=\"Convert this dataframe to an interactive table.\"\n",
              "              style=\"display:none;\">\n",
              "        \n",
              "  <svg xmlns=\"http://www.w3.org/2000/svg\" height=\"24px\"viewBox=\"0 0 24 24\"\n",
              "       width=\"24px\">\n",
              "    <path d=\"M0 0h24v24H0V0z\" fill=\"none\"/>\n",
              "    <path d=\"M18.56 5.44l.94 2.06.94-2.06 2.06-.94-2.06-.94-.94-2.06-.94 2.06-2.06.94zm-11 1L8.5 8.5l.94-2.06 2.06-.94-2.06-.94L8.5 2.5l-.94 2.06-2.06.94zm10 10l.94 2.06.94-2.06 2.06-.94-2.06-.94-.94-2.06-.94 2.06-2.06.94z\"/><path d=\"M17.41 7.96l-1.37-1.37c-.4-.4-.92-.59-1.43-.59-.52 0-1.04.2-1.43.59L10.3 9.45l-7.72 7.72c-.78.78-.78 2.05 0 2.83L4 21.41c.39.39.9.59 1.41.59.51 0 1.02-.2 1.41-.59l7.78-7.78 2.81-2.81c.8-.78.8-2.07 0-2.86zM5.41 20L4 18.59l7.72-7.72 1.47 1.35L5.41 20z\"/>\n",
              "  </svg>\n",
              "      </button>\n",
              "      \n",
              "  <style>\n",
              "    .colab-df-container {\n",
              "      display:flex;\n",
              "      flex-wrap:wrap;\n",
              "      gap: 12px;\n",
              "    }\n",
              "\n",
              "    .colab-df-convert {\n",
              "      background-color: #E8F0FE;\n",
              "      border: none;\n",
              "      border-radius: 50%;\n",
              "      cursor: pointer;\n",
              "      display: none;\n",
              "      fill: #1967D2;\n",
              "      height: 32px;\n",
              "      padding: 0 0 0 0;\n",
              "      width: 32px;\n",
              "    }\n",
              "\n",
              "    .colab-df-convert:hover {\n",
              "      background-color: #E2EBFA;\n",
              "      box-shadow: 0px 1px 2px rgba(60, 64, 67, 0.3), 0px 1px 3px 1px rgba(60, 64, 67, 0.15);\n",
              "      fill: #174EA6;\n",
              "    }\n",
              "\n",
              "    [theme=dark] .colab-df-convert {\n",
              "      background-color: #3B4455;\n",
              "      fill: #D2E3FC;\n",
              "    }\n",
              "\n",
              "    [theme=dark] .colab-df-convert:hover {\n",
              "      background-color: #434B5C;\n",
              "      box-shadow: 0px 1px 3px 1px rgba(0, 0, 0, 0.15);\n",
              "      filter: drop-shadow(0px 1px 2px rgba(0, 0, 0, 0.3));\n",
              "      fill: #FFFFFF;\n",
              "    }\n",
              "  </style>\n",
              "\n",
              "      <script>\n",
              "        const buttonEl =\n",
              "          document.querySelector('#df-e05bb594-6690-49a0-bb55-3da6d1bdfe17 button.colab-df-convert');\n",
              "        buttonEl.style.display =\n",
              "          google.colab.kernel.accessAllowed ? 'block' : 'none';\n",
              "\n",
              "        async function convertToInteractive(key) {\n",
              "          const element = document.querySelector('#df-e05bb594-6690-49a0-bb55-3da6d1bdfe17');\n",
              "          const dataTable =\n",
              "            await google.colab.kernel.invokeFunction('convertToInteractive',\n",
              "                                                     [key], {});\n",
              "          if (!dataTable) return;\n",
              "\n",
              "          const docLinkHtml = 'Like what you see? Visit the ' +\n",
              "            '<a target=\"_blank\" href=https://colab.research.google.com/notebooks/data_table.ipynb>data table notebook</a>'\n",
              "            + ' to learn more about interactive tables.';\n",
              "          element.innerHTML = '';\n",
              "          dataTable['output_type'] = 'display_data';\n",
              "          await google.colab.output.renderOutput(dataTable, element);\n",
              "          const docLink = document.createElement('div');\n",
              "          docLink.innerHTML = docLinkHtml;\n",
              "          element.appendChild(docLink);\n",
              "        }\n",
              "      </script>\n",
              "    </div>\n",
              "  </div>\n",
              "  "
            ]
          },
          "metadata": {},
          "execution_count": 30
        }
      ]
    },
    {
      "cell_type": "markdown",
      "source": [
        "We see that scaling worked and all variables are scaled to range between 0 and 1."
      ],
      "metadata": {
        "id": "_XW8kC0q0BfE"
      }
    },
    {
      "cell_type": "markdown",
      "source": [
        "##3) Model building\n",
        "\n",
        "We see that the target variable \"cnt\" is a continousia and so we need to use a regression model. We also see that there are multiple input variables and some of them seem to have a linear relation with target variable.\n",
        "Hence we will be using a Multiple Linear Regression Model."
      ],
      "metadata": {
        "id": "MyEMnfYQ0PC7"
      }
    },
    {
      "cell_type": "markdown",
      "source": [
        "Lets create x_train and y_train from train set"
      ],
      "metadata": {
        "id": "xAem3c4d1w69"
      }
    },
    {
      "cell_type": "code",
      "source": [
        "# pop out the target variable to get y_train\n",
        "y_train = df_train.pop('cnt')\n",
        "#rest becomes X_train\n",
        "X_train = df_train"
      ],
      "metadata": {
        "id": "ndDwaCglzFta"
      },
      "execution_count": 31,
      "outputs": []
    },
    {
      "cell_type": "markdown",
      "source": [
        "## Approach\n",
        "\n",
        "We will be using a mixed approach ie a combination of automated and then manual approach.\n",
        "For the automated approach we will use: Recursive Feature Elimination(RFE) and the manually remove feature one by one according to p value and VIF values."
      ],
      "metadata": {
        "id": "pZiGIxzM2Imc"
      }
    },
    {
      "cell_type": "markdown",
      "source": [
        "## RFE \n",
        "\n",
        "Since there are 30 input features, will choose top 50% features using RFE of sklearn library.\n",
        "Hence we will set no of fetures to 15 in RFE.\n"
      ],
      "metadata": {
        "id": "Dsz5M3673Swy"
      }
    },
    {
      "cell_type": "code",
      "source": [
        "# Create linear regression object\n",
        "lr = LinearRegression()\n",
        "# fit object to train data\n",
        "lr.fit(X_train, y_train)\n",
        "# Select top 15 features using RFE\n",
        "rfe = RFE(lr, n_features_to_select =15)      \n",
        "# fit rfe to data      \n",
        "rfe = rfe.fit(X_train, y_train)"
      ],
      "metadata": {
        "id": "ze9XPWed6Bq_"
      },
      "execution_count": 32,
      "outputs": []
    },
    {
      "cell_type": "markdown",
      "source": [
        "Lets see the result of RFE"
      ],
      "metadata": {
        "id": "ezO4nxMY7Q-V"
      }
    },
    {
      "cell_type": "code",
      "source": [
        "# show list of variable , their RFE status and RFE ranking\n",
        "list(zip(X_train.columns,rfe.support_,rfe.ranking_))"
      ],
      "metadata": {
        "id": "_MRE2XW47SoF",
        "colab": {
          "base_uri": "https://localhost:8080/"
        },
        "outputId": "05b3b582-7c62-4c11-94aa-6093ba192ca0"
      },
      "execution_count": 33,
      "outputs": [
        {
          "output_type": "execute_result",
          "data": {
            "text/plain": [
              "[('yr', True, 1),\n",
              " ('holiday', False, 2),\n",
              " ('workingday', True, 1),\n",
              " ('temp', True, 1),\n",
              " ('hum', True, 1),\n",
              " ('windspeed', True, 1),\n",
              " ('day', False, 16),\n",
              " ('season_spring', True, 1),\n",
              " ('season_summer', False, 4),\n",
              " ('season_winter', True, 1),\n",
              " ('mnth_Aug', False, 11),\n",
              " ('mnth_Dec', True, 1),\n",
              " ('mnth_Feb', False, 5),\n",
              " ('mnth_Jan', True, 1),\n",
              " ('mnth_July', True, 1),\n",
              " ('mnth_June', False, 12),\n",
              " ('mnth_Mar', False, 14),\n",
              " ('mnth_May', False, 9),\n",
              " ('mnth_Nov', True, 1),\n",
              " ('mnth_Oct', False, 10),\n",
              " ('mnth_Sept', False, 3),\n",
              " ('weekday_mon', True, 1),\n",
              " ('weekday_sat', False, 15),\n",
              " ('weekday_sun', False, 13),\n",
              " ('weekday_thur', False, 8),\n",
              " ('weekday_tue', False, 6),\n",
              " ('weekday_wed', False, 7),\n",
              " ('weathersit_clear', True, 1),\n",
              " ('weathersit_light rain', True, 1),\n",
              " ('weathersit_mist', True, 1)]"
            ]
          },
          "metadata": {},
          "execution_count": 33
        }
      ]
    },
    {
      "cell_type": "markdown",
      "source": [
        "Now lets see the top 15 columns selected by RFE"
      ],
      "metadata": {
        "id": "nmm9Pen88H27"
      }
    },
    {
      "cell_type": "code",
      "source": [
        "# variables supported by rfe\n",
        "col = X_train.columns[rfe.support_]\n",
        "col"
      ],
      "metadata": {
        "id": "vcMn5OEv8SLT",
        "colab": {
          "base_uri": "https://localhost:8080/"
        },
        "outputId": "f6765a7a-8e51-4413-b963-f3d7264af81a"
      },
      "execution_count": 34,
      "outputs": [
        {
          "output_type": "execute_result",
          "data": {
            "text/plain": [
              "Index(['yr', 'workingday', 'temp', 'hum', 'windspeed', 'season_spring',\n",
              "       'season_winter', 'mnth_Dec', 'mnth_Jan', 'mnth_July', 'mnth_Nov',\n",
              "       'weekday_mon', 'weathersit_clear', 'weathersit_light rain',\n",
              "       'weathersit_mist'],\n",
              "      dtype='object')"
            ]
          },
          "metadata": {},
          "execution_count": 34
        }
      ]
    },
    {
      "cell_type": "markdown",
      "source": [
        "These are the fetures that have most significant for modelling.\n",
        "Lets also see those rejected by RFE."
      ],
      "metadata": {
        "id": "VaVMX5R_8UkH"
      }
    },
    {
      "cell_type": "code",
      "source": [
        "X_train.columns[~rfe.support_]"
      ],
      "metadata": {
        "id": "Xv9JJXDS8k1v",
        "colab": {
          "base_uri": "https://localhost:8080/"
        },
        "outputId": "0e1f7949-dcac-4d7b-caae-cc7757b66160"
      },
      "execution_count": 35,
      "outputs": [
        {
          "output_type": "execute_result",
          "data": {
            "text/plain": [
              "Index(['holiday', 'day', 'season_summer', 'mnth_Aug', 'mnth_Feb', 'mnth_June',\n",
              "       'mnth_Mar', 'mnth_May', 'mnth_Oct', 'mnth_Sept', 'weekday_sat',\n",
              "       'weekday_sun', 'weekday_thur', 'weekday_tue', 'weekday_wed'],\n",
              "      dtype='object')"
            ]
          },
          "metadata": {},
          "execution_count": 35
        }
      ]
    },
    {
      "cell_type": "markdown",
      "source": [
        "Now finally lets create the X_train with the selected features that will be used for training the model."
      ],
      "metadata": {
        "id": "mWpOkE2J8nKs"
      }
    },
    {
      "cell_type": "code",
      "source": [
        "# Creating X_train using selected variables\n",
        "X_train_rfe = X_train[col]"
      ],
      "metadata": {
        "id": "36IGnSdP8v-I"
      },
      "execution_count": 36,
      "outputs": []
    },
    {
      "cell_type": "code",
      "source": [
        "list(col)"
      ],
      "metadata": {
        "id": "JXQdyyQTjY9v",
        "colab": {
          "base_uri": "https://localhost:8080/"
        },
        "outputId": "3e44265b-d711-44ba-aaff-7bf27b7ad0fc"
      },
      "execution_count": 37,
      "outputs": [
        {
          "output_type": "execute_result",
          "data": {
            "text/plain": [
              "['yr',\n",
              " 'workingday',\n",
              " 'temp',\n",
              " 'hum',\n",
              " 'windspeed',\n",
              " 'season_spring',\n",
              " 'season_winter',\n",
              " 'mnth_Dec',\n",
              " 'mnth_Jan',\n",
              " 'mnth_July',\n",
              " 'mnth_Nov',\n",
              " 'weekday_mon',\n",
              " 'weathersit_clear',\n",
              " 'weathersit_light rain',\n",
              " 'weathersit_mist']"
            ]
          },
          "metadata": {},
          "execution_count": 37
        }
      ]
    },
    {
      "cell_type": "markdown",
      "source": [
        "## Modelling with manual approach"
      ],
      "metadata": {
        "id": "SP8RF3ge9PBi"
      }
    },
    {
      "cell_type": "markdown",
      "source": [
        "We will create linear regression model with all the selected variables first.Then we will drop one variable according to p value and VIF values and create new model. We will repeat this until we get a model where no more variables can be dropped.\n",
        "\n",
        "Since this is a repetitive procedure we will create user defined functions that create model and another one that give VIF values."
      ],
      "metadata": {
        "id": "KOpC0InLga6J"
      }
    },
    {
      "cell_type": "markdown",
      "source": [
        "Lets create a function that create linear model with statsmodel module using the columns given as input. We will print summary of module and also return the model."
      ],
      "metadata": {
        "id": "aqRRhfPYy29y"
      }
    },
    {
      "cell_type": "code",
      "source": [
        "# Function to build a model using statsmodel api \n",
        "def build_lr_model(cols):\n",
        "    # add constant term which is not present by default in statsmodel api\n",
        "    X_train_sm = sm.add_constant(X_train[cols])\n",
        "    # Choose Ordinary least square  as method and fit the model to train data\n",
        "    lm = sm.OLS(y_train, X_train_sm).fit()\n",
        "    #print model summary\n",
        "    print(lm.summary())\n",
        "    # return the linear model\n",
        "    return lm"
      ],
      "metadata": {
        "id": "tBYBq14Tf8KD"
      },
      "execution_count": 38,
      "outputs": []
    },
    {
      "cell_type": "markdown",
      "source": [
        "Also create a function that calculate VIF values for the given set of columns"
      ],
      "metadata": {
        "id": "Hb5mg2oazMAG"
      }
    },
    {
      "cell_type": "code",
      "source": [
        "# Function to calculate VIFs \n",
        "def calculate_vif(cols):\n",
        "    # slice only required columns for train\n",
        "    df = X_train[cols]\n",
        "    # empty data frame to store vif values\n",
        "    vif = pd.DataFrame()\n",
        "    # first column is feature names\n",
        "    vif['Features'] = df.columns\n",
        "    # second columns is the VIF values\n",
        "    vif['VIF'] = [variance_inflation_factor(df.values, i) for i in range(df.shape[1])]\n",
        "    # roundoff VIF values to 2 decimal places\n",
        "    vif['VIF'] = round(vif['VIF'],2)\n",
        "    # print sorted df according to VIF in descending order\n",
        "    print(vif.sort_values(by='VIF',ascending=False))"
      ],
      "metadata": {
        "id": "xLHz-wPXi5fR"
      },
      "execution_count": 39,
      "outputs": []
    },
    {
      "cell_type": "markdown",
      "source": [
        "Now lets create first model using all the RFE selected features."
      ],
      "metadata": {
        "id": "Nhezx2LdzLOw"
      }
    },
    {
      "cell_type": "markdown",
      "source": [
        "## Model 1"
      ],
      "metadata": {
        "id": "Pa8ql6ke3xAh"
      }
    },
    {
      "cell_type": "markdown",
      "source": [
        "Lets see the columns we will use."
      ],
      "metadata": {
        "id": "YU3j1NSp0bly"
      }
    },
    {
      "cell_type": "code",
      "source": [
        "X_train_rfe.columns"
      ],
      "metadata": {
        "id": "W4dWQY_R0p2c",
        "colab": {
          "base_uri": "https://localhost:8080/"
        },
        "outputId": "d61e9051-1d17-4fc4-da81-57bf3b44f32c"
      },
      "execution_count": 40,
      "outputs": [
        {
          "output_type": "execute_result",
          "data": {
            "text/plain": [
              "Index(['yr', 'workingday', 'temp', 'hum', 'windspeed', 'season_spring',\n",
              "       'season_winter', 'mnth_Dec', 'mnth_Jan', 'mnth_July', 'mnth_Nov',\n",
              "       'weekday_mon', 'weathersit_clear', 'weathersit_light rain',\n",
              "       'weathersit_mist'],\n",
              "      dtype='object')"
            ]
          },
          "metadata": {},
          "execution_count": 40
        }
      ]
    },
    {
      "cell_type": "markdown",
      "source": [
        "We will create list of columns and use the function sto create model and get summary."
      ],
      "metadata": {
        "id": "uMvH0lg_1EbQ"
      }
    },
    {
      "cell_type": "code",
      "source": [
        "# create list of selected columns\n",
        "col_list = list(X_train_rfe.columns)  \n",
        "col_list  "
      ],
      "metadata": {
        "id": "n0JfjgIG0-0J",
        "colab": {
          "base_uri": "https://localhost:8080/"
        },
        "outputId": "37f5d90f-772b-4bf2-879c-3d6649b64b56"
      },
      "execution_count": 41,
      "outputs": [
        {
          "output_type": "execute_result",
          "data": {
            "text/plain": [
              "['yr',\n",
              " 'workingday',\n",
              " 'temp',\n",
              " 'hum',\n",
              " 'windspeed',\n",
              " 'season_spring',\n",
              " 'season_winter',\n",
              " 'mnth_Dec',\n",
              " 'mnth_Jan',\n",
              " 'mnth_July',\n",
              " 'mnth_Nov',\n",
              " 'weekday_mon',\n",
              " 'weathersit_clear',\n",
              " 'weathersit_light rain',\n",
              " 'weathersit_mist']"
            ]
          },
          "metadata": {},
          "execution_count": 41
        }
      ]
    },
    {
      "cell_type": "code",
      "source": [
        "# build model using required columns and print summary\n",
        "model1 = build_lr_model(col_list)"
      ],
      "metadata": {
        "id": "o97eKa9C1fPQ",
        "colab": {
          "base_uri": "https://localhost:8080/"
        },
        "outputId": "bf3390aa-1b16-4d1f-f600-e40536d3bae2"
      },
      "execution_count": 42,
      "outputs": [
        {
          "output_type": "stream",
          "name": "stdout",
          "text": [
            "                            OLS Regression Results                            \n",
            "==============================================================================\n",
            "Dep. Variable:                    cnt   R-squared:                       0.850\n",
            "Model:                            OLS   Adj. R-squared:                  0.847\n",
            "Method:                 Least Squares   F-statistic:                     230.9\n",
            "Date:                Tue, 13 Sep 2022   Prob (F-statistic):          6.59e-224\n",
            "Time:                        14:52:00   Log-Likelihood:                 596.66\n",
            "No. Observations:                 584   AIC:                            -1163.\n",
            "Df Residuals:                     569   BIC:                            -1098.\n",
            "Df Model:                          14                                         \n",
            "Covariance Type:            nonrobust                                         \n",
            "=========================================================================================\n",
            "                            coef    std err          t      P>|t|      [0.025      0.975]\n",
            "-----------------------------------------------------------------------------------------\n",
            "const                     0.1525      0.026      5.828      0.000       0.101       0.204\n",
            "yr                        0.2287      0.007     30.792      0.000       0.214       0.243\n",
            "workingday                0.0574      0.010      5.889      0.000       0.038       0.077\n",
            "temp                      0.4430      0.031     14.493      0.000       0.383       0.503\n",
            "hum                      -0.1283      0.035     -3.629      0.000      -0.198      -0.059\n",
            "windspeed                -0.1847      0.024     -7.787      0.000      -0.231      -0.138\n",
            "season_spring            -0.1120      0.014     -7.898      0.000      -0.140      -0.084\n",
            "season_winter             0.0817      0.012      6.548      0.000       0.057       0.106\n",
            "mnth_Dec                 -0.0620      0.015     -4.037      0.000      -0.092      -0.032\n",
            "mnth_Jan                 -0.0513      0.016     -3.139      0.002      -0.083      -0.019\n",
            "mnth_July                -0.0783      0.016     -4.996      0.000      -0.109      -0.048\n",
            "mnth_Nov                 -0.0722      0.017     -4.254      0.000      -0.106      -0.039\n",
            "weekday_mon               0.0678      0.013      5.290      0.000       0.043       0.093\n",
            "weathersit_clear          0.1586      0.009     17.328      0.000       0.141       0.177\n",
            "weathersit_light rain    -0.1049      0.021     -4.978      0.000      -0.146      -0.063\n",
            "weathersit_mist           0.0988      0.011      8.714      0.000       0.077       0.121\n",
            "==============================================================================\n",
            "Omnibus:                      100.725   Durbin-Watson:                   1.975\n",
            "Prob(Omnibus):                  0.000   Jarque-Bera (JB):              301.825\n",
            "Skew:                          -0.823   Prob(JB):                     2.88e-66\n",
            "Kurtosis:                       6.113   Cond. No.                     6.64e+15\n",
            "==============================================================================\n",
            "\n",
            "Notes:\n",
            "[1] Standard Errors assume that the covariance matrix of the errors is correctly specified.\n",
            "[2] The smallest eigenvalue is 4.33e-29. This might indicate that there are\n",
            "strong multicollinearity problems or that the design matrix is singular.\n"
          ]
        }
      ]
    },
    {
      "cell_type": "markdown",
      "source": [
        "We will drop a variable if it is not significant ie p value <0.05 or it has high multicolinearity ie VIF value >5.\n",
        "We see that all features have acceptable p values and adjusted R2 is 0.847 which is a good value.\n",
        "Lets also see the VIF values."
      ],
      "metadata": {
        "id": "vP3L8R6Z2h7S"
      }
    },
    {
      "cell_type": "code",
      "source": [
        "# cacluate VIF for new list of columns\n",
        "calculate_vif(col_list)"
      ],
      "metadata": {
        "id": "HYKrnAxi1_sw",
        "colab": {
          "base_uri": "https://localhost:8080/"
        },
        "outputId": "50494923-f9b3-4790-ad8f-6884be73597d"
      },
      "execution_count": 43,
      "outputs": [
        {
          "output_type": "stream",
          "name": "stdout",
          "text": [
            "                 Features    VIF\n",
            "12       weathersit_clear  44.99\n",
            "14        weathersit_mist  30.77\n",
            "13  weathersit_light rain   3.96\n",
            "2                    temp   3.55\n",
            "5           season_spring   2.84\n",
            "6           season_winter   2.19\n",
            "3                     hum   1.94\n",
            "8                mnth_Jan   1.60\n",
            "10               mnth_Nov   1.60\n",
            "1              workingday   1.58\n",
            "11            weekday_mon   1.57\n",
            "7                mnth_Dec   1.41\n",
            "9               mnth_July   1.28\n",
            "4               windspeed   1.19\n",
            "0                      yr   1.03\n"
          ]
        }
      ]
    },
    {
      "cell_type": "markdown",
      "source": [
        "We see that features \"weathersit_clear\" and \"weathersit_mist\" have very high VIF value. VIF values >5 means more than 80 percent of that variable is explained by other variables. So we will remove the variable with higher VIF and create model again and see summary."
      ],
      "metadata": {
        "id": "mRbYwRkh3L1y"
      }
    },
    {
      "cell_type": "markdown",
      "source": [
        "## Model 2"
      ],
      "metadata": {
        "id": "fYUxiFPN39jp"
      }
    },
    {
      "cell_type": "markdown",
      "source": [
        "So lets remove the variable and see the the columns again"
      ],
      "metadata": {
        "id": "7bbE7zhQ4Lb-"
      }
    },
    {
      "cell_type": "code",
      "source": [
        "# remove variable of hihg VIF value\n",
        "col_list.remove(\"weathersit_clear\")\n",
        "col_list"
      ],
      "metadata": {
        "id": "Fg46qSYe3HwI",
        "colab": {
          "base_uri": "https://localhost:8080/"
        },
        "outputId": "0f44b26f-8255-44a3-8239-cd829b9d0386"
      },
      "execution_count": 44,
      "outputs": [
        {
          "output_type": "execute_result",
          "data": {
            "text/plain": [
              "['yr',\n",
              " 'workingday',\n",
              " 'temp',\n",
              " 'hum',\n",
              " 'windspeed',\n",
              " 'season_spring',\n",
              " 'season_winter',\n",
              " 'mnth_Dec',\n",
              " 'mnth_Jan',\n",
              " 'mnth_July',\n",
              " 'mnth_Nov',\n",
              " 'weekday_mon',\n",
              " 'weathersit_light rain',\n",
              " 'weathersit_mist']"
            ]
          },
          "metadata": {},
          "execution_count": 44
        }
      ]
    },
    {
      "cell_type": "markdown",
      "source": [
        "Now we have 14 variables. Lets create model again and see summary."
      ],
      "metadata": {
        "id": "qvUw00kH5C5v"
      }
    },
    {
      "cell_type": "code",
      "source": [
        "# build model using required columns and print summary\n",
        "model2 = build_lr_model(col_list)\n"
      ],
      "metadata": {
        "id": "T6hT9a4049q5",
        "colab": {
          "base_uri": "https://localhost:8080/"
        },
        "outputId": "b96a4b35-99f3-4f7c-ee55-d5cdb8e98848"
      },
      "execution_count": 45,
      "outputs": [
        {
          "output_type": "stream",
          "name": "stdout",
          "text": [
            "                            OLS Regression Results                            \n",
            "==============================================================================\n",
            "Dep. Variable:                    cnt   R-squared:                       0.850\n",
            "Model:                            OLS   Adj. R-squared:                  0.847\n",
            "Method:                 Least Squares   F-statistic:                     230.9\n",
            "Date:                Tue, 13 Sep 2022   Prob (F-statistic):          6.59e-224\n",
            "Time:                        14:52:00   Log-Likelihood:                 596.66\n",
            "No. Observations:                 584   AIC:                            -1163.\n",
            "Df Residuals:                     569   BIC:                            -1098.\n",
            "Df Model:                          14                                         \n",
            "Covariance Type:            nonrobust                                         \n",
            "=========================================================================================\n",
            "                            coef    std err          t      P>|t|      [0.025      0.975]\n",
            "-----------------------------------------------------------------------------------------\n",
            "const                     0.3110      0.031     10.079      0.000       0.250       0.372\n",
            "yr                        0.2287      0.007     30.792      0.000       0.214       0.243\n",
            "workingday                0.0574      0.010      5.889      0.000       0.038       0.077\n",
            "temp                      0.4430      0.031     14.493      0.000       0.383       0.503\n",
            "hum                      -0.1283      0.035     -3.629      0.000      -0.198      -0.059\n",
            "windspeed                -0.1847      0.024     -7.787      0.000      -0.231      -0.138\n",
            "season_spring            -0.1120      0.014     -7.898      0.000      -0.140      -0.084\n",
            "season_winter             0.0817      0.012      6.548      0.000       0.057       0.106\n",
            "mnth_Dec                 -0.0620      0.015     -4.037      0.000      -0.092      -0.032\n",
            "mnth_Jan                 -0.0513      0.016     -3.139      0.002      -0.083      -0.019\n",
            "mnth_July                -0.0783      0.016     -4.996      0.000      -0.109      -0.048\n",
            "mnth_Nov                 -0.0722      0.017     -4.254      0.000      -0.106      -0.039\n",
            "weekday_mon               0.0678      0.013      5.290      0.000       0.043       0.093\n",
            "weathersit_light rain    -0.2634      0.025    -10.513      0.000      -0.313      -0.214\n",
            "weathersit_mist          -0.0598      0.010     -6.132      0.000      -0.079      -0.041\n",
            "==============================================================================\n",
            "Omnibus:                      100.725   Durbin-Watson:                   1.975\n",
            "Prob(Omnibus):                  0.000   Jarque-Bera (JB):              301.825\n",
            "Skew:                          -0.823   Prob(JB):                     2.88e-66\n",
            "Kurtosis:                       6.113   Cond. No.                         21.2\n",
            "==============================================================================\n",
            "\n",
            "Notes:\n",
            "[1] Standard Errors assume that the covariance matrix of the errors is correctly specified.\n"
          ]
        }
      ]
    },
    {
      "cell_type": "markdown",
      "source": [
        " We see that all features have acceptable p values and adjusted R2 is 0.845.\n",
        " The R2 value didnt drop and model is still good. Lets also see the VIF values."
      ],
      "metadata": {
        "id": "j1lEtJ865l25"
      }
    },
    {
      "cell_type": "code",
      "source": [
        "# cacluate VIF for new list of columns\n",
        "calculate_vif(col_list)\n"
      ],
      "metadata": {
        "id": "XOaOWI7P5Tvp",
        "colab": {
          "base_uri": "https://localhost:8080/"
        },
        "outputId": "3924acc7-9610-4f1f-e089-d3af5d5ea199"
      },
      "execution_count": 46,
      "outputs": [
        {
          "output_type": "stream",
          "name": "stdout",
          "text": [
            "                 Features    VIF\n",
            "3                     hum  25.83\n",
            "2                    temp  17.92\n",
            "1              workingday   4.44\n",
            "4               windspeed   4.23\n",
            "5           season_spring   3.03\n",
            "6           season_winter   2.77\n",
            "13        weathersit_mist   2.29\n",
            "0                      yr   2.08\n",
            "11            weekday_mon   1.77\n",
            "8                mnth_Jan   1.71\n",
            "10               mnth_Nov   1.69\n",
            "7                mnth_Dec   1.51\n",
            "9               mnth_July   1.38\n",
            "12  weathersit_light rain   1.23\n"
          ]
        }
      ]
    },
    {
      "cell_type": "markdown",
      "source": [
        "We see that features \"hum\" and \"temp\" have very high VIF value. We will remove the variable with higher VIF ie \"hum\" and create model again and see summary."
      ],
      "metadata": {
        "id": "_z8O4mU76LEi"
      }
    },
    {
      "cell_type": "markdown",
      "source": [
        "## Model 3\n",
        "\n",
        "\n",
        "So lets remove the variable and see the the columns again"
      ],
      "metadata": {
        "id": "Agl_0gmR6hGo"
      }
    },
    {
      "cell_type": "code",
      "source": [
        "# remove required column\n",
        "col_list.remove(\"hum\")\n",
        "col_list"
      ],
      "metadata": {
        "id": "ri-phejl5sLY",
        "colab": {
          "base_uri": "https://localhost:8080/"
        },
        "outputId": "77016146-b369-4754-b7d2-83dc070ff060"
      },
      "execution_count": 47,
      "outputs": [
        {
          "output_type": "execute_result",
          "data": {
            "text/plain": [
              "['yr',\n",
              " 'workingday',\n",
              " 'temp',\n",
              " 'windspeed',\n",
              " 'season_spring',\n",
              " 'season_winter',\n",
              " 'mnth_Dec',\n",
              " 'mnth_Jan',\n",
              " 'mnth_July',\n",
              " 'mnth_Nov',\n",
              " 'weekday_mon',\n",
              " 'weathersit_light rain',\n",
              " 'weathersit_mist']"
            ]
          },
          "metadata": {},
          "execution_count": 47
        }
      ]
    },
    {
      "cell_type": "markdown",
      "source": [
        "\n",
        "Now we have 13 variables. Lets create model again and see summary."
      ],
      "metadata": {
        "id": "fr4T5fNh6u3p"
      }
    },
    {
      "cell_type": "code",
      "source": [
        "# build model using required columns and print summary\n",
        "model3 = build_lr_model(col_list)"
      ],
      "metadata": {
        "id": "_J7Q-euW6zY6",
        "colab": {
          "base_uri": "https://localhost:8080/"
        },
        "outputId": "cffe34b8-ffd2-444f-a26a-5c5f28e2e812"
      },
      "execution_count": 48,
      "outputs": [
        {
          "output_type": "stream",
          "name": "stdout",
          "text": [
            "                            OLS Regression Results                            \n",
            "==============================================================================\n",
            "Dep. Variable:                    cnt   R-squared:                       0.847\n",
            "Model:                            OLS   Adj. R-squared:                  0.843\n",
            "Method:                 Least Squares   F-statistic:                     242.4\n",
            "Date:                Tue, 13 Sep 2022   Prob (F-statistic):          2.72e-222\n",
            "Time:                        14:52:00   Log-Likelihood:                 589.98\n",
            "No. Observations:                 584   AIC:                            -1152.\n",
            "Df Residuals:                     570   BIC:                            -1091.\n",
            "Df Model:                          13                                         \n",
            "Covariance Type:            nonrobust                                         \n",
            "=========================================================================================\n",
            "                            coef    std err          t      P>|t|      [0.025      0.975]\n",
            "-----------------------------------------------------------------------------------------\n",
            "const                     0.2423      0.025      9.842      0.000       0.194       0.291\n",
            "yr                        0.2325      0.007     31.269      0.000       0.218       0.247\n",
            "workingday                0.0589      0.010      5.984      0.000       0.040       0.078\n",
            "temp                      0.4154      0.030     13.884      0.000       0.357       0.474\n",
            "windspeed                -0.1611      0.023     -6.989      0.000      -0.206      -0.116\n",
            "season_spring            -0.1138      0.014     -7.948      0.000      -0.142      -0.086\n",
            "season_winter             0.0752      0.012      6.025      0.000       0.051       0.100\n",
            "mnth_Dec                 -0.0675      0.015     -4.371      0.000      -0.098      -0.037\n",
            "mnth_Jan                 -0.0557      0.016     -3.375      0.001      -0.088      -0.023\n",
            "mnth_July                -0.0712      0.016     -4.534      0.000      -0.102      -0.040\n",
            "mnth_Nov                 -0.0722      0.017     -4.210      0.000      -0.106      -0.039\n",
            "weekday_mon               0.0704      0.013      5.445      0.000       0.045       0.096\n",
            "weathersit_light rain    -0.3003      0.023    -12.967      0.000      -0.346      -0.255\n",
            "weathersit_mist          -0.0806      0.008    -10.129      0.000      -0.096      -0.065\n",
            "==============================================================================\n",
            "Omnibus:                      102.825   Durbin-Watson:                   1.977\n",
            "Prob(Omnibus):                  0.000   Jarque-Bera (JB):              314.870\n",
            "Skew:                          -0.833   Prob(JB):                     4.24e-69\n",
            "Kurtosis:                       6.188   Cond. No.                         17.3\n",
            "==============================================================================\n",
            "\n",
            "Notes:\n",
            "[1] Standard Errors assume that the covariance matrix of the errors is correctly specified.\n"
          ]
        }
      ]
    },
    {
      "cell_type": "markdown",
      "source": [
        " We see that all features have acceptable p values and adjusted R2 is 0.843.\n",
        " The R2 value change is negligible. Lets also see the VIF values."
      ],
      "metadata": {
        "id": "_R6loXGH8zF0"
      }
    },
    {
      "cell_type": "code",
      "source": [
        "calculate_vif(col_list)"
      ],
      "metadata": {
        "id": "0mgLGBKh6sh6",
        "colab": {
          "base_uri": "https://localhost:8080/"
        },
        "outputId": "dbf3281e-2b73-4653-8fc7-d06c143ac629"
      },
      "execution_count": 49,
      "outputs": [
        {
          "output_type": "stream",
          "name": "stdout",
          "text": [
            "                 Features   VIF\n",
            "2                    temp  6.22\n",
            "1              workingday  4.34\n",
            "3               windspeed  4.23\n",
            "4           season_spring  2.44\n",
            "5           season_winter  2.40\n",
            "0                      yr  2.07\n",
            "10            weekday_mon  1.76\n",
            "9                mnth_Nov  1.65\n",
            "7                mnth_Jan  1.62\n",
            "12        weathersit_mist  1.55\n",
            "6                mnth_Dec  1.42\n",
            "8               mnth_July  1.33\n",
            "11  weathersit_light rain  1.08\n"
          ]
        }
      ]
    },
    {
      "cell_type": "markdown",
      "source": [
        "We see that features \"temp\" has  high VIF value. But temp has high coefficient vaue 0f 0.44 and it according to our knowledge it has significant effect on a business like bike sharing. Thus we will not remove temp variable and  will remove the next variable with higher VIF and create model again and see summary. So we will remove \"workingday\""
      ],
      "metadata": {
        "id": "nQ-PmYa39VN6"
      }
    },
    {
      "cell_type": "markdown",
      "source": [
        "## Model 4"
      ],
      "metadata": {
        "id": "uzxjL2Ik9lrL"
      }
    },
    {
      "cell_type": "markdown",
      "source": [
        "So lets remove the variable and see the the columns again"
      ],
      "metadata": {
        "id": "7YV3zwCD95t7"
      }
    },
    {
      "cell_type": "code",
      "source": [
        "# remove workingday\n",
        "col_list.remove(\"workingday\")\n",
        "col_list"
      ],
      "metadata": {
        "id": "T_SW4He38278",
        "colab": {
          "base_uri": "https://localhost:8080/"
        },
        "outputId": "b5a6a701-095c-4d98-df56-d124d211b1df"
      },
      "execution_count": 50,
      "outputs": [
        {
          "output_type": "execute_result",
          "data": {
            "text/plain": [
              "['yr',\n",
              " 'temp',\n",
              " 'windspeed',\n",
              " 'season_spring',\n",
              " 'season_winter',\n",
              " 'mnth_Dec',\n",
              " 'mnth_Jan',\n",
              " 'mnth_July',\n",
              " 'mnth_Nov',\n",
              " 'weekday_mon',\n",
              " 'weathersit_light rain',\n",
              " 'weathersit_mist']"
            ]
          },
          "metadata": {},
          "execution_count": 50
        }
      ]
    },
    {
      "cell_type": "markdown",
      "source": [
        "Now we have 12 variables. Lets create model again and see summary"
      ],
      "metadata": {
        "id": "N0zcbJgb-CZR"
      }
    },
    {
      "cell_type": "code",
      "source": [
        "# build model using required columns and print summary\n",
        "model4 = build_lr_model(col_list)"
      ],
      "metadata": {
        "id": "C3dibehy9-Eq",
        "colab": {
          "base_uri": "https://localhost:8080/"
        },
        "outputId": "4069b257-3d7d-40b4-a7e5-01ce10e9fb23"
      },
      "execution_count": 51,
      "outputs": [
        {
          "output_type": "stream",
          "name": "stdout",
          "text": [
            "                            OLS Regression Results                            \n",
            "==============================================================================\n",
            "Dep. Variable:                    cnt   R-squared:                       0.837\n",
            "Model:                            OLS   Adj. R-squared:                  0.834\n",
            "Method:                 Least Squares   F-statistic:                     244.7\n",
            "Date:                Tue, 13 Sep 2022   Prob (F-statistic):          5.57e-216\n",
            "Time:                        14:52:00   Log-Likelihood:                 572.19\n",
            "No. Observations:                 584   AIC:                            -1118.\n",
            "Df Residuals:                     571   BIC:                            -1062.\n",
            "Df Model:                          12                                         \n",
            "Covariance Type:            nonrobust                                         \n",
            "=========================================================================================\n",
            "                            coef    std err          t      P>|t|      [0.025      0.975]\n",
            "-----------------------------------------------------------------------------------------\n",
            "const                     0.2853      0.024     11.766      0.000       0.238       0.333\n",
            "yr                        0.2329      0.008     30.419      0.000       0.218       0.248\n",
            "temp                      0.4200      0.031     13.631      0.000       0.359       0.480\n",
            "windspeed                -0.1597      0.024     -6.727      0.000      -0.206      -0.113\n",
            "season_spring            -0.1158      0.015     -7.854      0.000      -0.145      -0.087\n",
            "season_winter             0.0748      0.013      5.816      0.000       0.050       0.100\n",
            "mnth_Dec                 -0.0668      0.016     -4.203      0.000      -0.098      -0.036\n",
            "mnth_Jan                 -0.0554      0.017     -3.262      0.001      -0.089      -0.022\n",
            "mnth_July                -0.0745      0.016     -4.609      0.000      -0.106      -0.043\n",
            "mnth_Nov                 -0.0762      0.018     -4.320      0.000      -0.111      -0.042\n",
            "weekday_mon               0.0240      0.011      2.254      0.025       0.003       0.045\n",
            "weathersit_light rain    -0.2921      0.024    -12.268      0.000      -0.339      -0.245\n",
            "weathersit_mist          -0.0776      0.008     -9.478      0.000      -0.094      -0.061\n",
            "==============================================================================\n",
            "Omnibus:                      104.716   Durbin-Watson:                   1.915\n",
            "Prob(Omnibus):                  0.000   Jarque-Bera (JB):              284.727\n",
            "Skew:                          -0.888   Prob(JB):                     1.49e-62\n",
            "Kurtosis:                       5.923   Cond. No.                         15.5\n",
            "==============================================================================\n",
            "\n",
            "Notes:\n",
            "[1] Standard Errors assume that the covariance matrix of the errors is correctly specified.\n"
          ]
        }
      ]
    },
    {
      "cell_type": "markdown",
      "source": [
        " We see that all features have acceptable p values and adjusted R2 is 0.834.\n",
        " Hence dropping \"holiday\" didnt affect performance of model.\n",
        " The R2 value drop is negligible. Lets also see the VIF values."
      ],
      "metadata": {
        "id": "9UdJOvPI-OaF"
      }
    },
    {
      "cell_type": "code",
      "source": [
        "# cacluate VIF for new list of columns\n",
        "calculate_vif(col_list)"
      ],
      "metadata": {
        "id": "Uh_slz2u-GUu",
        "colab": {
          "base_uri": "https://localhost:8080/"
        },
        "outputId": "e62e130b-1edd-4f47-f294-2a5018917c3f"
      },
      "execution_count": 52,
      "outputs": [
        {
          "output_type": "stream",
          "name": "stdout",
          "text": [
            "                 Features   VIF\n",
            "1                    temp  4.40\n",
            "2               windspeed  4.13\n",
            "4           season_winter  2.36\n",
            "3           season_spring  2.34\n",
            "0                      yr  2.07\n",
            "8                mnth_Nov  1.65\n",
            "6                mnth_Jan  1.61\n",
            "11        weathersit_mist  1.52\n",
            "5                mnth_Dec  1.41\n",
            "7               mnth_July  1.32\n",
            "9             weekday_mon  1.18\n",
            "10  weathersit_light rain  1.07\n"
          ]
        }
      ]
    },
    {
      "cell_type": "markdown",
      "source": [
        "We see that temp has high VIF but we dont want to drop it as it is significant variable. So lets drop \"weekday_mon\" variable that has relatively higher p value and lower coefficient and see the model performance again."
      ],
      "metadata": {
        "id": "JAoJA2YuQUeJ"
      }
    },
    {
      "cell_type": "markdown",
      "source": [
        "## Model 5"
      ],
      "metadata": {
        "id": "5UdEf_4cRD-k"
      }
    },
    {
      "cell_type": "markdown",
      "source": [
        "So lets remove the variable and see the the columns again"
      ],
      "metadata": {
        "id": "hY34eJg5RFfC"
      }
    },
    {
      "cell_type": "code",
      "source": [
        "col_list.remove(\"weekday_mon\")\n",
        "col_list"
      ],
      "metadata": {
        "id": "p8DM8ZRURH-G",
        "colab": {
          "base_uri": "https://localhost:8080/"
        },
        "outputId": "48f7d33a-550b-41ee-9c73-53435505a079"
      },
      "execution_count": 53,
      "outputs": [
        {
          "output_type": "execute_result",
          "data": {
            "text/plain": [
              "['yr',\n",
              " 'temp',\n",
              " 'windspeed',\n",
              " 'season_spring',\n",
              " 'season_winter',\n",
              " 'mnth_Dec',\n",
              " 'mnth_Jan',\n",
              " 'mnth_July',\n",
              " 'mnth_Nov',\n",
              " 'weathersit_light rain',\n",
              " 'weathersit_mist']"
            ]
          },
          "metadata": {},
          "execution_count": 53
        }
      ]
    },
    {
      "cell_type": "markdown",
      "source": [
        "Now we have 11 variables. Lets create model again and see summary."
      ],
      "metadata": {
        "id": "lE-FFGn3RRL2"
      }
    },
    {
      "cell_type": "code",
      "source": [
        "# build model using required columns and print summary\n",
        "model5 = build_lr_model(col_list)"
      ],
      "metadata": {
        "id": "Qc9-sN-mRUjb",
        "colab": {
          "base_uri": "https://localhost:8080/"
        },
        "outputId": "5c68f853-b4f9-489c-e013-b8826da91038"
      },
      "execution_count": 54,
      "outputs": [
        {
          "output_type": "stream",
          "name": "stdout",
          "text": [
            "                            OLS Regression Results                            \n",
            "==============================================================================\n",
            "Dep. Variable:                    cnt   R-squared:                       0.836\n",
            "Model:                            OLS   Adj. R-squared:                  0.833\n",
            "Method:                 Least Squares   F-statistic:                     264.6\n",
            "Date:                Tue, 13 Sep 2022   Prob (F-statistic):          4.16e-216\n",
            "Time:                        14:52:00   Log-Likelihood:                 569.60\n",
            "No. Observations:                 584   AIC:                            -1115.\n",
            "Df Residuals:                     572   BIC:                            -1063.\n",
            "Df Model:                          11                                         \n",
            "Covariance Type:            nonrobust                                         \n",
            "=========================================================================================\n",
            "                            coef    std err          t      P>|t|      [0.025      0.975]\n",
            "-----------------------------------------------------------------------------------------\n",
            "const                     0.2887      0.024     11.889      0.000       0.241       0.336\n",
            "yr                        0.2322      0.008     30.247      0.000       0.217       0.247\n",
            "temp                      0.4193      0.031     13.561      0.000       0.359       0.480\n",
            "windspeed                -0.1570      0.024     -6.598      0.000      -0.204      -0.110\n",
            "season_spring            -0.1161      0.015     -7.848      0.000      -0.145      -0.087\n",
            "season_winter             0.0750      0.013      5.809      0.000       0.050       0.100\n",
            "mnth_Dec                 -0.0663      0.016     -4.153      0.000      -0.098      -0.035\n",
            "mnth_Jan                 -0.0552      0.017     -3.239      0.001      -0.089      -0.022\n",
            "mnth_July                -0.0740      0.016     -4.557      0.000      -0.106      -0.042\n",
            "mnth_Nov                 -0.0771      0.018     -4.353      0.000      -0.112      -0.042\n",
            "weathersit_light rain    -0.2916      0.024    -12.205      0.000      -0.339      -0.245\n",
            "weathersit_mist          -0.0775      0.008     -9.441      0.000      -0.094      -0.061\n",
            "==============================================================================\n",
            "Omnibus:                       97.850   Durbin-Watson:                   1.916\n",
            "Prob(Omnibus):                  0.000   Jarque-Bera (JB):              277.423\n",
            "Skew:                          -0.818   Prob(JB):                     5.73e-61\n",
            "Kurtosis:                       5.953   Cond. No.                         15.4\n",
            "==============================================================================\n",
            "\n",
            "Notes:\n",
            "[1] Standard Errors assume that the covariance matrix of the errors is correctly specified.\n"
          ]
        }
      ]
    },
    {
      "cell_type": "markdown",
      "source": [
        " We see that all features have acceptable p values and adjusted R2 is 0.833.\n",
        " The R2 value drop is negligible. Lets also see the VIF values."
      ],
      "metadata": {
        "id": "bmNXSvaJWubn"
      }
    },
    {
      "cell_type": "code",
      "source": [
        "calculate_vif(col_list)"
      ],
      "metadata": {
        "id": "xZY_Po4oWybO",
        "colab": {
          "base_uri": "https://localhost:8080/"
        },
        "outputId": "ddb72a45-fe3c-4848-b5d2-4994574cda0d"
      },
      "execution_count": 55,
      "outputs": [
        {
          "output_type": "stream",
          "name": "stdout",
          "text": [
            "                 Features   VIF\n",
            "1                    temp  4.35\n",
            "2               windspeed  4.10\n",
            "4           season_winter  2.35\n",
            "3           season_spring  2.34\n",
            "0                      yr  2.07\n",
            "8                mnth_Nov  1.65\n",
            "6                mnth_Jan  1.61\n",
            "10        weathersit_mist  1.52\n",
            "5                mnth_Dec  1.41\n",
            "7               mnth_July  1.32\n",
            "9   weathersit_light rain  1.07\n"
          ]
        }
      ]
    },
    {
      "cell_type": "markdown",
      "source": [
        "We see that temp still has high VIF but we dont want to drop it as it is significant variable. So lets drop \"mnth_Jan \" variable that has relatively higher p value and see the model performance again."
      ],
      "metadata": {
        "id": "_wJ_0lG_XBie"
      }
    },
    {
      "cell_type": "markdown",
      "source": [
        "## Model 6"
      ],
      "metadata": {
        "id": "OwPPpagRXIho"
      }
    },
    {
      "cell_type": "markdown",
      "source": [
        "So lets remove the variable and see the the columns again"
      ],
      "metadata": {
        "id": "_zGoi7NDXM19"
      }
    },
    {
      "cell_type": "code",
      "source": [
        "col_list.remove(\"mnth_Jan\")\n",
        "col_list"
      ],
      "metadata": {
        "id": "2c6b3A6gXQTb",
        "colab": {
          "base_uri": "https://localhost:8080/"
        },
        "outputId": "5091a2fd-cb10-4812-c28f-5a428fec4ef8"
      },
      "execution_count": 56,
      "outputs": [
        {
          "output_type": "execute_result",
          "data": {
            "text/plain": [
              "['yr',\n",
              " 'temp',\n",
              " 'windspeed',\n",
              " 'season_spring',\n",
              " 'season_winter',\n",
              " 'mnth_Dec',\n",
              " 'mnth_July',\n",
              " 'mnth_Nov',\n",
              " 'weathersit_light rain',\n",
              " 'weathersit_mist']"
            ]
          },
          "metadata": {},
          "execution_count": 56
        }
      ]
    },
    {
      "cell_type": "markdown",
      "source": [
        "Now we have 10 variables. Lets create model again and see summary."
      ],
      "metadata": {
        "id": "e8rZbhiqXaex"
      }
    },
    {
      "cell_type": "code",
      "source": [
        "# build model using required columns and print summary\n",
        "model6 = build_lr_model(col_list)"
      ],
      "metadata": {
        "id": "x7e1cec6XayI",
        "colab": {
          "base_uri": "https://localhost:8080/"
        },
        "outputId": "a4605736-bad9-41a5-8e1f-a5362b6634fb"
      },
      "execution_count": 57,
      "outputs": [
        {
          "output_type": "stream",
          "name": "stdout",
          "text": [
            "                            OLS Regression Results                            \n",
            "==============================================================================\n",
            "Dep. Variable:                    cnt   R-squared:                       0.833\n",
            "Model:                            OLS   Adj. R-squared:                  0.830\n",
            "Method:                 Least Squares   F-statistic:                     285.3\n",
            "Date:                Tue, 13 Sep 2022   Prob (F-statistic):          4.26e-215\n",
            "Time:                        14:52:00   Log-Likelihood:                 564.30\n",
            "No. Observations:                 584   AIC:                            -1107.\n",
            "Df Residuals:                     573   BIC:                            -1059.\n",
            "Df Model:                          10                                         \n",
            "Covariance Type:            nonrobust                                         \n",
            "=========================================================================================\n",
            "                            coef    std err          t      P>|t|      [0.025      0.975]\n",
            "-----------------------------------------------------------------------------------------\n",
            "const                     0.2670      0.024     11.346      0.000       0.221       0.313\n",
            "yr                        0.2313      0.008     29.897      0.000       0.216       0.246\n",
            "temp                      0.4484      0.030     15.035      0.000       0.390       0.507\n",
            "windspeed                -0.1483      0.024     -6.221      0.000      -0.195      -0.101\n",
            "season_spring            -0.1264      0.015     -8.678      0.000      -0.155      -0.098\n",
            "season_winter             0.0763      0.013      5.867      0.000       0.051       0.102\n",
            "mnth_Dec                 -0.0534      0.016     -3.426      0.001      -0.084      -0.023\n",
            "mnth_July                -0.0792      0.016     -4.865      0.000      -0.111      -0.047\n",
            "mnth_Nov                 -0.0704      0.018     -3.972      0.000      -0.105      -0.036\n",
            "weathersit_light rain    -0.2879      0.024    -11.963      0.000      -0.335      -0.241\n",
            "weathersit_mist          -0.0780      0.008     -9.425      0.000      -0.094      -0.062\n",
            "==============================================================================\n",
            "Omnibus:                       91.708   Durbin-Watson:                   1.918\n",
            "Prob(Omnibus):                  0.000   Jarque-Bera (JB):              252.998\n",
            "Skew:                          -0.777   Prob(JB):                     1.15e-55\n",
            "Kurtosis:                       5.826   Cond. No.                         14.7\n",
            "==============================================================================\n",
            "\n",
            "Notes:\n",
            "[1] Standard Errors assume that the covariance matrix of the errors is correctly specified.\n"
          ]
        }
      ]
    },
    {
      "cell_type": "markdown",
      "source": [
        " We see that all features have acceptable p values and adjusted R2 is 0.830.\n",
        " The R2 value drop is negligible which validates dropping variable. Lets also see the VIF values."
      ],
      "metadata": {
        "id": "mTdxMlJUXbAx"
      }
    },
    {
      "cell_type": "code",
      "source": [
        "calculate_vif(col_list)"
      ],
      "metadata": {
        "id": "nEPIliD4XbOT",
        "colab": {
          "base_uri": "https://localhost:8080/"
        },
        "outputId": "34dce3fa-2df4-4c84-8fbd-f9b5659b75d8"
      },
      "execution_count": 58,
      "outputs": [
        {
          "output_type": "stream",
          "name": "stdout",
          "text": [
            "                Features   VIF\n",
            "1                   temp  4.30\n",
            "2              windspeed  4.10\n",
            "4          season_winter  2.33\n",
            "0                     yr  2.06\n",
            "3          season_spring  1.73\n",
            "7               mnth_Nov  1.65\n",
            "9        weathersit_mist  1.51\n",
            "5               mnth_Dec  1.36\n",
            "6              mnth_July  1.31\n",
            "8  weathersit_light rain  1.07\n"
          ]
        }
      ]
    },
    {
      "cell_type": "markdown",
      "source": [
        "We see that all features are significant ie p value = 0 and all high VIF value < 5 and model performance is still good. But lets see if can drop one more variable without loss in performance. So lets drop variable \"mnth_Dec\" which has relatively higher p value and see model performance."
      ],
      "metadata": {
        "id": "tmKG250Tb6d-"
      }
    },
    {
      "cell_type": "markdown",
      "source": [
        "## Model 7"
      ],
      "metadata": {
        "id": "f5jXRsM5cp2-"
      }
    },
    {
      "cell_type": "markdown",
      "source": [
        "So lets remove the variable and see the the columns again"
      ],
      "metadata": {
        "id": "yZg6Tsv6ctbM"
      }
    },
    {
      "cell_type": "code",
      "source": [
        "col_list.remove(\"mnth_Dec\")\n",
        "col_list"
      ],
      "metadata": {
        "id": "51nraK_Zb6xI",
        "colab": {
          "base_uri": "https://localhost:8080/"
        },
        "outputId": "f24a0298-5b36-4f74-b412-c13b31d3f1ed"
      },
      "execution_count": 59,
      "outputs": [
        {
          "output_type": "execute_result",
          "data": {
            "text/plain": [
              "['yr',\n",
              " 'temp',\n",
              " 'windspeed',\n",
              " 'season_spring',\n",
              " 'season_winter',\n",
              " 'mnth_July',\n",
              " 'mnth_Nov',\n",
              " 'weathersit_light rain',\n",
              " 'weathersit_mist']"
            ]
          },
          "metadata": {},
          "execution_count": 59
        }
      ]
    },
    {
      "cell_type": "markdown",
      "source": [
        "Now we have 9 variables. Lets create model again and see summary."
      ],
      "metadata": {
        "id": "Oi_s8jtQb6-P"
      }
    },
    {
      "cell_type": "code",
      "source": [
        "# build model using required columns and print summary\n",
        "model7 = build_lr_model(col_list)"
      ],
      "metadata": {
        "id": "5fwrzl8yb7Kc",
        "colab": {
          "base_uri": "https://localhost:8080/"
        },
        "outputId": "d8a17696-4323-418a-f43b-7271231f4a7d"
      },
      "execution_count": 60,
      "outputs": [
        {
          "output_type": "stream",
          "name": "stdout",
          "text": [
            "                            OLS Regression Results                            \n",
            "==============================================================================\n",
            "Dep. Variable:                    cnt   R-squared:                       0.829\n",
            "Model:                            OLS   Adj. R-squared:                  0.827\n",
            "Method:                 Least Squares   F-statistic:                     309.9\n",
            "Date:                Tue, 13 Sep 2022   Prob (F-statistic):          7.71e-214\n",
            "Time:                        14:52:00   Log-Likelihood:                 558.38\n",
            "No. Observations:                 584   AIC:                            -1097.\n",
            "Df Residuals:                     574   BIC:                            -1053.\n",
            "Df Model:                           9                                         \n",
            "Covariance Type:            nonrobust                                         \n",
            "=========================================================================================\n",
            "                            coef    std err          t      P>|t|      [0.025      0.975]\n",
            "-----------------------------------------------------------------------------------------\n",
            "const                     0.2489      0.023     10.754      0.000       0.203       0.294\n",
            "yr                        0.2308      0.008     29.568      0.000       0.215       0.246\n",
            "temp                      0.4725      0.029     16.154      0.000       0.415       0.530\n",
            "windspeed                -0.1425      0.024     -5.939      0.000      -0.190      -0.095\n",
            "season_spring            -0.1242      0.015     -8.456      0.000      -0.153      -0.095\n",
            "season_winter             0.0631      0.013      5.035      0.000       0.039       0.088\n",
            "mnth_July                -0.0834      0.016     -5.087      0.000      -0.116      -0.051\n",
            "mnth_Nov                 -0.0505      0.017     -2.989      0.003      -0.084      -0.017\n",
            "weathersit_light rain    -0.2862      0.024    -11.786      0.000      -0.334      -0.238\n",
            "weathersit_mist          -0.0773      0.008     -9.251      0.000      -0.094      -0.061\n",
            "==============================================================================\n",
            "Omnibus:                       83.026   Durbin-Watson:                   1.932\n",
            "Prob(Omnibus):                  0.000   Jarque-Bera (JB):              208.172\n",
            "Skew:                          -0.736   Prob(JB):                     6.25e-46\n",
            "Kurtosis:                       5.527   Cond. No.                         14.3\n",
            "==============================================================================\n",
            "\n",
            "Notes:\n",
            "[1] Standard Errors assume that the covariance matrix of the errors is correctly specified.\n"
          ]
        }
      ]
    },
    {
      "cell_type": "markdown",
      "source": [
        " We see that all features have acceptable p values. But adjusted R2 is 0.827 and model performance is still good.Lets also see the VIF values."
      ],
      "metadata": {
        "id": "EB3lbZYlb7Xg"
      }
    },
    {
      "cell_type": "code",
      "source": [
        "calculate_vif(col_list)"
      ],
      "metadata": {
        "id": "E9doPrxWb7yH",
        "colab": {
          "base_uri": "https://localhost:8080/"
        },
        "outputId": "56bdadf1-116a-4d41-e245-5435ffc88858"
      },
      "execution_count": 61,
      "outputs": [
        {
          "output_type": "stream",
          "name": "stdout",
          "text": [
            "                Features   VIF\n",
            "1                   temp  4.27\n",
            "2              windspeed  4.10\n",
            "0                     yr  2.06\n",
            "4          season_winter  1.87\n",
            "3          season_spring  1.68\n",
            "8        weathersit_mist  1.51\n",
            "6               mnth_Nov  1.50\n",
            "5              mnth_July  1.31\n",
            "7  weathersit_light rain  1.07\n"
          ]
        }
      ]
    },
    {
      "cell_type": "markdown",
      "source": [
        "So all variables have acceptable VIF values. Now lets drop the insignificant value mnth_Nov( as per p value of 0.03) and see the model performance again."
      ],
      "metadata": {
        "id": "JSwNAP3Gb8Ca"
      }
    },
    {
      "cell_type": "markdown",
      "source": [
        "## Model 8"
      ],
      "metadata": {
        "id": "2U0e0EtyeJ08"
      }
    },
    {
      "cell_type": "markdown",
      "source": [
        "\n",
        "So lets remove the variable and see the the columns again"
      ],
      "metadata": {
        "id": "Rt1zOnZZeKBR"
      }
    },
    {
      "cell_type": "code",
      "source": [
        "col_list.remove(\"mnth_Nov\")\n",
        "col_list"
      ],
      "metadata": {
        "id": "dMdkUQhWeKQW",
        "colab": {
          "base_uri": "https://localhost:8080/"
        },
        "outputId": "5523140b-7932-4466-d6fc-0006a772c310"
      },
      "execution_count": 62,
      "outputs": [
        {
          "output_type": "execute_result",
          "data": {
            "text/plain": [
              "['yr',\n",
              " 'temp',\n",
              " 'windspeed',\n",
              " 'season_spring',\n",
              " 'season_winter',\n",
              " 'mnth_July',\n",
              " 'weathersit_light rain',\n",
              " 'weathersit_mist']"
            ]
          },
          "metadata": {},
          "execution_count": 62
        }
      ]
    },
    {
      "cell_type": "markdown",
      "source": [
        "Now we have 8 variables. Lets create model again and see summary."
      ],
      "metadata": {
        "id": "LjsHR6aNeKck"
      }
    },
    {
      "cell_type": "code",
      "source": [
        "# build model using required columns and print summary\n",
        "model8 = build_lr_model(col_list)"
      ],
      "metadata": {
        "id": "GvfTXtaqeKpl",
        "colab": {
          "base_uri": "https://localhost:8080/"
        },
        "outputId": "d2a08977-f1fe-4a53-cae3-e59e5d7a6b02"
      },
      "execution_count": 63,
      "outputs": [
        {
          "output_type": "stream",
          "name": "stdout",
          "text": [
            "                            OLS Regression Results                            \n",
            "==============================================================================\n",
            "Dep. Variable:                    cnt   R-squared:                       0.827\n",
            "Model:                            OLS   Adj. R-squared:                  0.824\n",
            "Method:                 Least Squares   F-statistic:                     342.8\n",
            "Date:                Tue, 13 Sep 2022   Prob (F-statistic):          3.35e-213\n",
            "Time:                        14:52:01   Log-Likelihood:                 553.87\n",
            "No. Observations:                 584   AIC:                            -1090.\n",
            "Df Residuals:                     575   BIC:                            -1050.\n",
            "Df Model:                           8                                         \n",
            "Covariance Type:            nonrobust                                         \n",
            "=========================================================================================\n",
            "                            coef    std err          t      P>|t|      [0.025      0.975]\n",
            "-----------------------------------------------------------------------------------------\n",
            "const                     0.2400      0.023     10.383      0.000       0.195       0.285\n",
            "yr                        0.2310      0.008     29.383      0.000       0.216       0.246\n",
            "temp                      0.4866      0.029     16.739      0.000       0.429       0.544\n",
            "windspeed                -0.1462      0.024     -6.060      0.000      -0.194      -0.099\n",
            "season_spring            -0.1187      0.015     -8.088      0.000      -0.147      -0.090\n",
            "season_winter             0.0497      0.012      4.216      0.000       0.027       0.073\n",
            "mnth_July                -0.0859      0.016     -5.212      0.000      -0.118      -0.054\n",
            "weathersit_light rain    -0.2828      0.024    -11.582      0.000      -0.331      -0.235\n",
            "weathersit_mist          -0.0757      0.008     -9.023      0.000      -0.092      -0.059\n",
            "==============================================================================\n",
            "Omnibus:                       83.555   Durbin-Watson:                   1.938\n",
            "Prob(Omnibus):                  0.000   Jarque-Bera (JB):              211.012\n",
            "Skew:                          -0.738   Prob(JB):                     1.51e-46\n",
            "Kurtosis:                       5.548   Cond. No.                         14.1\n",
            "==============================================================================\n",
            "\n",
            "Notes:\n",
            "[1] Standard Errors assume that the covariance matrix of the errors is correctly specified.\n"
          ]
        }
      ]
    },
    {
      "cell_type": "markdown",
      "source": [
        " We see that all features have acceptable p values and adjusted R2 is 0.824.\n",
        " The R2 value drop is negligible. Lets also see the VIF values."
      ],
      "metadata": {
        "id": "t43p9FPKeK1x"
      }
    },
    {
      "cell_type": "code",
      "source": [
        "calculate_vif(col_list)"
      ],
      "metadata": {
        "id": "j-xGmtrBeLCO",
        "colab": {
          "base_uri": "https://localhost:8080/"
        },
        "outputId": "a8a61e1f-0333-4ecd-8bdd-c71f4717bea4"
      },
      "execution_count": 64,
      "outputs": [
        {
          "output_type": "stream",
          "name": "stdout",
          "text": [
            "                Features   VIF\n",
            "1                   temp  4.23\n",
            "2              windspeed  4.04\n",
            "0                     yr  2.06\n",
            "3          season_spring  1.68\n",
            "7        weathersit_mist  1.51\n",
            "4          season_winter  1.38\n",
            "5              mnth_July  1.31\n",
            "6  weathersit_light rain  1.07\n"
          ]
        }
      ]
    },
    {
      "cell_type": "markdown",
      "source": [
        "All variable have acceptable VIF values.\n",
        "Now this is our final model ie model8.\n",
        "It has 8 features all of which are significant( p values =0) and acceptable VIF values. Model performance is adjusted R2 of 0.824."
      ],
      "metadata": {
        "id": "TlGcjJXuhWc7"
      }
    },
    {
      "cell_type": "markdown",
      "source": [
        "So model8 is our best performing model with all p values =0 and VIF <5. Now we will build final model with sklearn library using the finally selected 8 variables."
      ],
      "metadata": {
        "id": "j2C85Fhs-5YV"
      }
    },
    {
      "cell_type": "markdown",
      "source": [
        "## Create Final model using Sklearn\n",
        "\n",
        "We will build the model8 again using sklearn using same variables."
      ],
      "metadata": {
        "id": "ntb_NXjK--hQ"
      }
    },
    {
      "cell_type": "code",
      "source": [
        "# list of final features\n",
        "col_list "
      ],
      "metadata": {
        "id": "kJQ8qwt_-UfN",
        "colab": {
          "base_uri": "https://localhost:8080/"
        },
        "outputId": "8473d0a6-e31d-4d94-b0a4-d7b16ad54c53"
      },
      "execution_count": 65,
      "outputs": [
        {
          "output_type": "execute_result",
          "data": {
            "text/plain": [
              "['yr',\n",
              " 'temp',\n",
              " 'windspeed',\n",
              " 'season_spring',\n",
              " 'season_winter',\n",
              " 'mnth_July',\n",
              " 'weathersit_light rain',\n",
              " 'weathersit_mist']"
            ]
          },
          "metadata": {},
          "execution_count": 65
        }
      ]
    },
    {
      "cell_type": "markdown",
      "source": [
        "We will create final x_train using these features and create model using sklearn"
      ],
      "metadata": {
        "id": "IY40F9xS_hLp"
      }
    },
    {
      "cell_type": "code",
      "source": [
        "# Make X_train_reg by using only finally selected variables\n",
        "X_train_reg = X_train[col_list]\n",
        "# Create LR object using sklearn\n",
        "lr_model = LinearRegression()\n",
        "# fit the model with X_train_reg,y_train\n",
        "lr_model.fit(X_train_reg,y_train)"
      ],
      "metadata": {
        "id": "w083iIkT_WhB",
        "colab": {
          "base_uri": "https://localhost:8080/"
        },
        "outputId": "e96bb494-327c-42ad-9d68-1f0cdfa62ded"
      },
      "execution_count": 66,
      "outputs": [
        {
          "output_type": "execute_result",
          "data": {
            "text/plain": [
              "LinearRegression()"
            ]
          },
          "metadata": {},
          "execution_count": 66
        }
      ]
    },
    {
      "cell_type": "markdown",
      "source": [
        "Now lets see the coefficients and intercept of the model"
      ],
      "metadata": {
        "id": "iBOaP7McAGFu"
      }
    },
    {
      "cell_type": "code",
      "source": [
        "# Coefficients of the model\n",
        "lr_model.coef_"
      ],
      "metadata": {
        "id": "mwHmvNh1AAnd",
        "colab": {
          "base_uri": "https://localhost:8080/"
        },
        "outputId": "e6e3d9d3-3e7b-424b-a589-2ac2fddce89f"
      },
      "execution_count": 67,
      "outputs": [
        {
          "output_type": "execute_result",
          "data": {
            "text/plain": [
              "array([ 0.23095189,  0.48659326, -0.1462218 , -0.11866421,  0.04967465,\n",
              "       -0.0858815 , -0.28284312, -0.07574402])"
            ]
          },
          "metadata": {},
          "execution_count": 67
        }
      ]
    },
    {
      "cell_type": "code",
      "source": [
        "# Intercept value\n",
        "lr_model.intercept_"
      ],
      "metadata": {
        "id": "ZHp2VBhxAQeY",
        "colab": {
          "base_uri": "https://localhost:8080/"
        },
        "outputId": "58038862-0f7b-40d2-d763-20fbb5a7508f"
      },
      "execution_count": 68,
      "outputs": [
        {
          "output_type": "execute_result",
          "data": {
            "text/plain": [
              "0.2399727952956794"
            ]
          },
          "metadata": {},
          "execution_count": 68
        }
      ]
    },
    {
      "cell_type": "markdown",
      "source": [
        "Now lets see the model performance by plotting the ground truth y_train and predicted values."
      ],
      "metadata": {
        "id": "1HhrmBotAfkp"
      }
    },
    {
      "cell_type": "code",
      "source": [
        "# Get the predicted values of target variable\n",
        "y_train_pred = lr_model.predict(X_train_reg)\n",
        "\n",
        "# Plot a regplot between y_train and y_train_pred to see linear pattern\n",
        "sns.regplot(y_train_pred,y_train)\n",
        "plt.title(\"Plot of prediction and ground truth of train data\")\n",
        "plt.xlabel(\"predicted values in train data\")\n",
        "plt.ylabel(\"Actual values in train data\")\n",
        "plt.show()\n",
        "\n"
      ],
      "metadata": {
        "id": "E4PyuweIAbSp",
        "colab": {
          "base_uri": "https://localhost:8080/",
          "height": 295
        },
        "outputId": "70af330a-d72f-4366-daff-d46d0fd908d3"
      },
      "execution_count": 69,
      "outputs": [
        {
          "output_type": "display_data",
          "data": {
            "text/plain": [
              "<Figure size 432x288 with 1 Axes>"
            ],
            "image/png": "[encoded data removed]"
          },
          "metadata": {
            "needs_background": "light"
          }
        }
      ]
    },
    {
      "cell_type": "markdown",
      "source": [
        "This seems to be a goood fit. Now lets get the R2 and adjusted R2 values of the model on train."
      ],
      "metadata": {
        "id": "k0uyGDnPBT6m"
      }
    },
    {
      "cell_type": "code",
      "source": [
        "# R2 score on train data\n",
        "R2_train = r2_score(y_train,y_train_pred)\n",
        "R2_train\n",
        "\n"
      ],
      "metadata": {
        "id": "7ZaMyrpFA4p4",
        "colab": {
          "base_uri": "https://localhost:8080/"
        },
        "outputId": "853b82c8-649c-4e3e-b13a-c134ef690bbf"
      },
      "execution_count": 70,
      "outputs": [
        {
          "output_type": "execute_result",
          "data": {
            "text/plain": [
              "0.8266843629826668"
            ]
          },
          "metadata": {},
          "execution_count": 70
        }
      ]
    },
    {
      "cell_type": "code",
      "source": [
        "# Calculating the Adjusted R2 value using formula\n",
        "# no of samples\n",
        "n = len(X_train.index)\n",
        "# no of final features\n",
        "p = len(lr_model.coef_)\n",
        "Adj_R2_train = 1-(1-R2_train)*(n-1)/(n-p-1)\n",
        "Adj_R2_train"
      ],
      "metadata": {
        "id": "YxAuEkTDBlvO",
        "colab": {
          "base_uri": "https://localhost:8080/"
        },
        "outputId": "f6ed1cea-a662-4375-832d-d2281e302ed0"
      },
      "execution_count": 71,
      "outputs": [
        {
          "output_type": "execute_result",
          "data": {
            "text/plain": [
              "0.8242730149893822"
            ]
          },
          "metadata": {},
          "execution_count": 71
        }
      ]
    },
    {
      "cell_type": "markdown",
      "source": [
        "So both r2 and adjusted r2 value of train data match as expected and is a healthy 0.82. The values are expected to match because we are predicted on the same train data we used to train the model.\n",
        "\n",
        "\n"
      ],
      "metadata": {
        "id": "lWoBKL9MB6o_"
      }
    },
    {
      "cell_type": "markdown",
      "source": [
        "##5) Validation of assumptions of Linear regression"
      ],
      "metadata": {
        "id": "T5fFi4vPCcG8"
      }
    },
    {
      "cell_type": "markdown",
      "source": [
        "Assumption: There is linear relation between target variable and independent variables.\n",
        "\n",
        "Lets plot scatter plot of target with independent variables  "
      ],
      "metadata": {
        "id": "9L7AJpa4_8O6"
      }
    },
    {
      "cell_type": "code",
      "source": [
        "# scatter plot of target with independent variables\n",
        "plt.figure(figsize = (20,15))\n",
        "for i,col in enumerate(col_list):\n",
        "  plt.subplot(3,3,i+1)\n",
        "  sns.scatterplot(x = col,y = \"cnt\", data = data)\n",
        "plt.savefig(\"scatter.jpeg\")\n"
      ],
      "metadata": {
        "id": "QfBfmDq8AEPv",
        "colab": {
          "base_uri": "https://localhost:8080/",
          "height": 703
        },
        "outputId": "dcc95e1e-2f99-4b39-ab7c-eaaa25e47e6c"
      },
      "execution_count": 72,
      "outputs": [
        {
          "output_type": "display_data",
          "data": {
            "text/plain": [
              "<Figure size 1440x1080 with 8 Axes>"
            ],
            "image/png": "[encoded data removed]"
          },
          "metadata": {
            "needs_background": "light"
          }
        }
      ]
    },
    {
      "cell_type": "markdown",
      "source": [
        "From the plot we see that variables like temperature has a linear relationship with the target variable.\n",
        "Hence the assumption is validated."
      ],
      "metadata": {
        "id": "Spo3Yr9wCnIi"
      }
    },
    {
      "cell_type": "markdown",
      "source": [
        "### Residual Analysis\n",
        "\n",
        " We will validate assumption that the error(residuals) are normally distributed with mean zero."
      ],
      "metadata": {
        "id": "AzYAOzFmCtzK"
      }
    },
    {
      "cell_type": "code",
      "source": [
        "# calculate residuals\n",
        "res = y_train - y_train_pred\n",
        "# plot residual distribution\n",
        "sns.distplot(res)\n",
        "plt.title(\"Distribution plot of residuals\")\n",
        "plt.xlabel(\"Values of residuals\")\n",
        "plt.ylabel(\"Density\")\n",
        "plt.savefig(\"normal.jpeg\")\n",
        "plt.show()"
      ],
      "metadata": {
        "id": "JSbWqlayB4G8",
        "colab": {
          "base_uri": "https://localhost:8080/",
          "height": 295
        },
        "outputId": "9d7948d9-cf48-4289-ccaf-dea8c80ac47a"
      },
      "execution_count": 73,
      "outputs": [
        {
          "output_type": "display_data",
          "data": {
            "text/plain": [
              "<Figure size 432x288 with 1 Axes>"
            ],
            "image/png": "[encoded data removed]"
          },
          "metadata": {
            "needs_background": "light"
          }
        }
      ]
    },
    {
      "cell_type": "markdown",
      "source": [
        "The distribution plot of residuals show a normal distribution.\n",
        "Lets also plot Q-Q plot between residual distribution and theoritical normal distribution."
      ],
      "metadata": {
        "id": "20x7WxPV6TqF"
      }
    },
    {
      "cell_type": "code",
      "source": [
        "# Q-Q plot using scipy library\n",
        "fig, ax = plt.subplots(figsize=(6,2.5))\n",
        "# plot with normal distribution by default\n",
        "_, (__, ___, r) = sp.stats.probplot(res, plot=ax, fit=True)\n",
        "plt.savefig(\"probPlot.jpeg\")"
      ],
      "metadata": {
        "id": "MfZWEQaX6bfr",
        "colab": {
          "base_uri": "https://localhost:8080/",
          "height": 214
        },
        "outputId": "32abbb08-5b84-446e-e17a-78de8a611629"
      },
      "execution_count": 74,
      "outputs": [
        {
          "output_type": "display_data",
          "data": {
            "text/plain": [
              "<Figure size 432x180 with 1 Axes>"
            ],
            "image/png": "[encoded data removed]"
          },
          "metadata": {
            "needs_background": "light"
          }
        }
      ]
    },
    {
      "cell_type": "markdown",
      "source": [
        "We see that it follows a stright line. So the residuals are similar to normal distribution and follows a normal distribution."
      ],
      "metadata": {
        "id": "UcbWNAbx6iY0"
      }
    },
    {
      "cell_type": "markdown",
      "source": [
        "So the assumption of LR that residuals are normally distributed is validated."
      ],
      "metadata": {
        "id": "eT9DRPmFDL4P"
      }
    },
    {
      "cell_type": "markdown",
      "source": [
        "## Homoscedasticity and independence\n",
        "\n",
        "LR assumes that the error terms have constant variance and are independent.\n",
        "Lets check for the same for our model."
      ],
      "metadata": {
        "id": "QFsjjEaHD0vj"
      }
    },
    {
      "cell_type": "code",
      "source": [
        "# Plot a scatter plot for residuals and y predicted values \n",
        "sns.scatterplot(y_train_pred,res)\n",
        "plt.title(\"Plot of prediction values of train data and error terms\")\n",
        "plt.xlabel(\"prediction values of train data\")\n",
        "plt.ylabel(\"Error Terms\")\n",
        "plt.savefig(\"Homoscedacity.jpeg\")\n",
        "plt.show()"
      ],
      "metadata": {
        "id": "eZ_iW7RYDClr",
        "colab": {
          "base_uri": "https://localhost:8080/",
          "height": 295
        },
        "outputId": "f54d742d-5f43-4dfa-a7fe-b2134dfff0b7"
      },
      "execution_count": 75,
      "outputs": [
        {
          "output_type": "display_data",
          "data": {
            "text/plain": [
              "<Figure size 432x288 with 1 Axes>"
            ],
            "image/png": "[encoded data removed]"
          },
          "metadata": {
            "needs_background": "light"
          }
        }
      ]
    },
    {
      "cell_type": "markdown",
      "source": [
        "We can see the error terms is not following any common patterns and is completely random in nature. Hence this assumption of LR is also validated."
      ],
      "metadata": {
        "id": "yjAerG3qEjYq"
      }
    },
    {
      "cell_type": "markdown",
      "source": [
        "So our final model satisfies all the assumption so multiple linear regression"
      ],
      "metadata": {
        "id": "Co077BPVj9la"
      }
    },
    {
      "cell_type": "markdown",
      "source": [
        "## Model Prediction\n",
        "\n",
        "Now lets make prediction using model on unseen data ie test data.\n",
        "We will have to do same preprocessing on test data as done on train data.\n",
        "Will do scaling on test data but only transform and not fit on it as model is not intended to learn from test data."
      ],
      "metadata": {
        "id": "qgUEho2GE2OS"
      }
    },
    {
      "cell_type": "code",
      "source": [
        "# numeric varibles to be scaled\n",
        "var_num"
      ],
      "metadata": {
        "id": "xF7On5qVEXh5",
        "colab": {
          "base_uri": "https://localhost:8080/"
        },
        "outputId": "00f1bc76-b9d2-4058-95e7-3a3bd0abd552"
      },
      "execution_count": 76,
      "outputs": [
        {
          "output_type": "execute_result",
          "data": {
            "text/plain": [
              "['temp', 'hum', 'windspeed', 'cnt']"
            ]
          },
          "metadata": {},
          "execution_count": 76
        }
      ]
    },
    {
      "cell_type": "code",
      "source": [
        "# Scaling of the num_vars in test data using scaler.transform\n",
        "df_test[var_num] = scaler.transform(df_test[var_num])\n",
        "df_test.describe()"
      ],
      "metadata": {
        "id": "1_6-0cmHHLV_",
        "colab": {
          "base_uri": "https://localhost:8080/",
          "height": 411
        },
        "outputId": "76ef8158-e624-4b0e-e742-909f4492a6ca"
      },
      "execution_count": 77,
      "outputs": [
        {
          "output_type": "execute_result",
          "data": {
            "text/plain": [
              "               yr     holiday  workingday        temp         hum   windspeed  \\\n",
              "count  146.000000  146.000000  146.000000  146.000000  146.000000  146.000000   \n",
              "mean     0.445205    0.034247    0.746575    0.569603    0.635933    0.315127   \n",
              "std      0.498699    0.182488    0.436469    0.238088    0.156357    0.161524   \n",
              "min      0.000000    0.000000    0.000000    0.046591    0.261915   -0.042808   \n",
              "25%      0.000000    0.000000    0.250000    0.359075    0.534457    0.196160   \n",
              "50%      0.000000    0.000000    1.000000    0.560248    0.614856    0.306383   \n",
              "75%      1.000000    0.000000    1.000000    0.801929    0.730570    0.411976   \n",
              "max      1.000000    1.000000    1.000000    0.984424    1.002146    0.800793   \n",
              "\n",
              "              cnt         day  season_spring  season_summer  ...   mnth_Sept  \\\n",
              "count  146.000000  146.000000     146.000000     146.000000  ...  146.000000   \n",
              "mean     0.517368   16.684932       0.226027       0.273973  ...    0.089041   \n",
              "std      0.212757    8.031621       0.419697       0.447530  ...    0.285783   \n",
              "min      0.055683    2.000000       0.000000       0.000000  ...    0.000000   \n",
              "25%      0.391251   10.000000       0.000000       0.000000  ...    0.000000   \n",
              "50%      0.508916   16.000000       0.000000       0.000000  ...    0.000000   \n",
              "75%      0.649994   23.750000       0.000000       1.000000  ...    0.000000   \n",
              "max      0.963300   31.000000       1.000000       1.000000  ...    1.000000   \n",
              "\n",
              "       weekday_mon  weekday_sat  weekday_sun  weekday_thur  weekday_tue  \\\n",
              "count   146.000000   146.000000   146.000000    146.000000   146.000000   \n",
              "mean      0.116438     0.171233     0.219178      0.178082     0.102740   \n",
              "std       0.321854     0.378009     0.415114      0.383899     0.304664   \n",
              "min       0.000000     0.000000     0.000000      0.000000     0.000000   \n",
              "25%       0.000000     0.000000     0.000000      0.000000     0.000000   \n",
              "50%       0.000000     0.000000     0.000000      0.000000     0.000000   \n",
              "75%       0.000000     0.000000     0.000000      0.000000     0.000000   \n",
              "max       1.000000     1.000000     1.000000      1.000000     1.000000   \n",
              "\n",
              "       weekday_wed  weathersit_clear  weathersit_light rain  weathersit_mist  \n",
              "count   146.000000        146.000000             146.000000       146.000000  \n",
              "mean      0.123288          0.650685               0.034247         0.315068  \n",
              "std       0.329899          0.478395               0.182488         0.466142  \n",
              "min       0.000000          0.000000               0.000000         0.000000  \n",
              "25%       0.000000          0.000000               0.000000         0.000000  \n",
              "50%       0.000000          1.000000               0.000000         0.000000  \n",
              "75%       0.000000          1.000000               0.000000         1.000000  \n",
              "max       1.000000          1.000000               1.000000         1.000000  \n",
              "\n",
              "[8 rows x 31 columns]"
            ],
            "text/html": [
              "\n",
              "  <div id=\"df-fb214b0c-1b9c-4c61-adc1-949db3363ddb\">\n",
              "    <div class=\"colab-df-container\">\n",
              "      <div>\n",
              "<style scoped>\n",
              "    .dataframe tbody tr th:only-of-type {\n",
              "        vertical-align: middle;\n",
              "    }\n",
              "\n",
              "    .dataframe tbody tr th {\n",
              "        vertical-align: top;\n",
              "    }\n",
              "\n",
              "    .dataframe thead th {\n",
              "        text-align: right;\n",
              "    }\n",
              "</style>\n",
              "<table border=\"1\" class=\"dataframe\">\n",
              "  <thead>\n",
              "    <tr style=\"text-align: right;\">\n",
              "      <th></th>\n",
              "      <th>yr</th>\n",
              "      <th>holiday</th>\n",
              "      <th>workingday</th>\n",
              "      <th>temp</th>\n",
              "      <th>hum</th>\n",
              "      <th>windspeed</th>\n",
              "      <th>cnt</th>\n",
              "      <th>day</th>\n",
              "      <th>season_spring</th>\n",
              "      <th>season_summer</th>\n",
              "      <th>...</th>\n",
              "      <th>mnth_Sept</th>\n",
              "      <th>weekday_mon</th>\n",
              "      <th>weekday_sat</th>\n",
              "      <th>weekday_sun</th>\n",
              "      <th>weekday_thur</th>\n",
              "      <th>weekday_tue</th>\n",
              "      <th>weekday_wed</th>\n",
              "      <th>weathersit_clear</th>\n",
              "      <th>weathersit_light rain</th>\n",
              "      <th>weathersit_mist</th>\n",
              "    </tr>\n",
              "  </thead>\n",
              "  <tbody>\n",
              "    <tr>\n",
              "      <th>count</th>\n",
              "      <td>146.000000</td>\n",
              "      <td>146.000000</td>\n",
              "      <td>146.000000</td>\n",
              "      <td>146.000000</td>\n",
              "      <td>146.000000</td>\n",
              "      <td>146.000000</td>\n",
              "      <td>146.000000</td>\n",
              "      <td>146.000000</td>\n",
              "      <td>146.000000</td>\n",
              "      <td>146.000000</td>\n",
              "      <td>...</td>\n",
              "      <td>146.000000</td>\n",
              "      <td>146.000000</td>\n",
              "      <td>146.000000</td>\n",
              "      <td>146.000000</td>\n",
              "      <td>146.000000</td>\n",
              "      <td>146.000000</td>\n",
              "      <td>146.000000</td>\n",
              "      <td>146.000000</td>\n",
              "      <td>146.000000</td>\n",
              "      <td>146.000000</td>\n",
              "    </tr>\n",
              "    <tr>\n",
              "      <th>mean</th>\n",
              "      <td>0.445205</td>\n",
              "      <td>0.034247</td>\n",
              "      <td>0.746575</td>\n",
              "      <td>0.569603</td>\n",
              "      <td>0.635933</td>\n",
              "      <td>0.315127</td>\n",
              "      <td>0.517368</td>\n",
              "      <td>16.684932</td>\n",
              "      <td>0.226027</td>\n",
              "      <td>0.273973</td>\n",
              "      <td>...</td>\n",
              "      <td>0.089041</td>\n",
              "      <td>0.116438</td>\n",
              "      <td>0.171233</td>\n",
              "      <td>0.219178</td>\n",
              "      <td>0.178082</td>\n",
              "      <td>0.102740</td>\n",
              "      <td>0.123288</td>\n",
              "      <td>0.650685</td>\n",
              "      <td>0.034247</td>\n",
              "      <td>0.315068</td>\n",
              "    </tr>\n",
              "    <tr>\n",
              "      <th>std</th>\n",
              "      <td>0.498699</td>\n",
              "      <td>0.182488</td>\n",
              "      <td>0.436469</td>\n",
              "      <td>0.238088</td>\n",
              "      <td>0.156357</td>\n",
              "      <td>0.161524</td>\n",
              "      <td>0.212757</td>\n",
              "      <td>8.031621</td>\n",
              "      <td>0.419697</td>\n",
              "      <td>0.447530</td>\n",
              "      <td>...</td>\n",
              "      <td>0.285783</td>\n",
              "      <td>0.321854</td>\n",
              "      <td>0.378009</td>\n",
              "      <td>0.415114</td>\n",
              "      <td>0.383899</td>\n",
              "      <td>0.304664</td>\n",
              "      <td>0.329899</td>\n",
              "      <td>0.478395</td>\n",
              "      <td>0.182488</td>\n",
              "      <td>0.466142</td>\n",
              "    </tr>\n",
              "    <tr>\n",
              "      <th>min</th>\n",
              "      <td>0.000000</td>\n",
              "      <td>0.000000</td>\n",
              "      <td>0.000000</td>\n",
              "      <td>0.046591</td>\n",
              "      <td>0.261915</td>\n",
              "      <td>-0.042808</td>\n",
              "      <td>0.055683</td>\n",
              "      <td>2.000000</td>\n",
              "      <td>0.000000</td>\n",
              "      <td>0.000000</td>\n",
              "      <td>...</td>\n",
              "      <td>0.000000</td>\n",
              "      <td>0.000000</td>\n",
              "      <td>0.000000</td>\n",
              "      <td>0.000000</td>\n",
              "      <td>0.000000</td>\n",
              "      <td>0.000000</td>\n",
              "      <td>0.000000</td>\n",
              "      <td>0.000000</td>\n",
              "      <td>0.000000</td>\n",
              "      <td>0.000000</td>\n",
              "    </tr>\n",
              "    <tr>\n",
              "      <th>25%</th>\n",
              "      <td>0.000000</td>\n",
              "      <td>0.000000</td>\n",
              "      <td>0.250000</td>\n",
              "      <td>0.359075</td>\n",
              "      <td>0.534457</td>\n",
              "      <td>0.196160</td>\n",
              "      <td>0.391251</td>\n",
              "      <td>10.000000</td>\n",
              "      <td>0.000000</td>\n",
              "      <td>0.000000</td>\n",
              "      <td>...</td>\n",
              "      <td>0.000000</td>\n",
              "      <td>0.000000</td>\n",
              "      <td>0.000000</td>\n",
              "      <td>0.000000</td>\n",
              "      <td>0.000000</td>\n",
              "      <td>0.000000</td>\n",
              "      <td>0.000000</td>\n",
              "      <td>0.000000</td>\n",
              "      <td>0.000000</td>\n",
              "      <td>0.000000</td>\n",
              "    </tr>\n",
              "    <tr>\n",
              "      <th>50%</th>\n",
              "      <td>0.000000</td>\n",
              "      <td>0.000000</td>\n",
              "      <td>1.000000</td>\n",
              "      <td>0.560248</td>\n",
              "      <td>0.614856</td>\n",
              "      <td>0.306383</td>\n",
              "      <td>0.508916</td>\n",
              "      <td>16.000000</td>\n",
              "      <td>0.000000</td>\n",
              "      <td>0.000000</td>\n",
              "      <td>...</td>\n",
              "      <td>0.000000</td>\n",
              "      <td>0.000000</td>\n",
              "      <td>0.000000</td>\n",
              "      <td>0.000000</td>\n",
              "      <td>0.000000</td>\n",
              "      <td>0.000000</td>\n",
              "      <td>0.000000</td>\n",
              "      <td>1.000000</td>\n",
              "      <td>0.000000</td>\n",
              "      <td>0.000000</td>\n",
              "    </tr>\n",
              "    <tr>\n",
              "      <th>75%</th>\n",
              "      <td>1.000000</td>\n",
              "      <td>0.000000</td>\n",
              "      <td>1.000000</td>\n",
              "      <td>0.801929</td>\n",
              "      <td>0.730570</td>\n",
              "      <td>0.411976</td>\n",
              "      <td>0.649994</td>\n",
              "      <td>23.750000</td>\n",
              "      <td>0.000000</td>\n",
              "      <td>1.000000</td>\n",
              "      <td>...</td>\n",
              "      <td>0.000000</td>\n",
              "      <td>0.000000</td>\n",
              "      <td>0.000000</td>\n",
              "      <td>0.000000</td>\n",
              "      <td>0.000000</td>\n",
              "      <td>0.000000</td>\n",
              "      <td>0.000000</td>\n",
              "      <td>1.000000</td>\n",
              "      <td>0.000000</td>\n",
              "      <td>1.000000</td>\n",
              "    </tr>\n",
              "    <tr>\n",
              "      <th>max</th>\n",
              "      <td>1.000000</td>\n",
              "      <td>1.000000</td>\n",
              "      <td>1.000000</td>\n",
              "      <td>0.984424</td>\n",
              "      <td>1.002146</td>\n",
              "      <td>0.800793</td>\n",
              "      <td>0.963300</td>\n",
              "      <td>31.000000</td>\n",
              "      <td>1.000000</td>\n",
              "      <td>1.000000</td>\n",
              "      <td>...</td>\n",
              "      <td>1.000000</td>\n",
              "      <td>1.000000</td>\n",
              "      <td>1.000000</td>\n",
              "      <td>1.000000</td>\n",
              "      <td>1.000000</td>\n",
              "      <td>1.000000</td>\n",
              "      <td>1.000000</td>\n",
              "      <td>1.000000</td>\n",
              "      <td>1.000000</td>\n",
              "      <td>1.000000</td>\n",
              "    </tr>\n",
              "  </tbody>\n",
              "</table>\n",
              "<p>8 rows × 31 columns</p>\n",
              "</div>\n",
              "      <button class=\"colab-df-convert\" onclick=\"convertToInteractive('df-fb214b0c-1b9c-4c61-adc1-949db3363ddb')\"\n",
              "              title=\"Convert this dataframe to an interactive table.\"\n",
              "              style=\"display:none;\">\n",
              "        \n",
              "  <svg xmlns=\"http://www.w3.org/2000/svg\" height=\"24px\"viewBox=\"0 0 24 24\"\n",
              "       width=\"24px\">\n",
              "    <path d=\"M0 0h24v24H0V0z\" fill=\"none\"/>\n",
              "    <path d=\"M18.56 5.44l.94 2.06.94-2.06 2.06-.94-2.06-.94-.94-2.06-.94 2.06-2.06.94zm-11 1L8.5 8.5l.94-2.06 2.06-.94-2.06-.94L8.5 2.5l-.94 2.06-2.06.94zm10 10l.94 2.06.94-2.06 2.06-.94-2.06-.94-.94-2.06-.94 2.06-2.06.94z\"/><path d=\"M17.41 7.96l-1.37-1.37c-.4-.4-.92-.59-1.43-.59-.52 0-1.04.2-1.43.59L10.3 9.45l-7.72 7.72c-.78.78-.78 2.05 0 2.83L4 21.41c.39.39.9.59 1.41.59.51 0 1.02-.2 1.41-.59l7.78-7.78 2.81-2.81c.8-.78.8-2.07 0-2.86zM5.41 20L4 18.59l7.72-7.72 1.47 1.35L5.41 20z\"/>\n",
              "  </svg>\n",
              "      </button>\n",
              "      \n",
              "  <style>\n",
              "    .colab-df-container {\n",
              "      display:flex;\n",
              "      flex-wrap:wrap;\n",
              "      gap: 12px;\n",
              "    }\n",
              "\n",
              "    .colab-df-convert {\n",
              "      background-color: #E8F0FE;\n",
              "      border: none;\n",
              "      border-radius: 50%;\n",
              "      cursor: pointer;\n",
              "      display: none;\n",
              "      fill: #1967D2;\n",
              "      height: 32px;\n",
              "      padding: 0 0 0 0;\n",
              "      width: 32px;\n",
              "    }\n",
              "\n",
              "    .colab-df-convert:hover {\n",
              "      background-color: #E2EBFA;\n",
              "      box-shadow: 0px 1px 2px rgba(60, 64, 67, 0.3), 0px 1px 3px 1px rgba(60, 64, 67, 0.15);\n",
              "      fill: #174EA6;\n",
              "    }\n",
              "\n",
              "    [theme=dark] .colab-df-convert {\n",
              "      background-color: #3B4455;\n",
              "      fill: #D2E3FC;\n",
              "    }\n",
              "\n",
              "    [theme=dark] .colab-df-convert:hover {\n",
              "      background-color: #434B5C;\n",
              "      box-shadow: 0px 1px 3px 1px rgba(0, 0, 0, 0.15);\n",
              "      filter: drop-shadow(0px 1px 2px rgba(0, 0, 0, 0.3));\n",
              "      fill: #FFFFFF;\n",
              "    }\n",
              "  </style>\n",
              "\n",
              "      <script>\n",
              "        const buttonEl =\n",
              "          document.querySelector('#df-fb214b0c-1b9c-4c61-adc1-949db3363ddb button.colab-df-convert');\n",
              "        buttonEl.style.display =\n",
              "          google.colab.kernel.accessAllowed ? 'block' : 'none';\n",
              "\n",
              "        async function convertToInteractive(key) {\n",
              "          const element = document.querySelector('#df-fb214b0c-1b9c-4c61-adc1-949db3363ddb');\n",
              "          const dataTable =\n",
              "            await google.colab.kernel.invokeFunction('convertToInteractive',\n",
              "                                                     [key], {});\n",
              "          if (!dataTable) return;\n",
              "\n",
              "          const docLinkHtml = 'Like what you see? Visit the ' +\n",
              "            '<a target=\"_blank\" href=https://colab.research.google.com/notebooks/data_table.ipynb>data table notebook</a>'\n",
              "            + ' to learn more about interactive tables.';\n",
              "          element.innerHTML = '';\n",
              "          dataTable['output_type'] = 'display_data';\n",
              "          await google.colab.output.renderOutput(dataTable, element);\n",
              "          const docLink = document.createElement('div');\n",
              "          docLink.innerHTML = docLinkHtml;\n",
              "          element.appendChild(docLink);\n",
              "        }\n",
              "      </script>\n",
              "    </div>\n",
              "  </div>\n",
              "  "
            ]
          },
          "metadata": {},
          "execution_count": 77
        }
      ]
    },
    {
      "cell_type": "markdown",
      "source": [
        "So scaling has worked.\n",
        "Lets create X and y for test data."
      ],
      "metadata": {
        "id": "C_-2wD44Hqxr"
      }
    },
    {
      "cell_type": "code",
      "source": [
        "# create x and y for test data\n",
        "y_test = df_test.pop('cnt')\n",
        "X_test = df_test"
      ],
      "metadata": {
        "id": "LZ3MFFluJI6O"
      },
      "execution_count": 78,
      "outputs": []
    },
    {
      "cell_type": "markdown",
      "source": [
        "Lets create final X for test by selecting only the selected features."
      ],
      "metadata": {
        "id": "KVnT1VI9JnQn"
      }
    },
    {
      "cell_type": "code",
      "source": [
        "# Creating X_test_reg out of the significant variables col_list\n",
        "X_test_reg = X_test[col_list]"
      ],
      "metadata": {
        "id": "B_7hKOxEJngN"
      },
      "execution_count": 79,
      "outputs": []
    },
    {
      "cell_type": "markdown",
      "source": [
        "\n",
        "Now lets predict for test data."
      ],
      "metadata": {
        "id": "ATsubgOMJP_m"
      }
    },
    {
      "cell_type": "code",
      "source": [
        "# Predicting the values for test data\n",
        "y_test_pred = lr_model.predict(X_test_reg)"
      ],
      "metadata": {
        "id": "qnzdkqONHgDs"
      },
      "execution_count": 80,
      "outputs": []
    },
    {
      "cell_type": "markdown",
      "source": [
        "Lets evaluate the model performance on test data.\n",
        "Lets visulaiz the results first."
      ],
      "metadata": {
        "id": "5E2-5a0dHpgk"
      }
    },
    {
      "cell_type": "code",
      "source": [
        "# Plotting a regplot between y_test and y_pred\n",
        "sns.regplot(y_test,y_test_pred)\n",
        "plt.title(\"Plot of prediction and ground truth of test data\")\n",
        "plt.xlabel(\"predicted values in test data\")\n",
        "plt.ylabel(\"Actual values in test data\")\n",
        "plt.show()"
      ],
      "metadata": {
        "id": "YrWHsriGKGbL",
        "colab": {
          "base_uri": "https://localhost:8080/",
          "height": 295
        },
        "outputId": "88271ded-830c-4603-cdbd-73295bbdfd7b"
      },
      "execution_count": 81,
      "outputs": [
        {
          "output_type": "display_data",
          "data": {
            "text/plain": [
              "<Figure size 432x288 with 1 Axes>"
            ],
            "image/png": "[encoded data removed]"
          },
          "metadata": {
            "needs_background": "light"
          }
        }
      ]
    },
    {
      "cell_type": "markdown",
      "source": [
        "We see that y_test is linearly distributed and y_pred is the best fit line.\n",
        "Now lets check R2 values."
      ],
      "metadata": {
        "id": "wXcgjAb3KSNs"
      }
    },
    {
      "cell_type": "code",
      "source": [
        "# R2 score on test data\n",
        "R2_test = r2_score(y_test,y_test_pred)\n",
        "R2_test\n",
        "\n"
      ],
      "metadata": {
        "id": "y4ZKePZiKIlR",
        "colab": {
          "base_uri": "https://localhost:8080/"
        },
        "outputId": "a697da29-e599-456b-ae69-8cac06471bfc"
      },
      "execution_count": 82,
      "outputs": [
        {
          "output_type": "execute_result",
          "data": {
            "text/plain": [
              "0.7783161914468111"
            ]
          },
          "metadata": {},
          "execution_count": 82
        }
      ]
    },
    {
      "cell_type": "code",
      "source": [
        "# Calculating the Adjusted R2 value using formula\n",
        "# no of samples\n",
        "n = len(X_test.index)\n",
        "# no of final features\n",
        "p = len(lr_model.coef_)\n",
        "Adj_R2_test = 1-(1-R2_test)*(n-1)/(n-p-1)\n",
        "Adj_R2_test"
      ],
      "metadata": {
        "id": "yVIOTyWoKuVB",
        "colab": {
          "base_uri": "https://localhost:8080/"
        },
        "outputId": "1051dc3e-eca3-4661-b485-07a16be2a266"
      },
      "execution_count": 83,
      "outputs": [
        {
          "output_type": "execute_result",
          "data": {
            "text/plain": [
              "0.7653711515312964"
            ]
          },
          "metadata": {},
          "execution_count": 83
        }
      ]
    },
    {
      "cell_type": "markdown",
      "source": [
        "### Insight\n",
        "We see that adjusted R2 value on test data 0.76 is close to that on train data of 0.82. Hence the model has not overfitted and the model has actually learned from the train data."
      ],
      "metadata": {
        "id": "HQElHm0bvJEy"
      }
    },
    {
      "cell_type": "markdown",
      "source": [
        "Lets see mean square error metric of model."
      ],
      "metadata": {
        "id": "JrmVLQfju1nH"
      }
    },
    {
      "cell_type": "code",
      "source": [
        "# The mean squared error\n",
        "print(\"Mean squared error: %.2f\" % mean_squared_error(y_test,y_test_pred))"
      ],
      "metadata": {
        "id": "oLcxQh5Qu14N",
        "colab": {
          "base_uri": "https://localhost:8080/"
        },
        "outputId": "21e34fbc-3da4-4280-be95-f13c9f806dc7"
      },
      "execution_count": 84,
      "outputs": [
        {
          "output_type": "stream",
          "name": "stdout",
          "text": [
            "Mean squared error: 0.01\n"
          ]
        }
      ]
    },
    {
      "cell_type": "markdown",
      "source": [
        "This is excellent value as the mean square error is negligible here"
      ],
      "metadata": {
        "id": "9_DJS4KpVzip"
      }
    },
    {
      "cell_type": "markdown",
      "source": [
        "# Model Evaluation"
      ],
      "metadata": {
        "id": "G98aPyHPlVXG"
      }
    },
    {
      "cell_type": "markdown",
      "source": [
        "## Model performance\n",
        "\n",
        "How well the the predictors describe the target variable is given by : R2 value and mean square error value of model.\n",
        "\n",
        "####Mean square error value of model is: 0,01\n",
        "\n",
        "####Adjusted R2 value on train data:\n",
        " 0.82\n",
        "####Adjusted R2 value on test data:\n",
        " 0.76\n",
        "\n",
        "#####So model is explained to explain close to 80% of variance on average in data.Also since adjusted R2 value on both train and test data is similar, hence there is no overfitting in our model.\n",
        "\n",
        "####Prob (F-statistic): 3.35e-213         \n",
        "Value close to 0 shows that the model is a good fit on data.\n",
        "#####p values of features selected: all equal to zero. VIF values of features selected: all less than 5 shows that  all features selected are significant and independent.\n",
        "\n",
        "\n",
        "All assumptions of LR is validated for final model and it is a valid model."
      ],
      "metadata": {
        "id": "203V1E0cmbbS"
      }
    },
    {
      "cell_type": "markdown",
      "source": [
        "\n",
        "Now lets see the significant features and their coefficients."
      ],
      "metadata": {
        "id": "qgCUGoZvMfSb"
      }
    },
    {
      "cell_type": "code",
      "source": [
        "# Create dataframe with the significant features and the their respective coefficeints\n",
        "coefficients = pd.DataFrame({\"features\": col_list, \"coefficients\": lr_model.coef_})\n",
        "coefficients.sort_values(by = 'coefficients',ascending = False)\n",
        "\n"
      ],
      "metadata": {
        "id": "VceE-zRfLMCO",
        "colab": {
          "base_uri": "https://localhost:8080/",
          "height": 300
        },
        "outputId": "22ba6ede-656a-4168-a32e-34798e309c8e"
      },
      "execution_count": 85,
      "outputs": [
        {
          "output_type": "execute_result",
          "data": {
            "text/plain": [
              "                features  coefficients\n",
              "1                   temp      0.486593\n",
              "0                     yr      0.230952\n",
              "4          season_winter      0.049675\n",
              "7        weathersit_mist     -0.075744\n",
              "5              mnth_July     -0.085882\n",
              "3          season_spring     -0.118664\n",
              "2              windspeed     -0.146222\n",
              "6  weathersit_light rain     -0.282843"
            ],
            "text/html": [
              "\n",
              "  <div id=\"df-b696a8e7-edc5-4da2-9c84-c735345e6356\">\n",
              "    <div class=\"colab-df-container\">\n",
              "      <div>\n",
              "<style scoped>\n",
              "    .dataframe tbody tr th:only-of-type {\n",
              "        vertical-align: middle;\n",
              "    }\n",
              "\n",
              "    .dataframe tbody tr th {\n",
              "        vertical-align: top;\n",
              "    }\n",
              "\n",
              "    .dataframe thead th {\n",
              "        text-align: right;\n",
              "    }\n",
              "</style>\n",
              "<table border=\"1\" class=\"dataframe\">\n",
              "  <thead>\n",
              "    <tr style=\"text-align: right;\">\n",
              "      <th></th>\n",
              "      <th>features</th>\n",
              "      <th>coefficients</th>\n",
              "    </tr>\n",
              "  </thead>\n",
              "  <tbody>\n",
              "    <tr>\n",
              "      <th>1</th>\n",
              "      <td>temp</td>\n",
              "      <td>0.486593</td>\n",
              "    </tr>\n",
              "    <tr>\n",
              "      <th>0</th>\n",
              "      <td>yr</td>\n",
              "      <td>0.230952</td>\n",
              "    </tr>\n",
              "    <tr>\n",
              "      <th>4</th>\n",
              "      <td>season_winter</td>\n",
              "      <td>0.049675</td>\n",
              "    </tr>\n",
              "    <tr>\n",
              "      <th>7</th>\n",
              "      <td>weathersit_mist</td>\n",
              "      <td>-0.075744</td>\n",
              "    </tr>\n",
              "    <tr>\n",
              "      <th>5</th>\n",
              "      <td>mnth_July</td>\n",
              "      <td>-0.085882</td>\n",
              "    </tr>\n",
              "    <tr>\n",
              "      <th>3</th>\n",
              "      <td>season_spring</td>\n",
              "      <td>-0.118664</td>\n",
              "    </tr>\n",
              "    <tr>\n",
              "      <th>2</th>\n",
              "      <td>windspeed</td>\n",
              "      <td>-0.146222</td>\n",
              "    </tr>\n",
              "    <tr>\n",
              "      <th>6</th>\n",
              "      <td>weathersit_light rain</td>\n",
              "      <td>-0.282843</td>\n",
              "    </tr>\n",
              "  </tbody>\n",
              "</table>\n",
              "</div>\n",
              "      <button class=\"colab-df-convert\" onclick=\"convertToInteractive('df-b696a8e7-edc5-4da2-9c84-c735345e6356')\"\n",
              "              title=\"Convert this dataframe to an interactive table.\"\n",
              "              style=\"display:none;\">\n",
              "        \n",
              "  <svg xmlns=\"http://www.w3.org/2000/svg\" height=\"24px\"viewBox=\"0 0 24 24\"\n",
              "       width=\"24px\">\n",
              "    <path d=\"M0 0h24v24H0V0z\" fill=\"none\"/>\n",
              "    <path d=\"M18.56 5.44l.94 2.06.94-2.06 2.06-.94-2.06-.94-.94-2.06-.94 2.06-2.06.94zm-11 1L8.5 8.5l.94-2.06 2.06-.94-2.06-.94L8.5 2.5l-.94 2.06-2.06.94zm10 10l.94 2.06.94-2.06 2.06-.94-2.06-.94-.94-2.06-.94 2.06-2.06.94z\"/><path d=\"M17.41 7.96l-1.37-1.37c-.4-.4-.92-.59-1.43-.59-.52 0-1.04.2-1.43.59L10.3 9.45l-7.72 7.72c-.78.78-.78 2.05 0 2.83L4 21.41c.39.39.9.59 1.41.59.51 0 1.02-.2 1.41-.59l7.78-7.78 2.81-2.81c.8-.78.8-2.07 0-2.86zM5.41 20L4 18.59l7.72-7.72 1.47 1.35L5.41 20z\"/>\n",
              "  </svg>\n",
              "      </button>\n",
              "      \n",
              "  <style>\n",
              "    .colab-df-container {\n",
              "      display:flex;\n",
              "      flex-wrap:wrap;\n",
              "      gap: 12px;\n",
              "    }\n",
              "\n",
              "    .colab-df-convert {\n",
              "      background-color: #E8F0FE;\n",
              "      border: none;\n",
              "      border-radius: 50%;\n",
              "      cursor: pointer;\n",
              "      display: none;\n",
              "      fill: #1967D2;\n",
              "      height: 32px;\n",
              "      padding: 0 0 0 0;\n",
              "      width: 32px;\n",
              "    }\n",
              "\n",
              "    .colab-df-convert:hover {\n",
              "      background-color: #E2EBFA;\n",
              "      box-shadow: 0px 1px 2px rgba(60, 64, 67, 0.3), 0px 1px 3px 1px rgba(60, 64, 67, 0.15);\n",
              "      fill: #174EA6;\n",
              "    }\n",
              "\n",
              "    [theme=dark] .colab-df-convert {\n",
              "      background-color: #3B4455;\n",
              "      fill: #D2E3FC;\n",
              "    }\n",
              "\n",
              "    [theme=dark] .colab-df-convert:hover {\n",
              "      background-color: #434B5C;\n",
              "      box-shadow: 0px 1px 3px 1px rgba(0, 0, 0, 0.15);\n",
              "      filter: drop-shadow(0px 1px 2px rgba(0, 0, 0, 0.3));\n",
              "      fill: #FFFFFF;\n",
              "    }\n",
              "  </style>\n",
              "\n",
              "      <script>\n",
              "        const buttonEl =\n",
              "          document.querySelector('#df-b696a8e7-edc5-4da2-9c84-c735345e6356 button.colab-df-convert');\n",
              "        buttonEl.style.display =\n",
              "          google.colab.kernel.accessAllowed ? 'block' : 'none';\n",
              "\n",
              "        async function convertToInteractive(key) {\n",
              "          const element = document.querySelector('#df-b696a8e7-edc5-4da2-9c84-c735345e6356');\n",
              "          const dataTable =\n",
              "            await google.colab.kernel.invokeFunction('convertToInteractive',\n",
              "                                                     [key], {});\n",
              "          if (!dataTable) return;\n",
              "\n",
              "          const docLinkHtml = 'Like what you see? Visit the ' +\n",
              "            '<a target=\"_blank\" href=https://colab.research.google.com/notebooks/data_table.ipynb>data table notebook</a>'\n",
              "            + ' to learn more about interactive tables.';\n",
              "          element.innerHTML = '';\n",
              "          dataTable['output_type'] = 'display_data';\n",
              "          await google.colab.output.renderOutput(dataTable, element);\n",
              "          const docLink = document.createElement('div');\n",
              "          docLink.innerHTML = docLinkHtml;\n",
              "          element.appendChild(docLink);\n",
              "        }\n",
              "      </script>\n",
              "    </div>\n",
              "  </div>\n",
              "  "
            ]
          },
          "metadata": {},
          "execution_count": 85
        }
      ]
    },
    {
      "cell_type": "markdown",
      "source": [
        "Top 3 predictors are : temperature and year both related positively an to demand and light rain weather related negatively to demand."
      ],
      "metadata": {
        "id": "4VDCSSMBzCSS"
      }
    },
    {
      "cell_type": "markdown",
      "source": [
        "### Interpretation of coefficients\n",
        "\n",
        "We see that there are total 8 features.\n",
        "\n",
        "3 features namely 'yr','temp','season_winter'\n",
        "have positive coefficents. That means a unit increase in value of these features when other features are constant increases the demand by value of coefficient of the corresponding feature.\n",
        "\n",
        "5 features namely 'mnth_Sept','season_summer', 'windspeed','weathersit_light rain'and 'weathersit_mist'\n",
        "have positive coefficents. That means a unit increase in value of these features when other features are constant increases the demand by value of coefficient of the corresponding feature.\n",
        "\n",
        "\n",
        "The most important feature are temperature , year and light rain weather as they have coefficients more than 0.2.\n",
        "\n"
      ],
      "metadata": {
        "id": "h7Bhx6_ol_xH"
      }
    },
    {
      "cell_type": "markdown",
      "source": [
        "The best fit line equation is given by"
      ],
      "metadata": {
        "id": "Ogt8Hy-VuvK7"
      }
    },
    {
      "cell_type": "code",
      "source": [
        "# Add constant term\n",
        "print(\"cnt = 0.24 +\", end = \" \")\n",
        "# add feature and its coefficint product\n",
        "for i in range(len(coefficients)):\n",
        "  print(coefficients.features[i],\"*\", round(coefficients.coefficients[i],3),\"+\")"
      ],
      "metadata": {
        "id": "ewJW-QNOtcY1",
        "colab": {
          "base_uri": "https://localhost:8080/"
        },
        "outputId": "712cdde9-8d60-4472-b7e7-6072b0d45abb"
      },
      "execution_count": 86,
      "outputs": [
        {
          "output_type": "stream",
          "name": "stdout",
          "text": [
            "cnt = 0.24 + yr * 0.231 +\n",
            "temp * 0.487 +\n",
            "windspeed * -0.146 +\n",
            "season_spring * -0.119 +\n",
            "season_winter * 0.05 +\n",
            "mnth_July * -0.086 +\n",
            "weathersit_light rain * -0.283 +\n",
            "weathersit_mist * -0.076 +\n"
          ]
        }
      ]
    },
    {
      "cell_type": "markdown",
      "source": [
        "# Conclusion"
      ],
      "metadata": {
        "id": "zqHw0AJlrQ13"
      }
    },
    {
      "cell_type": "markdown",
      "source": [
        "So we have modelled a multiple linear regression model for the bike sharing demand for the independent variables. \n",
        "\n",
        "It helps us understand the demand dynamic. For example model tells us that demand is higher duting higher tempeature days and also that demand is expected to increase year wise. \n",
        "\n",
        "It also helps in formulating business strategy.\n",
        "A srategy could be to increase availabilty of price during high demand expected period according to model and to give discounts and offers during lower demand expected period."
      ],
      "metadata": {
        "id": "EpjQOoSMpwel"
      }
    }
  ]
}